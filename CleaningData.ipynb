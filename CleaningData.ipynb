{
  "cells": [
    {
      "cell_type": "markdown",
      "metadata": {
        "id": "ylD4D_IAZcA6"
      },
      "source": []
    },
    {
      "cell_type": "markdown",
      "source": [
        "### Stock Market Data Cleaning Pipeline  \n",
        "\n",
        "Pipeline de limpeza e preparação de dados para análise financeira do dataset `stock_part1.csv`.\n",
        "\n",
        "---\n",
        "\n",
        "#### **Principais Etapas**  \n",
        "\n",
        "1. **Datas**  \n",
        "   - Conversão para formato `datetime` com reconhecimento automático de padrões.  \n",
        "   - Identificação de 1.015% de datas inválidas (convertidas para `NaT`).  \n",
        "   - Correção de 498 registros com datas futuras (troca de dia/mês).  \n",
        "\n",
        "2. **Tickers**  \n",
        "   - Padronização em caixa alta e remoção de espaços.  \n",
        "   - Correção de 2,408 tickers com erros via *fuzzy matching* (limiar: 65% de similaridade).  \n",
        "   - 164 tickers raros válidos mantidos sem alteração.  \n",
        "\n",
        "3. **Colunas Numéricas**  \n",
        "   - Remoção de caracteres especiais (`$`, `Z→2`, `,`→`.`).  \n",
        "   - Conversão para `float` em: `Open`, `High`, `Low`, `Close`, `Adj Close`, `Dividend`.  \n",
        "   - Reordenação automática de valores para garantir `High ≥ Low`.  \n",
        "\n",
        "4. **Volume**  \n",
        "   - Padronização de unidades (`K`→×10³, `M`→×10⁶, `B`→×10⁹).  \n",
        "   - Conversão para inteiro (`int64`).  \n",
        "\n",
        "5. **Split Ratio**  \n",
        "   - Identificação de 25.76% de valores inválidos.  \n",
        "   - Padronização para formatos `1:1`, `2:1`, `3:2` quando possível.\n",
        "   - \"Valor inválidos\" para aqueles que não fui possível fazer a inferencia de valor"
      ],
      "metadata": {
        "id": "Ynl7oJ__dakc"
      }
    },
    {
      "cell_type": "code",
      "execution_count": null,
      "metadata": {
        "colab": {
          "base_uri": "https://localhost:8080/"
        },
        "id": "jL8VLiF5qtm5",
        "outputId": "c34a11d0-37ee-4c69-bb19-de79d73d4f8c",
        "collapsed": true
      },
      "outputs": [
        {
          "name": "stdout",
          "output_type": "stream",
          "text": [
            "Defaulting to user installation because normal site-packages is not writeable\n",
            "Requirement already satisfied: fuzzywuzzy in c:\\users\\artur\\appdata\\local\\packages\\pythonsoftwarefoundation.python.3.12_qbz5n2kfra8p0\\localcache\\local-packages\\python312\\site-packages (0.18.0)\n",
            "Note: you may need to restart the kernel to use updated packages.\n",
            "Defaulting to user installation because normal site-packages is not writeable\n",
            "Requirement already satisfied: Levenshtein in c:\\users\\artur\\appdata\\local\\packages\\pythonsoftwarefoundation.python.3.12_qbz5n2kfra8p0\\localcache\\local-packages\\python312\\site-packages (0.27.1)\n",
            "Requirement already satisfied: rapidfuzz<4.0.0,>=3.9.0 in c:\\users\\artur\\appdata\\local\\packages\\pythonsoftwarefoundation.python.3.12_qbz5n2kfra8p0\\localcache\\local-packages\\python312\\site-packages (from Levenshtein) (3.13.0)\n",
            "Note: you may need to restart the kernel to use updated packages.\n",
            "Defaulting to user installation because normal site-packages is not writeable\n",
            "Requirement already satisfied: yahoo-finance in c:\\users\\artur\\appdata\\local\\packages\\pythonsoftwarefoundation.python.3.12_qbz5n2kfra8p0\\localcache\\local-packages\\python312\\site-packages (1.4.0)\n",
            "Requirement already satisfied: pytz in c:\\users\\artur\\appdata\\local\\packages\\pythonsoftwarefoundation.python.3.12_qbz5n2kfra8p0\\localcache\\local-packages\\python312\\site-packages (from yahoo-finance) (2025.2)\n",
            "Requirement already satisfied: simplejson in c:\\users\\artur\\appdata\\local\\packages\\pythonsoftwarefoundation.python.3.12_qbz5n2kfra8p0\\localcache\\local-packages\\python312\\site-packages (from yahoo-finance) (3.20.1)\n",
            "Note: you may need to restart the kernel to use updated packages.\n",
            "Defaulting to user installation because normal site-packages is not writeable\n",
            "Requirement already satisfied: yfinance in c:\\users\\artur\\appdata\\local\\packages\\pythonsoftwarefoundation.python.3.12_qbz5n2kfra8p0\\localcache\\local-packages\\python312\\site-packages (0.2.61)\n",
            "Requirement already satisfied: pandas>=1.3.0 in c:\\users\\artur\\appdata\\local\\packages\\pythonsoftwarefoundation.python.3.12_qbz5n2kfra8p0\\localcache\\local-packages\\python312\\site-packages (from yfinance) (2.2.3)\n",
            "Requirement already satisfied: numpy>=1.16.5 in c:\\users\\artur\\appdata\\local\\packages\\pythonsoftwarefoundation.python.3.12_qbz5n2kfra8p0\\localcache\\local-packages\\python312\\site-packages (from yfinance) (2.2.5)\n",
            "Requirement already satisfied: requests>=2.31 in c:\\users\\artur\\appdata\\local\\packages\\pythonsoftwarefoundation.python.3.12_qbz5n2kfra8p0\\localcache\\local-packages\\python312\\site-packages (from yfinance) (2.32.3)\n",
            "Requirement already satisfied: multitasking>=0.0.7 in c:\\users\\artur\\appdata\\local\\packages\\pythonsoftwarefoundation.python.3.12_qbz5n2kfra8p0\\localcache\\local-packages\\python312\\site-packages (from yfinance) (0.0.11)\n",
            "Requirement already satisfied: platformdirs>=2.0.0 in c:\\users\\artur\\appdata\\local\\packages\\pythonsoftwarefoundation.python.3.12_qbz5n2kfra8p0\\localcache\\local-packages\\python312\\site-packages (from yfinance) (4.3.8)\n",
            "Requirement already satisfied: pytz>=2022.5 in c:\\users\\artur\\appdata\\local\\packages\\pythonsoftwarefoundation.python.3.12_qbz5n2kfra8p0\\localcache\\local-packages\\python312\\site-packages (from yfinance) (2025.2)\n",
            "Requirement already satisfied: frozendict>=2.3.4 in c:\\users\\artur\\appdata\\local\\packages\\pythonsoftwarefoundation.python.3.12_qbz5n2kfra8p0\\localcache\\local-packages\\python312\\site-packages (from yfinance) (2.4.6)\n",
            "Requirement already satisfied: peewee>=3.16.2 in c:\\users\\artur\\appdata\\local\\packages\\pythonsoftwarefoundation.python.3.12_qbz5n2kfra8p0\\localcache\\local-packages\\python312\\site-packages (from yfinance) (3.18.1)\n",
            "Requirement already satisfied: beautifulsoup4>=4.11.1 in c:\\users\\artur\\appdata\\local\\packages\\pythonsoftwarefoundation.python.3.12_qbz5n2kfra8p0\\localcache\\local-packages\\python312\\site-packages (from yfinance) (4.13.4)\n",
            "Requirement already satisfied: curl_cffi>=0.7 in c:\\users\\artur\\appdata\\local\\packages\\pythonsoftwarefoundation.python.3.12_qbz5n2kfra8p0\\localcache\\local-packages\\python312\\site-packages (from yfinance) (0.11.1)\n",
            "Requirement already satisfied: protobuf>=3.19.0 in c:\\users\\artur\\appdata\\local\\packages\\pythonsoftwarefoundation.python.3.12_qbz5n2kfra8p0\\localcache\\local-packages\\python312\\site-packages (from yfinance) (6.31.0)\n",
            "Requirement already satisfied: websockets>=13.0 in c:\\users\\artur\\appdata\\local\\packages\\pythonsoftwarefoundation.python.3.12_qbz5n2kfra8p0\\localcache\\local-packages\\python312\\site-packages (from yfinance) (15.0.1)\n",
            "Requirement already satisfied: soupsieve>1.2 in c:\\users\\artur\\appdata\\local\\packages\\pythonsoftwarefoundation.python.3.12_qbz5n2kfra8p0\\localcache\\local-packages\\python312\\site-packages (from beautifulsoup4>=4.11.1->yfinance) (2.7)\n",
            "Requirement already satisfied: typing-extensions>=4.0.0 in c:\\users\\artur\\appdata\\local\\packages\\pythonsoftwarefoundation.python.3.12_qbz5n2kfra8p0\\localcache\\local-packages\\python312\\site-packages (from beautifulsoup4>=4.11.1->yfinance) (4.13.2)\n",
            "Requirement already satisfied: cffi>=1.12.0 in c:\\users\\artur\\appdata\\local\\packages\\pythonsoftwarefoundation.python.3.12_qbz5n2kfra8p0\\localcache\\local-packages\\python312\\site-packages (from curl_cffi>=0.7->yfinance) (1.17.1)\n",
            "Requirement already satisfied: certifi>=2024.2.2 in c:\\users\\artur\\appdata\\local\\packages\\pythonsoftwarefoundation.python.3.12_qbz5n2kfra8p0\\localcache\\local-packages\\python312\\site-packages (from curl_cffi>=0.7->yfinance) (2025.4.26)\n",
            "Requirement already satisfied: pycparser in c:\\users\\artur\\appdata\\local\\packages\\pythonsoftwarefoundation.python.3.12_qbz5n2kfra8p0\\localcache\\local-packages\\python312\\site-packages (from cffi>=1.12.0->curl_cffi>=0.7->yfinance) (2.22)\n",
            "Requirement already satisfied: python-dateutil>=2.8.2 in c:\\users\\artur\\appdata\\local\\packages\\pythonsoftwarefoundation.python.3.12_qbz5n2kfra8p0\\localcache\\local-packages\\python312\\site-packages (from pandas>=1.3.0->yfinance) (2.9.0.post0)\n",
            "Requirement already satisfied: tzdata>=2022.7 in c:\\users\\artur\\appdata\\local\\packages\\pythonsoftwarefoundation.python.3.12_qbz5n2kfra8p0\\localcache\\local-packages\\python312\\site-packages (from pandas>=1.3.0->yfinance) (2025.2)\n",
            "Requirement already satisfied: six>=1.5 in c:\\users\\artur\\appdata\\local\\packages\\pythonsoftwarefoundation.python.3.12_qbz5n2kfra8p0\\localcache\\local-packages\\python312\\site-packages (from python-dateutil>=2.8.2->pandas>=1.3.0->yfinance) (1.17.0)\n",
            "Requirement already satisfied: charset-normalizer<4,>=2 in c:\\users\\artur\\appdata\\local\\packages\\pythonsoftwarefoundation.python.3.12_qbz5n2kfra8p0\\localcache\\local-packages\\python312\\site-packages (from requests>=2.31->yfinance) (3.4.2)\n",
            "Requirement already satisfied: idna<4,>=2.5 in c:\\users\\artur\\appdata\\local\\packages\\pythonsoftwarefoundation.python.3.12_qbz5n2kfra8p0\\localcache\\local-packages\\python312\\site-packages (from requests>=2.31->yfinance) (3.10)\n",
            "Requirement already satisfied: urllib3<3,>=1.21.1 in c:\\users\\artur\\appdata\\local\\packages\\pythonsoftwarefoundation.python.3.12_qbz5n2kfra8p0\\localcache\\local-packages\\python312\\site-packages (from requests>=2.31->yfinance) (2.4.0)\n",
            "Note: you may need to restart the kernel to use updated packages.\n",
            "Defaulting to user installation because normal site-packages is not writeable\n",
            "Requirement already satisfied: nbformat in c:\\users\\artur\\appdata\\local\\packages\\pythonsoftwarefoundation.python.3.12_qbz5n2kfra8p0\\localcache\\local-packages\\python312\\site-packages (5.10.4)\n",
            "Requirement already satisfied: fastjsonschema>=2.15 in c:\\users\\artur\\appdata\\local\\packages\\pythonsoftwarefoundation.python.3.12_qbz5n2kfra8p0\\localcache\\local-packages\\python312\\site-packages (from nbformat) (2.21.1)\n",
            "Requirement already satisfied: jsonschema>=2.6 in c:\\users\\artur\\appdata\\local\\packages\\pythonsoftwarefoundation.python.3.12_qbz5n2kfra8p0\\localcache\\local-packages\\python312\\site-packages (from nbformat) (4.23.0)\n",
            "Requirement already satisfied: jupyter-core!=5.0.*,>=4.12 in c:\\users\\artur\\appdata\\local\\packages\\pythonsoftwarefoundation.python.3.12_qbz5n2kfra8p0\\localcache\\local-packages\\python312\\site-packages (from nbformat) (5.7.2)\n",
            "Requirement already satisfied: traitlets>=5.1 in c:\\users\\artur\\appdata\\local\\packages\\pythonsoftwarefoundation.python.3.12_qbz5n2kfra8p0\\localcache\\local-packages\\python312\\site-packages (from nbformat) (5.14.3)\n",
            "Requirement already satisfied: attrs>=22.2.0 in c:\\users\\artur\\appdata\\local\\packages\\pythonsoftwarefoundation.python.3.12_qbz5n2kfra8p0\\localcache\\local-packages\\python312\\site-packages (from jsonschema>=2.6->nbformat) (25.3.0)\n",
            "Requirement already satisfied: jsonschema-specifications>=2023.03.6 in c:\\users\\artur\\appdata\\local\\packages\\pythonsoftwarefoundation.python.3.12_qbz5n2kfra8p0\\localcache\\local-packages\\python312\\site-packages (from jsonschema>=2.6->nbformat) (2025.4.1)\n",
            "Requirement already satisfied: referencing>=0.28.4 in c:\\users\\artur\\appdata\\local\\packages\\pythonsoftwarefoundation.python.3.12_qbz5n2kfra8p0\\localcache\\local-packages\\python312\\site-packages (from jsonschema>=2.6->nbformat) (0.36.2)\n",
            "Requirement already satisfied: rpds-py>=0.7.1 in c:\\users\\artur\\appdata\\local\\packages\\pythonsoftwarefoundation.python.3.12_qbz5n2kfra8p0\\localcache\\local-packages\\python312\\site-packages (from jsonschema>=2.6->nbformat) (0.25.1)\n",
            "Requirement already satisfied: platformdirs>=2.5 in c:\\users\\artur\\appdata\\local\\packages\\pythonsoftwarefoundation.python.3.12_qbz5n2kfra8p0\\localcache\\local-packages\\python312\\site-packages (from jupyter-core!=5.0.*,>=4.12->nbformat) (4.3.8)\n",
            "Requirement already satisfied: pywin32>=300 in c:\\users\\artur\\appdata\\local\\packages\\pythonsoftwarefoundation.python.3.12_qbz5n2kfra8p0\\localcache\\local-packages\\python312\\site-packages (from jupyter-core!=5.0.*,>=4.12->nbformat) (310)\n",
            "Requirement already satisfied: typing-extensions>=4.4.0 in c:\\users\\artur\\appdata\\local\\packages\\pythonsoftwarefoundation.python.3.12_qbz5n2kfra8p0\\localcache\\local-packages\\python312\\site-packages (from referencing>=0.28.4->jsonschema>=2.6->nbformat) (4.13.2)\n",
            "Note: you may need to restart the kernel to use updated packages.\n",
            "Defaulting to user installation because normal site-packages is not writeable\n",
            "Requirement already satisfied: scipy in c:\\users\\artur\\appdata\\local\\packages\\pythonsoftwarefoundation.python.3.12_qbz5n2kfra8p0\\localcache\\local-packages\\python312\\site-packages (1.15.3)\n",
            "Requirement already satisfied: numpy<2.5,>=1.23.5 in c:\\users\\artur\\appdata\\local\\packages\\pythonsoftwarefoundation.python.3.12_qbz5n2kfra8p0\\localcache\\local-packages\\python312\\site-packages (from scipy) (2.2.5)\n",
            "Note: you may need to restart the kernel to use updated packages.\n"
          ]
        }
      ],
      "source": [
        "%pip install fuzzywuzzy\n",
        "%pip install Levenshtein\n",
        "%pip install yahoo-finance\n",
        "%pip install yfinance\n",
        "%pip install -U nbformat\n",
        "%pip install scipy"
      ]
    },
    {
      "cell_type": "markdown",
      "source": [
        "**Importando as bibliotecas necessárias**\n",
        "- pandas: manipulação do dataframe\n",
        "- numpy: formulas matemáticas mais complexas\n",
        "- fuzzywuzzy: quantificar relação entre palavras\n",
        "- plotly.express: vizualisação dos dados\n",
        "- functools:"
      ],
      "metadata": {
        "id": "ZY6_TOXteend"
      }
    },
    {
      "cell_type": "code",
      "execution_count": null,
      "metadata": {
        "id": "rbU_8KJCATXh"
      },
      "outputs": [],
      "source": [
        "import pandas as pd\n",
        "import numpy as np\n",
        "from fuzzywuzzy import fuzz, process\n",
        "import plotly.express as px\n",
        "from functools import lru_cache"
      ]
    },
    {
      "cell_type": "code",
      "execution_count": null,
      "metadata": {
        "colab": {
          "base_uri": "https://localhost:8080/"
        },
        "id": "szR8vO1grdqf",
        "outputId": "70fe88bd-29a4-47a2-e95a-0960d4cb63b1"
      },
      "outputs": [
        {
          "name": "stdout",
          "output_type": "stream",
          "text": [
            "<class 'pandas.core.frame.DataFrame'>\n",
            "RangeIndex: 200000 entries, 0 to 199999\n",
            "Data columns (total 11 columns):\n",
            " #   Column       Non-Null Count   Dtype \n",
            "---  ------       --------------   ----- \n",
            " 0   ID           200000 non-null  int64 \n",
            " 1   Date         200000 non-null  object\n",
            " 2   Ticker       200000 non-null  object\n",
            " 3   Open         200000 non-null  object\n",
            " 4   High         200000 non-null  object\n",
            " 5   Low          200000 non-null  object\n",
            " 6   Close        200000 non-null  object\n",
            " 7   Adj Close    200000 non-null  object\n",
            " 8   Volume       200000 non-null  object\n",
            " 9   Dividend     200000 non-null  object\n",
            " 10  Split Ratio  161520 non-null  object\n",
            "dtypes: int64(1), object(10)\n",
            "memory usage: 16.8+ MB\n"
          ]
        }
      ],
      "source": [
        "df1 = pd.read_csv('./stock_part1.csv')\n",
        "df1.info()"
      ]
    },
    {
      "cell_type": "markdown",
      "source": [
        "1. **Datas**  \n",
        "\n",
        "Nesse bloco de código, as datas mixadas foram transformadas em um valor padrão.\n",
        "Além disso, foi criada uma coluna de apoio, chamada \"original date\".\n",
        "Datas que não puderam ser padronizadas foram contadas para um tratamento futuro."
      ],
      "metadata": {
        "id": "Us-TTLcyfied"
      }
    },
    {
      "cell_type": "code",
      "execution_count": null,
      "metadata": {
        "colab": {
          "base_uri": "https://localhost:8080/"
        },
        "id": "INl6GN7JzJQk",
        "outputId": "f1e5805b-ffb8-4cf2-e04b-fecfb0bb74f3"
      },
      "outputs": [
        {
          "name": "stdout",
          "output_type": "stream",
          "text": [
            "Percentage of errors: 1.015%\n"
          ]
        }
      ],
      "source": [
        "df1['original_date'] = df1['Date']\n",
        "df1['Date'] = pd.to_datetime(df1['Date'], format=\"mixed\", errors='coerce')\n",
        "invalid_dates = df1[df1['Date'].isna()]\n",
        "error_count = len(invalid_dates)\n",
        "error_percent = error_count / len(df1[\"Date\"])\n",
        "print(f\"Percentage of errors: {error_percent}%\")"
      ]
    },
    {
      "cell_type": "markdown",
      "source": [
        "Teste para encontrar datas que ficaram no futuro"
      ],
      "metadata": {
        "id": "yTjBLTOhgawn"
      }
    },
    {
      "cell_type": "code",
      "execution_count": null,
      "metadata": {
        "colab": {
          "base_uri": "https://localhost:8080/"
        },
        "id": "o7pncqMkCW1x",
        "outputId": "273a18ad-d0b9-420c-e665-79411510f991"
      },
      "outputs": [
        {
          "name": "stdout",
          "output_type": "stream",
          "text": [
            "715      2025-11-02\n",
            "948      2025-09-05\n",
            "1036     2025-07-03\n",
            "2830     2025-09-05\n",
            "2880     2025-10-01\n",
            "            ...    \n",
            "197447   2025-09-03\n",
            "197677   2025-10-03\n",
            "198021   2025-09-05\n",
            "198338   2025-09-05\n",
            "199004   2025-08-04\n",
            "Name: Date, Length: 498, dtype: datetime64[ns]\n"
          ]
        }
      ],
      "source": [
        "from datetime import datetime\n",
        "\n",
        "future_dates = df1[df1['Date'] > datetime.now()][\"Date\"]\n",
        "print(future_dates)"
      ]
    },
    {
      "cell_type": "markdown",
      "source": [
        "Entendendo o comportamento das datas futuras, fica evidente que os meses e dias estão trocados"
      ],
      "metadata": {
        "id": "NnFvcmahhvOh"
      }
    },
    {
      "cell_type": "code",
      "execution_count": null,
      "metadata": {
        "colab": {
          "base_uri": "https://localhost:8080/"
        },
        "id": "Ge6Ahqtz4hSt",
        "outputId": "72f851d9-24ab-48b5-efc5-5670a731e28d"
      },
      "outputs": [
        {
          "name": "stdout",
          "output_type": "stream",
          "text": [
            "5\n"
          ]
        }
      ],
      "source": [
        "maiormes = 0\n",
        "for i in future_dates.dt.strftime('%Y-%m-%d'):\n",
        "    diaatual = int(i[5:7])\n",
        "    mesatual = int(i[-2:])\n",
        "    maiordia = ( diaatual if diaatual > diaatual else diaatual)\n",
        "    maiormes = ( mesatual if mesatual > maiormes else maiormes)\n",
        "\n",
        "print(maiormes)"
      ]
    },
    {
      "cell_type": "markdown",
      "source": [
        "Transformação das datas futuras, remoção do timezone (informação que não tem no df e original_date foi eliminado da coluna"
      ],
      "metadata": {
        "id": "dJlMf3Ghh4a_"
      }
    },
    {
      "cell_type": "code",
      "execution_count": null,
      "metadata": {
        "id": "NZipkaXt4hSt"
      },
      "outputs": [],
      "source": [
        "future_dates = future_dates.apply(lambda x: x.replace(day=x.month, month=x.day) if pd.notnull(x) else x)\n",
        "\n",
        "df1.loc[future_dates.index, \"Date\"] = future_dates\n",
        "df1[\"Date\"] = df1[\"Date\"].apply(lambda x: x.replace(tzinfo=None))\n",
        "# troca datas invalidas para \"data inválida\"\n",
        "df1.loc[invalid_dates.index, \"Date\"] = pd.NaT\n",
        "\n",
        "df1.drop(columns=[\"original_date\"], inplace=True)"
      ]
    },
    {
      "cell_type": "markdown",
      "source": [
        "2. **Tickers**  \n",
        "inicio da limpeza e padronização de tickers"
      ],
      "metadata": {
        "id": "4AQfrU63iM2h"
      }
    },
    {
      "cell_type": "code",
      "execution_count": null,
      "metadata": {
        "colab": {
          "base_uri": "https://localhost:8080/"
        },
        "id": "nkIqZRzxJ8bM",
        "outputId": "a03c46c3-2430-4797-f50f-e81d7296db3c"
      },
      "outputs": [
        {
          "name": "stdout",
          "output_type": "stream",
          "text": [
            "count    3307.000000\n",
            "mean       60.477774\n",
            "std       551.331473\n",
            "min         1.000000\n",
            "25%         1.000000\n",
            "50%         2.000000\n",
            "75%         4.000000\n",
            "max      6161.000000\n",
            "Name: count, dtype: float64\n"
          ]
        }
      ],
      "source": [
        "ticker_counts = df1['Ticker'].value_counts()\n",
        "print(ticker_counts.describe())"
      ]
    },
    {
      "cell_type": "markdown",
      "source": [
        "Padronização básica de tickers, importação do dataframe que contem milhares de tickers válidos da NASDAQ.\n",
        "Tickers válidos serão considerados aqueles que o numero de aparições é maior que 10."
      ],
      "metadata": {
        "id": "gIFDoikYipaZ"
      }
    },
    {
      "cell_type": "code",
      "execution_count": null,
      "metadata": {
        "id": "2TBTyG_FZcA_"
      },
      "outputs": [],
      "source": [
        "df1[\"Ticker\"] = df1[\"Ticker\"].str.upper().str.strip()\n",
        "\n",
        "ticker_counts = df1[\"Ticker\"].value_counts()\n",
        "\n",
        "valid_tickers = list(set(\n",
        "    ticker_counts[ticker_counts > 10].index.tolist()\n",
        "))\n",
        "valid_tickers = [t.upper() for t in valid_tickers]\n",
        "tickers = pd.read_csv(\"./tickers_new.csv\")"
      ]
    },
    {
      "cell_type": "markdown",
      "source": [
        "Função que checa se o ticker é válido ou não"
      ],
      "metadata": {
        "id": "15AsKA1EjNoZ"
      }
    },
    {
      "cell_type": "code",
      "execution_count": null,
      "metadata": {
        "id": "R-Zhvi37ZcA_"
      },
      "outputs": [],
      "source": [
        "@lru_cache(maxsize=None)\n",
        "def is_valid_ticker(ticker):\n",
        "    if ticker in tickers[\"Symbol\"].values:\n",
        "\n",
        "        return True\n",
        "    return False"
      ]
    },
    {
      "cell_type": "markdown",
      "source": [
        "Função que quantifica a semelhança de um ticker comparado a cada elemento de uma lista.\n",
        "Caso o nivel de semelhança seja maior que 65 ele é trocado"
      ],
      "metadata": {
        "id": "LhJqN41yjTUI"
      }
    },
    {
      "cell_type": "code",
      "execution_count": null,
      "metadata": {
        "collapsed": true,
        "id": "bM5aOCsaTplo"
      },
      "outputs": [],
      "source": [
        "def get_fuzzy_match(ticker, candidates, min_score=65):\n",
        "    if not ticker or len(ticker) < 2:\n",
        "        return None\n",
        "    candidates_filtered = [t for t in candidates if abs(len(t) - len(ticker)) <= 1]\n",
        "    if not candidates_filtered:\n",
        "        return None\n",
        "    match, score = process.extractOne(ticker, candidates_filtered)\n",
        "    if score >= min_score:\n",
        "        return match\n",
        "    return None"
      ]
    },
    {
      "cell_type": "markdown",
      "source": [
        "Cria-se um dicionário das correções feitas, passando primeiro pela função is_valid_ticker, caso retorne falso, entra em get_fuzzy_match."
      ],
      "metadata": {
        "id": "eo-rlJ2Rjrxn"
      }
    },
    {
      "cell_type": "code",
      "execution_count": null,
      "metadata": {
        "id": "m3xEjI-VZcA_",
        "outputId": "69a060f3-fe25-4027-86dc-6315c9bf560e"
      },
      "outputs": [
        {
          "name": "stdout",
          "output_type": "stream",
          "text": [
            "Correções feitas:\n",
            "{'RBM': 'CRM', 'BYPL': 'PYPL', 'SAOT': 'SPOT', 'BMZN': 'AMZN', 'INTB': 'INTU', 'AMZB': 'AMZN', 'DOCG': 'DOCU', 'IDM': 'IBM', 'IAPL': 'AAPL', 'ADFE': 'ADBE', 'AFZN': 'AMZN', 'AMW': 'AMD', 'UBJR': 'UBER', 'AMZ': 'AMZN', 'CSRO': 'CSCO', 'IXTU': 'INTU', 'CRN': 'CRM', 'ZMW': 'ZM', 'DMD': 'AMD', 'AAPH': 'AAPL', 'IXM': 'IBM', 'GTOG': 'GOOG', 'MSRT': 'MSFT', 'XAPL': 'AAPL', 'WBM': 'IBM', 'SHHP': 'SHOP', 'OUCL': 'ORCL', 'UBEF': 'UBER', 'DPCU': 'DOCU', 'PINL': 'PINS', 'NLLX': 'NFLX', 'AQPL': 'AAPL', 'WWTR': 'TWTR', 'CSXO': 'CSCO', 'AHD': 'AMD', 'UKER': 'UBER', 'CQM': 'CRM', 'UBEP': 'UBER', 'KMW': 'VMW', 'INLC': 'INTC', 'BABT': 'BABA', 'UBEQ': 'UBER', 'IBY': 'IBM', 'VLW': 'VMW', 'BABS': 'BABA', 'BYBA': 'BABA', 'MAPL': 'AAPL', 'IZTU': 'INTU', 'BHBA': 'BABA', 'AMK': 'AMD', 'ADBM': 'ADBE', 'ZRM': 'ZM', 'SPOH': 'SPOT', 'XYPL': 'PYPL', 'YWTR': 'TWTR', 'YNAP': 'SNAP', 'CRQ': 'CRM', 'AMJ': 'AMD', 'NVJA': 'NVDA', 'NFLJ': 'NFLX', 'BABJ': 'BABA', 'JBM': 'IBM', 'PBPL': 'PYPL', 'MNTU': 'INTU', 'AMQ': 'AMD', 'GBER': 'UBER', 'SHLP': 'SHOP', 'NFHX': 'NFLX', 'CRX': 'CRM', 'SHUP': 'SHOP', 'IMD': 'AMD', 'BAZA': 'BABA', 'TWTN': 'TWTR', 'PBNS': 'PINS', 'MSUT': 'MSFT', 'GORK': 'WORK', 'BABI': 'BABA', 'TETA': 'META', 'BABQ': 'BABA', 'WSCO': 'CSCO', 'MOTA': 'META', 'TABA': 'BABA', 'UBM': 'IBM', 'MEDA': 'META', 'CHM': 'CRM', 'VMN': 'VMW', 'PMW': 'VMW', 'PXPL': 'PYPL', 'PPNS': 'PINS', 'IEM': 'IBM', 'VMZ': 'VMW', 'IBZ': 'IBM', 'SNDP': 'SNAP', 'ORML': 'ORCL', 'RFLX': 'NFLX', 'NFWX': 'NFLX', 'CMW': 'CRM', 'MSFM': 'MSFT', 'CRG': 'CRM', 'JAPL': 'AAPL', 'PIXS': 'PINS', 'CSCY': 'CSCO', 'PIQS': 'PINS', 'AAPC': 'AAPL', 'ATPL': 'AAPL', 'LFFT': 'LYFT', 'INTP': 'INTU', 'CRA': 'CRM', 'GROG': 'GOOG', 'TSLJ': 'TSLA', 'ISM': 'IBM', 'FBM': 'IBM', 'INTM': 'INTU', 'PIRS': 'PINS', 'KFLX': 'NFLX', 'CDM': 'CRM', 'TGTR': 'TWTR', 'SDAP': 'SNAP', 'AUBE': 'UBER', 'IBK': 'IBM', 'TSUA': 'TSLA', 'NFLW': 'NFLX', 'JNTU': 'INTU', 'UABA': 'BABA', 'YRCL': 'ORCL', 'IBF': 'IBM', 'VOW': 'VMW', 'AAUL': 'AAPL', 'PYPM': 'PYPL', 'DRM': 'CRM', 'BOCU': 'DOCU', 'DSFT': 'MSFT', 'KDBE': 'ADBE', 'UWTR': 'TWTR', 'CRO': 'CRM', 'SWAP': 'SNAP', 'URM': 'CRM', 'PYPS': 'PYPL', 'GJOG': 'GOOG', 'JOOG': 'GOOG', 'SHOB': 'SHOP', 'WMZN': 'AMZN', 'OBER': 'UBER', 'TRM': 'CRM', 'EOOG': 'GOOG', 'SPOF': 'SPOT', 'FOCU': 'DOCU', 'WDBE': 'ADBE', 'NZDA': 'NVDA', 'ORM': 'CRM', 'SHOW': 'SHOP', 'CRE': 'CRM', 'DHOP': 'SHOP', 'TXLA': 'TSLA', 'OYCL': 'ORCL', 'CSFT': 'MSFT', 'ILM': 'IBM', 'XSCO': 'CSCO', 'BBBA': 'BABA', 'NMZN': 'AMZN', 'CYFT': 'LYFT', 'WYPL': 'PYPL', 'PIWS': 'PINS', 'SHOK': 'SHOP', 'NFLS': 'NFLX', 'TILA': 'TSLA', 'SNOP': 'SHOP', 'ORCT': 'ORCL', 'TSLN': 'TSLA', 'CBM': 'CRM', 'ABD': 'AMD', 'IBE': 'IBM', 'INTY': 'INTU', 'AMUN': 'AMZN', 'MKTA': 'META', 'CRJ': 'CRM', 'UMZN': 'AMZN', 'ORWL': 'ORCL', 'MWFT': 'MSFT', 'UPOT': 'SPOT', 'PINY': 'PINS', 'FVDA': 'NVDA', 'PUNS': 'PINS', 'MEBA': 'META', 'TBER': 'UBER', 'IBER': 'UBER', 'DORK': 'WORK', 'VVW': 'VMW', 'NFLH': 'NFLX', 'UZER': 'UBER', 'BAEA': 'BABA', 'WYRK': 'WORK', 'GODG': 'GOOG', 'AORK': 'WORK', 'YRM': 'CRM', 'WRRK': 'WORK', 'PRCL': 'ORCL', 'SNWP': 'SNAP', 'LEFT': 'LYFT', 'AMLN': 'AMZN', 'INDU': 'INTU', 'IRCL': 'ORCL', 'GVDA': 'NVDA', 'FSLA': 'TSLA', 'LRM': 'CRM', 'UBQR': 'UBER', 'NVQA': 'NVDA', 'IHOP': 'SHOP', 'METE': 'META', 'CGM': 'CRM', 'IBC': 'IBM', 'NVMA': 'NVDA', 'HNTU': 'INTU', 'ADUE': 'ADBE', 'AQD': 'AMD', 'ESFT': 'MSFT', 'AMDN': 'AMD', 'LNTU': 'INTU', 'WXRK': 'WORK', 'SBOP': 'SHOP', 'SPPT': 'SPOT', 'ARD': 'AMD', 'UBKR': 'UBER', 'INPC': 'INTC', 'JVDA': 'NVDA', 'FMW': 'VMW', 'TWYR': 'TWTR', 'FNTU': 'INTU', 'SNGP': 'SNAP', 'MMFT': 'MSFT', 'CDBE': 'ADBE', 'VMF': 'VMW', 'MSFJ': 'MSFT', 'INTX': 'INTU', 'TSEA': 'TSLA', 'IBU': 'IBM', 'TSGA': 'TSLA', 'AHZN': 'AMZN', 'DUCU': 'DOCU', 'LYFO': 'LYFT', 'SPON': 'SPOT', 'OVDA': 'NVDA', 'AARL': 'AAPL', 'CRP': 'CRM', 'SNAC': 'SNAP', 'UBED': 'UBER', 'ORCJ': 'ORCL', 'MEOA': 'META', 'PMNS': 'PINS', 'SNAA': 'SNAP', 'PTPL': 'PYPL', 'CRB': 'CRM', 'VPW': 'VMW', 'YHOP': 'SHOP', 'IBQ': 'IBM', 'GOQG': 'GOOG', 'VBM': 'VMW', 'METH': 'META', 'LSFT': 'MSFT', 'MBER': 'UBER', 'SPOJ': 'SPOT', 'KSCO': 'CSCO', 'ADQE': 'ADBE', 'JMW': 'VMW', 'GBOG': 'GOOG', 'ABBE': 'ADBE', 'INVC': 'INTC', 'AHPL': 'AAPL', 'SSAP': 'SNAP', 'SRAP': 'SNAP', 'VWW': 'VMW', 'OPCL': 'ORCL', 'HNAP': 'SNAP', 'SKOP': 'SHOP', 'ORCW': 'ORCL', 'INAC': 'INTC', 'DMCU': 'DOCU', 'GOOZ': 'GOOG', 'DOKU': 'DOCU', 'INXC': 'INTC', 'ONCL': 'ORCL', 'MATA': 'META', 'ADOE': 'ADBE', 'LYWT': 'LYFT', 'XABA': 'BABA', 'RMW': 'CRM', 'HMD': 'AMD', 'SROT': 'SPOT', 'BPBA': 'BABA', 'ACPL': 'AAPL', 'AAFL': 'AAPL', 'GOTG': 'GOOG', 'DPOT': 'SPOT', 'VORK': 'WORK', 'CEM': 'CRM', 'YVDA': 'NVDA', 'PFNS': 'PINS', 'IBL': 'IBM', 'NQLX': 'NFLX', 'TWTU': 'TWTR', 'YSFT': 'MSFT', 'CNAP': 'SNAP', 'UBVR': 'UBER', 'AMZL': 'AMZN', 'GOCG': 'GOOG', 'MWTR': 'TWTR', 'AOCU': 'DOCU', 'MEWA': 'META', 'METM': 'META', 'ONAP': 'SNAP', 'SPOB': 'SPOT', 'XSFT': 'MSFT', 'CSCP': 'CSCO', 'WORW': 'WORK', 'IUM': 'IBM', 'WPRK': 'WORK', 'DOCH': 'DOCU', 'LMZN': 'AMZN', 'GNAP': 'SNAP', 'BETA': 'META', 'OPOT': 'SPOT', 'INKC': 'INTC', 'CMM': 'CRM', 'VIW': 'VMW', 'VYFT': 'LYFT', 'GORG': 'GOOG', 'WYFT': 'LYFT', 'AZPL': 'AAPL', 'KBM': 'IBM', 'CRCO': 'CSCO', 'LGFT': 'LYFT', 'MBM': 'IBM', 'LYFG': 'LYFT', 'VSFT': 'MSFT', 'SNAG': 'SNAP', 'PYDL': 'PYPL', 'PZNS': 'PINS', 'METY': 'META', 'MVDA': 'NVDA', 'HYPL': 'PYPL', 'LNTC': 'INTC', 'OINS': 'PINS', 'UYFT': 'LYFT', 'UBFR': 'UBER', 'OMD': 'AMD', 'ANTC': 'INTC', 'GCOG': 'GOOG', 'NMD': 'AMD', 'XORK': 'WORK', 'SHXP': 'SHOP', 'WOGK': 'WORK', 'NVDB': 'NVDA', 'NINS': 'PINS', 'NYLX': 'NFLX', 'GYPL': 'PYPL', 'NOOG': 'GOOG', 'BNTU': 'INTU', 'UBNR': 'UBER', 'PINO': 'PINS', 'SNAW': 'SNAP', 'BAHA': 'BABA', 'FABA': 'BABA', 'INTD': 'INTU', 'CSVO': 'CSCO', 'HFLX': 'NFLX', 'WOOK': 'WORK', 'UGER': 'UBER', 'DORU': 'DOCU', 'TSLM': 'TSLA', 'TVLA': 'TSLA', 'PYNS': 'PINS', 'CSLA': 'TSLA', 'AWD': 'AMD', 'VME': 'VMW', 'SNMP': 'SNAP', 'PINZ': 'PINS', 'GOBG': 'GOOG', 'QAPL': 'AAPL', 'WRM': 'CRM', 'ADGE': 'ADBE', 'FMD': 'AMD', 'AAIL': 'AAPL', 'LYCT': 'LYFT', 'CSCT': 'CSCO', 'VSW': 'VMW', 'DSCO': 'CSCO', 'TWUR': 'TWTR', 'TULA': 'TSLA', 'TWTP': 'TWTR', 'XRM': 'CRM', 'LYFZ': 'LYFT', 'TWTA': 'TWTR', 'BAPL': 'AAPL', 'NVDJ': 'NVDA', 'CPCO': 'CSCO', 'JRM': 'CRM', 'TWTL': 'TWTR', 'ORAL': 'ORCL', 'LYFM': 'LYFT', 'CSCF': 'CSCO', 'KMZN': 'AMZN', 'DOCZ': 'DOCU', 'TWSR': 'TWTR', 'LAPL': 'AAPL', 'SNAU': 'SNAP', 'AUD': 'AMD', 'EDBE': 'ADBE', 'SHOX': 'SHOP', 'UBEI': 'UBER', 'DRCU': 'DOCU', 'PYPT': 'PYPL', 'SPZT': 'SPOT', 'MSFS': 'MSFT', 'NFLO': 'NFLX', 'PYPQ': 'PYPL', 'WDRK': 'WORK', 'AGBE': 'ADBE', 'LHOP': 'SHOP', 'SQOP': 'SHOP', 'DTCU': 'DOCU', 'SOCU': 'DOCU', 'UBES': 'UBER', 'GOOV': 'GOOG', 'AABE': 'ADBE', 'OABA': 'BABA', 'AQBE': 'ADBE', 'AAHL': 'AAPL', 'NDLX': 'NFLX', 'AADL': 'AAPL', 'IBTC': 'INTC', 'GOVG': 'GOOG', 'SKOT': 'SPOT', 'VMX': 'VMW', 'MNTA': 'META', 'BSCO': 'CSCO', 'METG': 'META', 'PSLA': 'TSLA', 'VNW': 'VMW', 'INGC': 'INTC', 'BBM': 'IBM', 'CSCU': 'CSCO', 'EORK': 'WORK', 'TSLD': 'TSLA', 'RABA': 'BABA', 'PIOS': 'PINS', 'LBER': 'UBER', 'MTFT': 'MSFT', 'PINP': 'PINS', 'GRM': 'CRM', 'QPOT': 'SPOT', 'ORCP': 'ORCL', 'INQU': 'INTU', 'AMZG': 'AMZN', 'IMM': 'IBM', 'SPOP': 'SHOP', 'CFCO': 'CSCO', 'IOM': 'IBM', 'UYER': 'UBER', 'PINJ': 'PINS', 'JHOP': 'SHOP', 'CBCO': 'CSCO', 'VRW': 'VMW', 'PNTU': 'INTU', 'AGPL': 'AAPL', 'PYPW': 'PYPL', 'GLOG': 'GOOG', 'AWTR': 'TWTR', 'NJDA': 'NVDA', 'CETA': 'META', 'LYZT': 'LYFT', 'WNAP': 'SNAP', 'NRM': 'CRM', 'AAPF': 'AAPL', 'JNTC': 'INTC', 'SOOT': 'SPOT', 'AHOP': 'SHOP', 'MSNT': 'MSFT', 'PITS': 'PINS', 'MEGA': 'META', 'ZHOP': 'SHOP', 'DOCK': 'DOCU', 'TWPR': 'TWTR', 'SNQP': 'SNAP', 'PYPB': 'PYPL', 'YINS': 'PINS', 'DDBE': 'ADBE', 'VWTR': 'TWTR', 'AAPV': 'AAPL', 'CSUO': 'CSCO', 'INDC': 'INTC', 'PUPL': 'PYPL', 'TSLW': 'TSLA', 'LHFT': 'LYFT', 'PDBE': 'ADBE', 'INHU': 'INTU', 'GOLG': 'GOOG', 'EETA': 'META', 'WORA': 'WORK', 'ANTU': 'INTU', 'DOCR': 'DOCU', 'VMU': 'VMW', 'SHWP': 'SHOP', 'COCU': 'DOCU', 'SPTT': 'SPOT', 'MUFT': 'MSFT', 'TWAR': 'TWTR', 'ORCG': 'ORCL', 'CSWO': 'CSCO', 'USLA': 'TSLA', 'AHBE': 'ADBE', 'PQPL': 'PYPL', 'PIYS': 'PINS', 'TWXR': 'TWTR', 'WMD': 'AMD', 'AYD': 'AMD', 'AGZN': 'AMZN', 'SCOT': 'CSCO', 'NVLA': 'NVDA', 'MSMT': 'MSFT', 'ADBW': 'ADBE', 'SXOP': 'SHOP', 'JMD': 'AMD', 'VVDA': 'NVDA', 'TCLA': 'TSLA', 'PINT': 'INTU', 'TWLA': 'TSLA', 'LYFF': 'LYFT', 'WARK': 'WORK', 'TWTX': 'TWTR', 'NSLA': 'TSLA', 'ANPL': 'AAPL', 'TWQR': 'TWTR', 'METF': 'META', 'OXCL': 'ORCL', 'SHOG': 'SHOP', 'NFAX': 'NFLX', 'PYYL': 'PYPL', 'AMZM': 'AMZN', 'TSFA': 'TSLA', 'SMW': 'VMW', 'WOMK': 'WORK', 'CHOP': 'SHOP', 'VOCU': 'DOCU', 'TSLF': 'TSLA', 'ICTU': 'INTU', 'NFDA': 'NVDA', 'TWTZ': 'TWTR', 'CAM': 'CRM', 'OREL': 'ORCL', 'PYPF': 'PYPL', 'PINR': 'PINS', 'ZRCL': 'ORCL', 'AMM': 'AMD', 'CACO': 'CSCO', 'NULX': 'NFLX', 'UBET': 'UBER', 'XMW': 'VMW', 'BWTR': 'TWTR', 'VMH': 'VMW', 'NBLX': 'NFLX', 'FNAP': 'SNAP', 'NGDA': 'NVDA', 'TNAP': 'SNAP', 'DONU': 'DOCU', 'ZABA': 'BABA', 'TWGR': 'TWTR', 'JFLX': 'NFLX', 'WSRK': 'WORK', 'LCFT': 'LYFT', 'IDBE': 'ADBE', 'NVIA': 'NVDA', 'MBTA': 'META', 'PYTL': 'PYPL', 'AJPL': 'AAPL', 'LLFT': 'LYFT', 'ORSL': 'ORCL', 'GOEG': 'GOOG', 'TWTB': 'TWTR', 'AFD': 'AMD', 'GOGG': 'GOOG', 'LIFT': 'LYFT', 'TTLA': 'TSLA', 'GOOO': 'GOOG', 'WODK': 'WORK', 'CSDO': 'CSCO', 'RSCO': 'CSCO', 'GOOB': 'GOOG', 'METR': 'META', 'DLCU': 'DOCU', 'KSLA': 'TSLA', 'ASD': 'AMD', 'DOQU': 'DOCU', 'IBI': 'IBM', 'GMZN': 'AMZN', 'LOCU': 'DOCU', 'ATD': 'AMD', 'DOCV': 'DOCU', 'NQDA': 'NVDA', 'UBEK': 'UBER', 'LOFT': 'LYFT', 'WOZK': 'WORK', 'ADJE': 'ADBE', 'ALD': 'AMD', 'NVHA': 'NVDA', 'PINU': 'INTU', 'MEUA': 'META', 'GOIG': 'GOOG', 'RETA': 'META', 'ZYPL': 'PYPL', 'CRCL': 'ORCL', 'NVNA': 'NVDA', 'SBER': 'UBER', 'TJLA': 'TSLA', 'PYEL': 'PYPL', 'AED': 'AMD', 'SPOY': 'SPOT', 'VEW': 'VMW', 'WORY': 'WORK', 'WORI': 'WORK', 'WJRK': 'WORK', 'ISTU': 'INTU', 'TWTF': 'TWTR', 'XOCU': 'DOCU', 'RYPL': 'PYPL', 'ABPL': 'AAPL', 'ANAP': 'SNAP', 'YYPL': 'PYPL', 'WOQK': 'WORK', 'UBEY': 'UBER', 'SGAP': 'SNAP', 'MKFT': 'MSFT', 'FORK': 'WORK', 'SHDP': 'SHOP', 'NKDA': 'NVDA', 'SMOP': 'SHOP', 'PONS': 'PINS', 'YBM': 'IBM', 'XETA': 'META', 'TWTQ': 'TWTR', 'IBJ': 'IBM', 'ORCQ': 'ORCL', 'JSCO': 'CSCO', 'UIER': 'UBER', 'SPQT': 'SPOT', 'GPOG': 'GOOG', 'LYFX': 'LYFT', 'SNTP': 'SNAP', 'WOTK': 'WORK', 'OCCL': 'ORCL', 'MSCO': 'CSCO', 'MOCU': 'DOCU', 'CSEO': 'CSCO', 'CQCO': 'CSCO', 'HHOP': 'SHOP', 'AJD': 'AMD', 'ADIE': 'ADBE', 'SLOP': 'SHOP', 'IFTU': 'INTU', 'AAPN': 'AAPL', 'EINS': 'PINS', 'WOYK': 'WORK', 'KOCU': 'DOCU', 'FBER': 'UBER', 'RAPL': 'AAPL', 'AASL': 'AAPL', 'LVFT': 'LYFT', 'PMPL': 'PYPL', 'ZMD': 'ZM', 'CSCX': 'CSCO', 'UHOP': 'SHOP', 'ADZE': 'ADBE', 'PABA': 'BABA', 'SYOT': 'SPOT', 'ACBE': 'ADBE', 'DMW': 'VMW', 'UBZR': 'UBER', 'YABA': 'BABA', 'SPKT': 'SPOT', 'SHYP': 'SHOP', 'TWTT': 'TWTR', 'EVDA': 'NVDA', 'INRU': 'INTU', 'ORCD': 'ORCL', 'SFOP': 'SHOP', 'HRCL': 'ORCL', 'HVDA': 'NVDA', 'TWOR': 'WORK', 'OBM': 'IBM', 'RBER': 'UBER', 'IFM': 'IBM', 'PYFT': 'LYFT', 'VMJ': 'VMW', 'GOWG': 'GOOG', 'AAZN': 'AMZN', 'AAVL': 'AAPL', 'CVDA': 'NVDA', 'DBER': 'UBER', 'DOCM': 'DOCU', 'ALBE': 'ADBE', 'SYAP': 'SNAP', 'XDBE': 'ADBE', 'NCDA': 'NVDA', 'ISFT': 'MSFT', 'LYIT': 'LYFT', 'AANL': 'AAPL', 'BABD': 'BABA', 'DOUU': 'DOCU', 'SPCT': 'SPOT', 'BEBA': 'BABA', 'SHTP': 'SHOP', 'LYNT': 'LYFT', 'ADBD': 'ADBE', 'AMPN': 'AMZN', 'TFLA': 'TSLA', 'PENS': 'PINS', 'DOCP': 'DOCU', 'AAAL': 'AAPL', 'SPMT': 'SPOT', 'TWTO': 'TWTR', 'TMZN': 'AMZN', 'NFLA': 'NFLX', 'AQZN': 'AMZN', 'AFLX': 'NFLX', 'INRC': 'INTC', 'AAPK': 'AAPL', 'WOAK': 'WORK', 'DSCU': 'DOCU', 'BABL': 'BABA', 'TNTU': 'INTU', 'PCNS': 'PINS', 'MSLA': 'TSLA', 'BABF': 'BABA', 'NDBE': 'ADBE', 'UQER': 'UBER', 'VMG': 'VMW', 'ADBQ': 'ADBE', 'TWNR': 'TWTR', 'PIKS': 'PINS', 'AMZH': 'AMZN', 'SPOV': 'SPOT', 'WPOT': 'SPOT', 'NALX': 'NFLX', 'BAVA': 'BABA', 'WINS': 'PINS', 'SSCO': 'CSCO', 'SOOP': 'SHOP', 'UAER': 'UBER', 'OOOG': 'GOOG', 'GRCL': 'ORCL', 'PSFT': 'MSFT', 'ORFL': 'ORCL', 'DYCU': 'DOCU', 'RSLA': 'TSLA', 'SNPP': 'SNAP', 'SETA': 'META', 'TMLA': 'TSLA', 'SUOP': 'SHOP', 'MENA': 'META', 'PNPL': 'PYPL', 'AXBE': 'ADBE', 'INIU': 'INTU', 'UBEB': 'UBER', 'DYPL': 'PYPL', 'GXOG': 'GOOG', 'WORD': 'WORK', 'AMKN': 'AMZN', 'CSCS': 'CSCO', 'YOCU': 'DOCU', 'HSCO': 'CSCO', 'SHZP': 'SHOP', 'ORCF': 'ORCL', 'TWHR': 'TWTR', 'IBT': 'IBM', 'MTTA': 'META', 'SPGT': 'SPOT', 'RSFT': 'MSFT', 'TMTR': 'TWTR', 'LYFS': 'LYFT', 'AKBE': 'ADBE', 'SPOD': 'SPOT', 'MGTA': 'META', 'NFSX': 'NFLX', 'BINS': 'PINS', 'NVZA': 'NVDA', 'BABU': 'BABA', 'BNBA': 'BABA', 'LMFT': 'MSFT', 'TWTM': 'TWTR', 'NOCU': 'DOCU', 'PTNS': 'PINS', 'CSCB': 'CSCO', 'SEAP': 'SNAP', 'ORRL': 'ORCL', 'CSCD': 'CSCO', 'OHOP': 'SHOP', 'OMW': 'VMW', 'APPL': 'PYPL', 'WERK': 'WORK', 'WRCL': 'ORCL', 'INXU': 'INTU', 'ADVE': 'ADBE', 'PYIL': 'PYPL', 'NVCA': 'NVDA', 'GOOC': 'GOOG', 'UOCU': 'DOCU', 'SNCP': 'SNAP', 'CSYO': 'CSCO', 'CSAO': 'CSCO', 'YAPL': 'PYPL', 'DOCE': 'DOCU', 'UBPR': 'UBER', 'NYDA': 'NVDA', 'MSFE': 'MSFT', 'QSCO': 'CSCO', 'NFLI': 'NFLX', 'AAPS': 'AAPL', 'SHVP': 'SHOP', 'BABE': 'ADBE', 'BABG': 'BABA', 'NWTR': 'TWTR', 'PQNS': 'PINS', 'QABA': 'BABA', 'NFLL': 'NFLX', 'DXCU': 'DOCU', 'MDTA': 'META', 'TWTJ': 'TWTR', 'NVDP': 'NVDA', 'SQAP': 'SNAP', 'UFER': 'UBER', 'MELA': 'META', 'NFQX': 'NFLX', 'AVBE': 'ADBE', 'RPOT': 'SPOT', 'CYCO': 'CSCO', 'TVTR': 'TWTR', 'ARPL': 'AAPL', 'EFLX': 'NFLX', 'QYFT': 'LYFT', 'TYTR': 'TWTR', 'MORK': 'WORK', 'JSLA': 'TSLA', 'ADTE': 'ADBE', 'AZZN': 'AMZN', 'NVDE': 'NVDA', 'DVDA': 'NVDA', 'UBEX': 'UBER', 'NMW': 'VMW', 'SNAS': 'SNAP', 'LOOG': 'GOOG', 'GZOG': 'GOOG', 'GOOY': 'GOOG', 'BGBA': 'BABA', 'TSLU': 'TSLA', 'PHPL': 'PYPL', 'GETA': 'META', 'NRCL': 'ORCL', 'SPOZ': 'SPOT', 'SEOT': 'SPOT', 'IXTC': 'INTC', 'CSCG': 'CSCO', 'NRLX': 'NFLX', 'JETA': 'META', 'WORL': 'WORK', 'HOCU': 'DOCU', 'BRBA': 'BABA', 'AAPT': 'AAPL', 'PKNS': 'PINS', 'NELX': 'NFLX', 'ULER': 'UBER', 'MIFT': 'MSFT', 'CSCM': 'CSCO', 'ORKL': 'WORK', 'HMZN': 'AMZN', 'BANA': 'BABA', 'NFLD': 'NFLX', 'IATU': 'INTU', 'AAOL': 'AAPL', 'ZYFT': 'LYFT', 'NKLX': 'NFLX', 'WURK': 'WORK', 'PYPX': 'PYPL', 'PGPL': 'PYPL', 'XINS': 'PINS', 'DVCU': 'DOCU', 'AAPB': 'AAPL', 'BMW': 'VMW', 'NFYX': 'NFLX', 'VFLX': 'NFLX', 'AID': 'AMD', 'QMD': 'AMD', 'QSFT': 'MSFT', 'OHCL': 'ORCL', 'UBMR': 'UBER', 'GOYG': 'GOOG', 'UBEH': 'UBER', 'BMBA': 'BABA', 'MSFK': 'MSFT', 'EMW': 'VMW', 'NFLY': 'NFLX', 'SHEP': 'SHOP', 'PNAP': 'SNAP', 'CFLX': 'NFLX', 'RRM': 'CRM', 'GOOI': 'GOOG', 'LDFT': 'LYFT', 'TNLA': 'TSLA', 'CSBO': 'CSCO', 'NFLC': 'NFLX', 'BABN': 'BABA', 'NVVA': 'NVDA', 'WTRK': 'WORK', 'WVRK': 'WORK', 'TSLS': 'TSLA', 'BTBA': 'BABA', 'EOCU': 'DOCU', 'WORZ': 'WORK', 'CRW': 'CRM', 'BOBA': 'BABA', 'TSDA': 'TSLA', 'BHOP': 'SHOP', 'LYFV': 'LYFT', 'INYC': 'INTC', 'GBM': 'IBM', 'CSTO': 'CSCO', 'ADBF': 'ADBE', 'YFLX': 'NFLX', 'YYFT': 'LYFT', 'FYFT': 'LYFT', 'SMAP': 'SNAP', 'FRCL': 'ORCL', 'UNAP': 'SNAP', 'GEOG': 'GOOG', 'ENTU': 'INTU', 'AAKL': 'AAPL', 'UBBR': 'UBER', 'INAU': 'INTU', 'ORCZ': 'ORCL', 'METK': 'META', 'MEIA': 'META', 'ISLA': 'TSLA', 'VMT': 'VMW', 'AETA': 'META', 'MSJT': 'MSFT', 'BRCL': 'ORCL', 'WMW': 'VMW', 'OJCL': 'ORCL', 'ONTC': 'INTC', 'PEPL': 'PYPL', 'INEC': 'INTC', 'JPOT': 'SPOT', 'MSKT': 'MSFT', 'WLRK': 'WORK', 'CRD': 'CRM', 'AMCN': 'AMZN', 'CORK': 'WORK', 'ORNL': 'ORCL', 'MSFR': 'MSFT', 'IFTC': 'INTC', 'NADA': 'NVDA', 'ADXE': 'ADBE', 'OGCL': 'ORCL', 'NRDA': 'NVDA', 'RMZN': 'AMZN', 'ACD': 'AMD', 'SCOP': 'SHOP', 'PPPL': 'PYPL', 'AMBE': 'ADBE', 'AZD': 'AMD', 'WOSK': 'WORK', 'SNVP': 'SNAP', 'NSFT': 'MSFT', 'ADPL': 'AAPL', 'RDBE': 'ADBE', 'PFLX': 'NFLX', 'PVDA': 'NVDA', 'LYFC': 'LYFT', 'NYFT': 'LYFT', 'STOT': 'SPOT', 'DOCT': 'DOCU', 'VKW': 'VMW', 'AMZA': 'AMZN', 'IKM': 'IBM', 'GOMG': 'GOOG', 'PIGS': 'PINS', 'IGTU': 'INTU', 'SFLX': 'NFLX', 'MSFB': 'MSFT', 'CSCL': 'CSCO', 'TWDR': 'TWTR', 'KNTU': 'INTU', 'SNZP': 'SNAP', 'VXW': 'VMW', 'NFCX': 'NFLX', 'CSIO': 'CSCO', 'XOOG': 'GOOG', 'NMLX': 'NFLX', 'YETA': 'META', 'SVDA': 'NVDA', 'NSDA': 'NVDA', 'DOXU': 'DOCU', 'PINH': 'PINS', 'PIUS': 'PINS', 'SHOF': 'SHOP', 'WOCK': 'WORK', 'CSCR': 'CSCO', 'TWTD': 'TWTR', 'QMW': 'VMW', 'PYUL': 'PYPL', 'INTK': 'INTU', 'SPXT': 'SPOT', 'CJM': 'CRM', 'IBTU': 'INTU', 'NFMX': 'NFLX', 'JBER': 'UBER', 'WKRK': 'WORK', 'STAP': 'SNAP', 'YSCO': 'CSCO', 'WORV': 'WORK', 'TDTR': 'TWTR', 'AAPQ': 'AAPL', 'MEXA': 'META', 'USER': 'UBER', 'MSHT': 'MSFT', 'AND': 'AMD', 'XHOP': 'SHOP', 'IMW': 'VMW', 'NFBX': 'NFLX', 'TWCR': 'TWTR', 'AMVN': 'AMZN', 'ADBU': 'ADBE', 'TYFT': 'LYFT', 'SNXP': 'SNAP', 'TSCA': 'TSLA', 'LYET': 'LYFT', 'AJBE': 'ADBE', 'PINK': 'PINS', 'CWM': 'CRM', 'BATA': 'BABA', 'BDBE': 'ADBE', 'IVTU': 'INTU', 'ITTU': 'INTU', 'PIPL': 'PYPL', 'EPOT': 'SPOT', 'MSFF': 'MSFT', 'SPRT': 'SPOT', 'AKPL': 'AAPL', 'PISS': 'PINS', 'SHOH': 'SHOP', 'SNNP': 'SNAP', 'CZM': 'ZM', 'LRCL': 'ORCL', 'ISCO': 'CSCO', 'TWTH': 'TWTR', 'GNTU': 'INTU', 'CSCN': 'CSCO', 'JWTR': 'TWTR', 'TINS': 'PINS', 'DMZN': 'AMZN', 'METB': 'META', 'WOPK': 'WORK', 'SPOR': 'SPOT', 'NFZX': 'NFLX', 'METS': 'META', 'UEER': 'UBER', 'AAPY': 'AAPL', 'PILS': 'PINS', 'THLA': 'TSLA', 'SNAI': 'SNAP', 'TSNA': 'SNAP', 'DNTU': 'INTU', 'INTN': 'INTU', 'LYFA': 'LYFT', 'PWPL': 'PYPL', 'BABO': 'BABA', 'UYPL': 'PYPL', 'MSTT': 'MSFT', 'GSFT': 'MSFT', 'SHOJ': 'SHOP', 'MEPA': 'META', 'PVNS': 'PINS', 'FAPL': 'AAPL', 'TALA': 'TSLA', 'AMF': 'AMD', 'BABZ': 'BABA', 'FDBE': 'ADBE', 'LYQT': 'LYFT', 'TWRR': 'TWTR', 'IUTU': 'INTU', 'AMZQ': 'AMZN', 'QMZN': 'AMZN', 'AMZY': 'AMZN', 'EHOP': 'SHOP', 'NHOP': 'SHOP', 'LYDT': 'LYFT', 'SNKP': 'SNAP', 'PYPY': 'PYPL', 'WBRK': 'WORK', 'TSLE': 'TSLA', 'ERM': 'CRM', 'MBFT': 'MSFT', 'ADBO': 'ADBE', 'MERA': 'META', 'TSLV': 'TSLA', 'NFLB': 'NFLX', 'SHOE': 'SHOP', 'TWTW': 'TWTR', 'NVDK': 'NVDA', 'INTL': 'INTU', 'IQTU': 'INTU', 'LVDA': 'NVDA', 'GOXG': 'GOOG', 'CMD': 'CRM', 'AMFN': 'AMZN', 'MPOT': 'SPOT', 'GOOQ': 'GOOG', 'SPVT': 'SPOT', 'OFCL': 'ORCL', 'LYFI': 'LYFT', 'EYFT': 'LYFT', 'UVER': 'UBER', 'PWNS': 'PINS', 'LYFK': 'LYFT', 'LYUT': 'LYFT', 'MRFT': 'MSFT', 'YSLA': 'TSLA', 'VMA': 'VMW', 'INWC': 'INTC', 'CSCK': 'CSCO', 'ZNTC': 'INTC', 'ZBER': 'UBER', 'PIHS': 'PINS', 'MEHA': 'META', 'AAZL': 'AAPL', 'TSLY': 'TSLA', 'NVDM': 'NVDA', 'ODBE': 'ADBE', 'PINN': 'PINS', 'TCTR': 'TWTR', 'AIBE': 'ADBE', 'ORTL': 'ORCL', 'SNAT': 'SNAP', 'BVBA': 'BABA', 'LXFT': 'LYFT', 'NFXX': 'NFLX', 'MSOT': 'MSFT', 'SQOT': 'SPOT', 'NFJX': 'NFLX', 'WNRK': 'WORK', 'TOOG': 'GOOG', 'NPLX': 'NFLX', 'BAFA': 'BABA', 'VMZN': 'AMZN', 'INTW': 'INTU', 'AMIN': 'AMZN', 'NVDU': 'NVDA', 'AML': 'AMD', 'TOCU': 'DOCU', 'INUU': 'INTU', 'CSCA': 'CSCO', 'AABL': 'AAPL', 'MSVT': 'MSFT', 'UAPL': 'AAPL', 'AMZD': 'AMD', 'AAQL': 'AAPL', 'SNBP': 'SNAP', 'ZSLA': 'TSLA', 'GOOA': 'GOOG', 'SDOP': 'SHOP', 'CSCV': 'CSCO', 'OTCL': 'ORCL', 'SNHP': 'SHOP', 'DOVU': 'DOCU', 'CSFO': 'CSCO', 'DOCX': 'DOCU', 'NVDO': 'NVDA', 'GMOG': 'GOOG', 'TWTV': 'TWTR', 'GOOJ': 'GOOG', 'CSKO': 'CSCO', 'IQM': 'IBM', 'KBER': 'UBER', 'SIOT': 'SPOT', 'GFLX': 'NFLX', 'ORCA': 'ORCL', 'LNFT': 'LYFT', 'PHOP': 'SHOP', 'FMZN': 'AMZN', 'ROCU': 'DOCU', 'WOJK': 'WORK', 'QOCU': 'DOCU', 'XNTU': 'INTU', 'PXNS': 'PINS', 'WAPL': 'AAPL', 'TWWR': 'TWTR', 'CRU': 'CRM', 'QBER': 'UBER', 'BIBA': 'BABA', 'UMD': 'AMD', 'UPER': 'UBER', 'EBM': 'IBM', 'WOHK': 'WORK', 'MSCT': 'MSFT', 'CINS': 'PINS', 'PYPN': 'PYPL', 'VMP': 'VMW', 'SHOY': 'SHOP', 'BABK': 'BABA', 'NVFA': 'NVDA', 'PYVL': 'PYPL', 'SPOC': 'SPOT', 'ABER': 'UBER', 'AAML': 'AAPL', 'WORU': 'WORK', 'CSCE': 'CSCO', 'LYFY': 'LYFT', 'LSCO': 'CSCO', 'PYCL': 'PYPL', 'MEFA': 'META', 'MSFC': 'MSFT', 'AUPL': 'AAPL', 'AMZF': 'AMZN', 'ADBL': 'ADBE', 'MWTA': 'META', 'TKLA': 'TSLA', 'UBWR': 'UBER', 'POPL': 'PYPL', 'METJ': 'META', 'GDOG': 'GOOG', 'NIDA': 'NVDA', 'INUC': 'INTU', 'PDPL': 'PYPL', 'ARZN': 'AMZN', 'NFNX': 'NFLX', 'VMK': 'VMW', 'DYFT': 'LYFT', 'AMMN': 'AMZN', 'LMD': 'AMD', 'NPDA': 'NVDA', 'NVUA': 'NVDA', 'RORK': 'WORK', 'VABA': 'BABA', 'SJOT': 'SPOT', 'HRM': 'CRM', 'ZSCO': 'CSCO', 'VDW': 'VMW', 'BAXA': 'BABA', 'TGLA': 'TSLA', 'NVDQ': 'NVDA', 'DBM': 'IBM', 'QYPL': 'PYPL', 'DOFU': 'DOCU', 'BASA': 'BABA', 'MSFX': 'MSFT', 'NSCO': 'CSCO', 'GOOP': 'GOOG', 'ADLE': 'ADBE', 'UBEW': 'UBER', 'UBEV': 'UBER', 'MMW': 'VMW', 'MHTA': 'META', 'OSLA': 'TSLA', 'AMZS': 'AMZN', 'MSDT': 'MSFT', 'DOCA': 'DOCU', 'VCW': 'VMW', 'UUER': 'UBER', 'NFTX': 'NFLX', 'DOMU': 'DOCU', 'AAYL': 'AAPL', 'IBR': 'IBM', 'PLNS': 'PINS', 'MSTA': 'MSFT', 'METU': 'META', 'ORCM': 'ORCL', 'TLLA': 'TSLA', 'SOOG': 'GOOG', 'CPM': 'CRM', 'VMV': 'VMW', 'SCAP': 'SNAP', 'MEMA': 'META', 'QNTU': 'INTU', 'GOSG': 'GOOG', 'TORK': 'WORK', 'BABV': 'BABA', 'MGFT': 'MSFT', 'BOOG': 'GOOG', 'TOLA': 'TSLA', 'ADPE': 'ADBE', 'IOOG': 'GOOG', 'SHFP': 'SHOP', 'WOVK': 'WORK', 'BVDA': 'NVDA', 'SSOP': 'SHOP', 'AMZK': 'AMZN', 'IJTU': 'INTU', 'XPOT': 'SPOT', 'BAWA': 'BABA', 'SPOI': 'SPOT', 'AKD': 'AMD', 'NAPL': 'SNAP', 'BFLX': 'NFLX', 'HMW': 'VMW', 'DOIU': 'DOCU', 'BYFT': 'LYFT', 'SNTC': 'INTC', 'METW': 'META', 'PINI': 'PINS', 'ORIL': 'ORCL', 'NCLX': 'NFLX', 'VINS': 'PINS', 'SVOP': 'SHOP', 'CTCO': 'CSCO', 'LYFJ': 'LYFT', 'INWU': 'INTU', 'IMTC': 'INTC', 'MXTA': 'META', 'PJNS': 'PINS', 'POOG': 'GOOG', 'AFPL': 'AAPL', 'GINS': 'PINS', 'BWBA': 'BABA', 'TQLA': 'TSLA', 'ZORK': 'WORK', 'SPOU': 'SPOT', 'IBV': 'IBM', 'MSPT': 'MSFT', 'AMON': 'AMZN', 'XYFT': 'LYFT', 'LMW': 'VMW', 'OECL': 'ORCL', 'DNTC': 'INTC', 'MAFT': 'MSFT', 'SXOT': 'SPOT', 'SNAZ': 'SNAP', 'TMW': 'VMW', 'NXLX': 'NFLX', 'TETR': 'TWTR', 'XBM': 'IBM', 'ZMZN': 'AMZN', 'COOG': 'GOOG', 'VBW': 'VMW', 'PYAL': 'PYPL', 'KRM': 'CRM', 'MSLT': 'MSFT', 'LETA': 'META', 'SZOP': 'SHOP', 'TYPL': 'PYPL', 'SZOT': 'SPOT', 'CSLO': 'CSCO', 'ASPL': 'AAPL', 'UMER': 'UBER', 'LYFW': 'LYFT', 'NETA': 'META', 'NFIX': 'NFLX', 'PINA': 'PINS', 'AINS': 'PINS', 'IMTU': 'INTU', 'SPST': 'SPOT', 'GOCU': 'DOCU', 'DGCU': 'DOCU', 'VMB': 'VMW', 'WFRK': 'WORK', 'UCER': 'UBER', 'MDBE': 'ADBE', 'SYOP': 'SHOP', 'PCPL': 'PYPL', 'ADAE': 'ADBE', 'OKCL': 'ORCL', 'SPOE': 'SPOT', 'CSCH': 'CSCO', 'UBEJ': 'UBER', 'SNAE': 'SNAP', 'INCU': 'INTU', 'AVZN': 'AMZN', 'INQC': 'INTC', 'NVDD': 'NVDA', 'AMWN': 'AMZN', 'ADBY': 'ADBE', 'WORR': 'WORK', 'TDBE': 'ADBE', 'LYJT': 'LYFT', 'ICM': 'CRM', 'AUZN': 'AMZN', 'MEZA': 'META', 'VPOT': 'SPOT', 'SNAJ': 'SNAP', 'CSCW': 'CSCO', 'JINS': 'PINS', 'KHOP': 'SHOP', 'MRTA': 'META', 'UWER': 'UBER', 'UBHR': 'UBER', 'AMAN': 'AMZN', 'MEJA': 'META', 'DOCC': 'DOCU', 'TSZA': 'TSLA', 'BRM': 'CRM', 'SPOS': 'SPOT', 'ORXL': 'ORCL', 'HETA': 'META', 'PYHL': 'PYPL', 'ZAPL': 'AAPL', 'SHPP': 'SHOP', 'PINM': 'PINS', 'BFBA': 'BABA', 'LYFL': 'LYFT', 'WOEK': 'WORK', 'ORCS': 'ORCL', 'MABA': 'BABA', 'IOTC': 'INTC', 'UBDR': 'UBER', 'IETC': 'INTC', 'ORCI': 'ORCL', 'JDBE': 'ADBE', 'SPBT': 'SPOT', 'PMZN': 'AMZN', 'LBFT': 'LYFT', 'KSFT': 'MSFT', 'TSLQ': 'TSLA', 'MSFV': 'MSFT', 'UBEE': 'UBER', 'AAPU': 'AAPL', 'AXD': 'AMD', 'NFLN': 'NFLX', 'ZOOG': 'GOOG', 'OWCL': 'ORCL', 'ORCY': 'ORCL', 'ORPL': 'ORCL', 'RINS': 'PINS', 'NFLF': 'NFLX', 'ODCL': 'ORCL', 'UBEZ': 'UBER', 'PYPZ': 'PYPL', 'UBEA': 'UBER', 'YBER': 'UBER', 'ASCO': 'CSCO', 'RWTR': 'TWTR', 'NFLR': 'NFLX', 'NNLX': 'NFLX', 'SBM': 'IBM', 'GDBE': 'ADBE', 'SRCL': 'ORCL', 'NWDA': 'NVDA', 'MVFT': 'MSFT', 'TZTR': 'TWTR', 'GPOT': 'SPOT', 'ADBS': 'ADBE', 'CSM': 'CRM', 'CSCJ': 'CSCO', 'SNAN': 'SNAP', 'INCC': 'INTC', 'GSCO': 'CSCO', 'SORK': 'WORK', 'DODU': 'DOCU', 'UOER': 'UBER', 'WETA': 'META', 'IJM': 'IBM', 'NFDX': 'NFLX', 'VMQ': 'VMW', 'DRCL': 'ORCL', 'BABR': 'BABA', 'ADZN': 'AMZN', 'MSAT': 'MSFT', 'AMBN': 'AMZN', 'MINS': 'PINS', 'AMB': 'AMD', 'LYOT': 'LYFT', 'WZRK': 'WORK', 'AMA': 'AMD', 'TNTR': 'TWTR', 'BABP': 'BABA', 'NLDA': 'NVDA', 'VNTC': 'INTC', 'PGNS': 'PINS', 'RNTC': 'INTC', 'XVDA': 'NVDA', 'LYYT': 'LYFT', 'ATBE': 'ADBE', 'PIPS': 'PINS', 'RNAP': 'SNAP', 'MEYA': 'META', 'GOOT': 'GOOG', 'KNTC': 'INTC', 'CRV': 'CRM', 'RNTU': 'INTU', 'AWPL': 'AAPL', 'BAAA': 'BABA', 'IKTC': 'INTC', 'PSNS': 'PINS', 'AAEL': 'AAPL', 'PYPC': 'PYPL', 'GONG': 'GOOG', 'TRTR': 'TWTR', 'DOTU': 'DOCU', 'NEDA': 'NVDA', 'TPOT': 'SPOT', 'GKOG': 'GOOG', 'INNU': 'INTU', 'SNUP': 'SNAP', 'SMD': 'AMD', 'METN': 'META', 'CNCO': 'CSCO', 'GWOG': 'GOOG', 'HYFT': 'LYFT', 'MSFN': 'MSFT', 'CSSO': 'CSCO', 'AYBE': 'ADBE', 'NBDA': 'NVDA', 'NVRA': 'NVDA', 'ADBK': 'ADBE', 'WNTU': 'INTU', 'OROL': 'ORCL', 'ORLL': 'ORCL', 'NVDH': 'NVDA', 'ILTU': 'INTU', 'BAGA': 'BABA', 'DSLA': 'TSLA', 'MSFD': 'MSFT', 'SYFT': 'MSFT', 'TNTC': 'INTC', 'PPOT': 'SPOT', 'NFGX': 'NFLX', 'NFEX': 'NFLX', 'PYKL': 'PYPL', 'PZPL': 'PYPL', 'LYBT': 'LYFT', 'VYW': 'VMW', 'TWTI': 'TWTR', 'ACZN': 'AMZN', 'NVBA': 'NVDA', 'VMR': 'VMW', 'DOOU': 'DOCU', 'MPFT': 'MSFT', 'PIES': 'PINS', 'BARA': 'BABA', 'DOCJ': 'DOCU', 'METI': 'META', 'AAPE': 'AAPL', 'DOOG': 'GOOG', 'GOFG': 'GOOG', 'SHON': 'SHOP', 'IITU': 'INTU', 'CDCO': 'CSCO', 'DDCU': 'DOCU', 'SPIT': 'SPOT', 'TSQA': 'TSLA', 'MLFT': 'MSFT', 'AWBE': 'ADBE', 'ORCX': 'ORCL', 'AFBE': 'ADBE', 'DOJU': 'DOCU', 'AMZT': 'AMZN', 'PYPV': 'PYPL', 'PINX': 'PINS', 'OQCL': 'ORCL', 'AMY': 'AMD', 'AAPX': 'AAPL', 'INZC': 'INTC', 'INOU': 'INTU', 'BCBA': 'BABA', 'AABA': 'BABA', 'GHOG': 'GOOG', 'LDBE': 'ADBE', 'IPTC': 'INTC', 'UDBE': 'UBER', 'ESCO': 'CSCO', 'LYVT': 'LYFT', 'LUFT': 'LYFT', 'BDBA': 'BABA', 'KYPL': 'PYPL', 'WORQ': 'WORK', 'PINV': 'PINS', 'MHFT': 'MSFT', 'BAOA': 'BABA', 'DOAU': 'DOCU', 'WIRK': 'WORK', 'ZBM': 'ZM', 'KORK': 'WORK', 'LNAP': 'SNAP', 'QORK': 'WORK', 'GGOG': 'GOOG', 'PYPO': 'PYPL', 'TBM': 'IBM', 'TQTR': 'TWTR', 'MJFT': 'MSFT', 'SUAP': 'SNAP', 'IFLX': 'NFLX', 'APBE': 'ADBE', 'ZNTU': 'INTU', 'CRR': 'CRM', 'ASFT': 'MSFT', 'SPAP': 'SNAP', 'TSXA': 'TSLA', 'OWTR': 'TWTR', 'PYLL': 'PYPL', 'INTQ': 'INTU', 'JSFT': 'MSFT', 'PJPL': 'PYPL', 'QFLX': 'NFLX', 'DNAP': 'SNAP', 'SNSP': 'SNAP', 'PYPU': 'PYPL', 'NVDZ': 'NVDA', 'CSMO': 'CSCO', 'NTDA': 'NVDA', 'INNC': 'INTC', 'PANS': 'PINS', 'TWBR': 'TWTR', 'PVPL': 'PYPL', 'ABZN': 'AMZN', 'OSCL': 'ORCL', 'TWTK': 'TWTR', 'DOCY': 'DOCU', 'TSLI': 'TSLA', 'FNTC': 'INTC', 'TWTC': 'TWTR', 'WGRK': 'WORK', 'IINS': 'PINS', 'IETA': 'META', 'ADYE': 'ADBE', 'DWCU': 'DOCU', 'NUDA': 'NVDA', 'TSLK': 'TSLA', 'QDBE': 'ADBE', 'QBM': 'IBM', 'TSLC': 'TSLA', 'TSTA': 'TSLA', 'AMZW': 'AMZN', 'DHCU': 'DOCU', 'TXTR': 'TWTR', 'TSLH': 'TSLA', 'LYGT': 'LYFT', 'UDER': 'UBER', 'MEAA': 'META', 'ISTC': 'INTC', 'INSU': 'INTU', 'ZFLX': 'NFLX', 'NBER': 'UBER', 'SHJP': 'SHOP', 'IBX': 'IBM', 'VNAP': 'SNAP', 'AMYN': 'AMZN', 'PYWL': 'PYPL', 'ARCL': 'ORCL', 'PRNS': 'PINS', 'LYTT': 'LYFT', 'SSOT': 'SPOT', 'PDNS': 'PINS', 'QRCL': 'ORCL', 'INOC': 'INTC', 'AAPO': 'AAPL', 'ASLA': 'TSLA', 'BAIA': 'BABA', 'DOHU': 'DOCU', 'LWFT': 'LYFT', 'SNAR': 'SNAP', 'IYTU': 'INTU', 'IYPL': 'PYPL', 'SNAH': 'SNAP', 'WORF': 'WORK', 'MSFP': 'MSFT', 'GOOE': 'GOOG', 'TMD': 'AMD', 'PYOL': 'PYPL', 'MSQT': 'MSFT', 'GAOG': 'GOOG', 'ADHE': 'ADBE', 'ORCC': 'ORCL', 'SWOT': 'SPOT', 'JOCU': 'DOCU', 'DJCU': 'DOCU', 'PIBS': 'PINS', 'ZSFT': 'MSFT', 'TWTS': 'TWTR', 'METT': 'META', 'NORK': 'WORK', 'NMDA': 'NVDA', 'PIIS': 'PINS', 'SNAM': 'SNAP', 'TSLO': 'TSLA', 'NJLX': 'NFLX', 'UBEN': 'UBER', 'NFKX': 'NFLX', 'KWTR': 'TWTR', 'ENTC': 'INTC', 'VJW': 'VMW', 'ORCH': 'ORCL', 'NTLX': 'NFLX', 'LYKT': 'LYFT', 'SLAP': 'SNAP', 'SPHT': 'SPOT', 'PINQ': 'PINS', 'VTW': 'VMW', 'CKM': 'CRM', 'SVOT': 'SPOT', 'METL': 'META', 'SHOA': 'SHOP', 'IVM': 'VMW', 'SHBP': 'SHOP', 'OZCL': 'ORCL', 'SNLP': 'SNAP', 'PWTR': 'TWTR', 'GOOM': 'GOOG', 'EYPL': 'PYPL', 'NFUX': 'NFLX', 'TRLA': 'TSLA', 'PYNL': 'PYPL', 'LPFT': 'LYFT', 'PIVS': 'PINS', 'SHCP': 'SHOP', 'WABA': 'BABA', 'SNAO': 'SNAP', 'TSFT': 'MSFT', 'SFOT': 'MSFT', 'TUTR': 'TWTR', 'NVDG': 'NVDA', 'YNTU': 'INTU', 'GOON': 'GOOG', 'AMZJ': 'AMZN', 'MYPL': 'PYPL', 'SGOP': 'SHOP', 'MVTA': 'META', 'TWLR': 'TWTR', 'DACU': 'DOCU', 'WOIK': 'WORK', 'AYFT': 'LYFT', 'WOUK': 'WORK', 'IATC': 'INTC', 'SHOC': 'SHOP', 'AMZV': 'AMZN', 'NFLG': 'NFLX', 'MEVA': 'META', 'AYZN': 'AMZN', 'MSYT': 'MSFT', 'ORDL': 'ORCL', 'BPOT': 'SPOT', 'NFLK': 'NFLX', 'SPAT': 'SPOT', 'AMZU': 'AMZN', 'LYHT': 'LYFT', 'GIOG': 'GOOG', 'GOOK': 'GOOG', 'SPOQ': 'SPOT', 'FSFT': 'MSFT', 'CCCO': 'CSCO', 'ORCR': 'ORCL', 'KVDA': 'NVDA', 'GOUG': 'GOOG', 'BADA': 'BABA', 'DOLU': 'DOCU', 'UINS': 'PINS', 'HABA': 'BABA', 'AOBE': 'ADBE', 'QVDA': 'NVDA', 'MZFT': 'MSFT', 'URER': 'UBER', 'INZU': 'INTU', 'AMJN': 'AMZN', 'VAW': 'VMW', 'NVOA': 'NVDA', 'METO': 'META', 'MLTA': 'META', 'NVDR': 'NVDA', 'LAFT': 'LYFT', 'SBOT': 'SPOT', 'MSIT': 'MSFT', 'WQRK': 'WORK', 'METP': 'META', 'GYFT': 'LYFT', 'DABA': 'BABA', 'BABX': 'BABA', 'TSYA': 'TSLA', 'FPOT': 'SPOT', 'GQOG': 'GOOG', 'GOAG': 'GOOG', 'VMY': 'VMW', 'QRM': 'CRM', 'DOCL': 'DOCU', 'SHOI': 'SHOP', 'AOPL': 'AAPL', 'NVEA': 'NVDA', 'GNOG': 'GOOG', 'CSQO': 'CSCO', 'GMD': 'AMD', 'PYPH': 'PYPL', 'PIDS': 'PINS', 'SMZN': 'AMZN', 'DETA': 'META', 'SNAB': 'SNAP', 'NFLV': 'NFLX', 'ENAP': 'SNAP', 'NGLX': 'NFLX', 'ADBB': 'ADBE', 'ONTU': 'INTU', 'TPTR': 'TWTR', 'AMI': 'AMD', 'PINB': 'PINS', 'MECA': 'META', 'IGTC': 'INTC', 'BSFT': 'MSFT', 'BXBA': 'BABA', 'GVOG': 'GOOG', 'CSGO': 'CSCO', 'XRCL': 'ORCL', 'LRFT': 'LYFT', 'AMZC': 'AMZN', 'LYMT': 'LYFT', 'MSFG': 'MSFT', 'MITA': 'META', 'THTR': 'TWTR', 'IOCU': 'DOCU', 'NVDI': 'NVDA', 'FHOP': 'SHOP', 'TWJR': 'TWTR', 'KPOT': 'SPOT', 'METQ': 'META', 'NVXA': 'NVDA', 'MOFT': 'MSFT', 'AJZN': 'AMZN', 'WOWK': 'WORK', 'MCTA': 'META', 'SHAP': 'SHOP', 'INIC': 'INTC', 'MSFI': 'MSFT', 'DOCO': 'DOCU', 'LQFT': 'LYFT', 'UNTU': 'INTU', 'PICS': 'PINS', 'ASBE': 'ADBE', 'INSC': 'INTC', 'CSOO': 'CSCO', 'HAPL': 'AAPL', 'PYJL': 'PYPL', 'UBEG': 'UBER', 'DWTR': 'TWTR', 'UBEM': 'UBER', 'YOOG': 'GOOG', 'UBEU': 'UBER', 'GOKG': 'GOOG', 'PYRL': 'PYPL', 'VDBE': 'ADBE', 'SINS': 'PINS', 'TYLA': 'TSLA', 'NFOX': 'NFLX', 'SNRP': 'SNAP', 'ADEE': 'ADBE', 'NDDA': 'NVDA', 'SPLT': 'SPOT', 'XNAP': 'SNAP', 'VRCL': 'ORCL', 'LYFB': 'LYFT', 'CWTR': 'TWTR', 'SIAP': 'SNAP', 'PYPG': 'PYPL', 'UOOG': 'GOOG', 'ORBL': 'ORCL', 'XWTR': 'TWTR', 'JYFT': 'LYFT', 'AAD': 'AMD', 'SJAP': 'SNAP', 'ZDBE': 'ADBE', 'PFPL': 'PYPL', 'AMTN': 'AMZN', 'SNFP': 'SNAP', 'POCU': 'DOCU', 'IMZN': 'AMZN', 'INYU': 'INTU', 'NFPX': 'NFLX', 'UNER': 'UBER', 'IYFT': 'LYFT', 'OOCL': 'ORCL', 'MQFT': 'MSFT', 'PNTC': 'INTC', 'AMXN': 'AMZN', 'METD': 'META', 'GOZG': 'GOOG', 'AAPJ': 'AAPL', 'JRCL': 'ORCL', 'SPOO': 'SPOT', 'SNEP': 'SNAP', 'OACL': 'ORCL', 'LYPL': 'PYPL', 'IBH': 'IBM', 'YDBE': 'ADBE', 'SAAP': 'SNAP', 'VGW': 'VMW', 'VFW': 'VMW', 'AMZR': 'AMZN', 'KAPL': 'AAPL', 'NSLX': 'NFLX', 'CZCO': 'CSCO', 'OETA': 'META', 'NVDN': 'NVDA', 'SHOD': 'SHOP', 'SHOR': 'SHOP', 'EMZN': 'AMZN', 'OSCO': 'CSCO', 'NPOT': 'SPOT', 'ORVL': 'ORCL', 'AAXL': 'AAPL', 'NFLQ': 'NFLX', 'BABC': 'BABA', 'EABA': 'BABA', 'ADBJ': 'ADBE', 'LWTR': 'TWTR', 'BALA': 'BABA', 'INHC': 'INTC', 'DOWU': 'DOCU', 'CPOT': 'SPOT', 'NVDL': 'NVDA', 'UBGR': 'UBER', 'JYPL': 'PYPL', 'PKPL': 'PYPL', 'GOHG': 'GOOG', 'AOOG': 'GOOG', 'GNTC': 'INTC', 'DOPU': 'DOCU', 'AMO': 'AMD', 'ADBP': 'ADBE', 'PYPA': 'PYPL', 'WCRK': 'WORK', 'ICTC': 'INTC', 'UBRR': 'UBER', 'SVAP': 'SNAP', 'TFTR': 'TWTR', 'LORK': 'WORK', 'BQBA': 'BABA', 'AALL': 'AAPL', 'HSLA': 'TSLA', 'NFLT': 'NFLX', 'OICL': 'ORCL', 'SHMP': 'SHOP', 'USFT': 'MSFT', 'WOBK': 'WORK', 'NHLX': 'NFLX', 'UBOR': 'UBER', 'SHKP': 'SHOP', 'BAPA': 'BABA', 'DFLX': 'NFLX', 'UVDA': 'NVDA', 'OLCL': 'ORCL', 'SPOG': 'SPOT', 'SPOX': 'SPOT', 'AMHN': 'AMZN', 'SPET': 'SPOT', 'SNAK': 'SNAP', 'VYPL': 'PYPL', 'MRCL': 'ORCL', 'SWOP': 'SHOP', 'MYTA': 'META', 'NVLX': 'NFLX', 'SKAP': 'SNAP', 'CRZ': 'CRM', 'IQTC': 'INTC', 'ILTC': 'INTC', 'PIND': 'PINS', 'MEFT': 'MSFT', 'WBER': 'UBER', 'INBU': 'INTU', 'ZWTR': 'TWTR', 'SPWT': 'SPOT', 'ADBH': 'ADBE', 'YNTC': 'INTC', 'VBER': 'UBER', 'AAPZ': 'AAPL', 'WORB': 'WORK', 'QINS': 'PINS', 'MEKA': 'META', 'HNTC': 'INTC', 'NVDW': 'NVDA', 'MSBT': 'MSFT', 'INJU': 'INTU', 'SNIP': 'SNAP', 'USCO': 'CSCO', 'WVDA': 'NVDA', 'WWRK': 'WORK', 'FYPL': 'PYPL', 'SAOP': 'SHOP', 'DKCU': 'DOCU', 'LTFT': 'LYFT', 'SHGP': 'SHOP', 'IZTC': 'INTC', 'WORT': 'WORK', 'SHNP': 'SHOP', 'TWVR': 'TWTR', 'IORK': 'WORK', 'WOXK': 'WORK', 'TSLB': 'TSLA', 'IAM': 'AMD', 'EAPL': 'AAPL', 'ZINS': 'PINS', 'MSFA': 'MSFT', 'RVDA': 'NVDA', 'HBER': 'UBER', 'DBCU': 'DOCU', 'TWIR': 'TWTR', 'MSFZ': 'MSFT', 'AMV': 'AMD', 'TWFR': 'TWTR', 'INVU': 'INTU', 'SNOT': 'SPOT', 'INEU': 'INTU', 'CRY': 'CRM', 'PYFL': 'PYPL', 'MSZT': 'MSFT', 'NZLX': 'NFLX', 'AZBE': 'ADBE', 'NYPL': 'PYPL', 'LBM': 'IBM', 'NVWA': 'NVDA', 'SSLA': 'TSLA', 'SROP': 'SHOP', 'LYFH': 'LYFT', 'WOCU': 'DOCU', 'ZPOT': 'SPOT', 'TWZR': 'TWTR', 'ORCV': 'ORCL', 'IJTC': 'INTC', 'TSIA': 'TSLA', 'THOP': 'SHOP', 'GOPG': 'GOOG', 'PYPR': 'PYPL', 'PYPE': 'PYPL', 'ANBE': 'ADBE', 'AEBE': 'ADBE', 'XBER': 'UBER', 'UBLR': 'UBER', 'YMW': 'VMW', 'WORN': 'WORK', 'ORCK': 'WORK', 'SHSP': 'SHOP', 'AMZZ': 'AMZN', 'XNTC': 'INTC', 'SLOT': 'SPOT', 'CNTC': 'INTC', 'SBAP': 'SNAP', 'APZN': 'AMZN', 'ZOCU': 'DOCU', 'DOCQ': 'DOCU', 'IGM': 'IBM', 'SPOW': 'SPOT', 'DINS': 'PINS', 'INAP': 'SNAP', 'CSPO': 'CSCO', 'MDFT': 'MSFT', 'GSLA': 'TSLA', 'PETA': 'META', 'ADBR': 'ADBE', 'AAPM': 'AAPL', 'RRCL': 'ORCL', 'PYBL': 'PYPL', 'INLU': 'INTU', 'AMU': 'AMD', 'UHER': 'UBER', 'KETA': 'META', 'NWLX': 'NFLX', 'KRCL': 'ORCL', 'AVPL': 'AAPL', 'BAJA': 'BABA', 'MMZN': 'AMZN', 'ADBA': 'ADBE', 'PYPI': 'PYPL', 'WHRK': 'WORK', 'IUTC': 'INTC', 'UBEL': 'UBER', 'ADBZ': 'ADBE', 'NVDT': 'NVDA', 'TSRA': 'TSLA', 'TWTY': 'TWTR', 'ORHL': 'ORCL', 'CYM': 'CRM', 'AKZN': 'AMZN', 'AYPL': 'PYPL', 'TSTR': 'TWTR', 'IBA': 'IBM', 'SEOP': 'SHOP', 'LABA': 'BABA', 'AXPL': 'AAPL', 'XFLX': 'NFLX', 'AAPD': 'AAPL', 'MSWT': 'MSFT', 'NVDV': 'NVDA', 'AAPI': 'AAPL', 'IRTU': 'INTU', 'IPOT': 'SPOT', 'NVGA': 'NVDA', 'IOTU': 'INTU', 'ERCL': 'ORCL', 'MFFT': 'MSFT', 'KNAP': 'SNAP', 'AAWL': 'AAPL', 'BABH': 'BABA', 'BKBA': 'BABA', 'OAPL': 'AAPL', 'AAPW': 'AAPL', 'INJC': 'INTC', 'NNAP': 'SNAP', 'LYFP': 'LYFT', 'PIAS': 'PINS', 'NFLZ': 'NFLX', 'UBCR': 'UBER', 'FETA': 'META', 'YMD': 'AMD', 'AWZN': 'AMZN', 'UORK': 'WORK', 'IDTC': 'INTC', 'DCCU': 'DOCU', 'CXCO': 'CSCO', 'CSCQ': 'CSCO', 'QNAP': 'SNAP', 'TAPL': 'AAPL', 'LPOT': 'SPOT', 'BNAP': 'SNAP', 'EWTR': 'TWTR', 'MSFU': 'MSFT', 'IWTU': 'INTU', 'BABM': 'BABA', 'IYTC': 'INTC', 'IWTC': 'INTC', 'TSLG': 'TSLA', 'DOCF': 'DOCU', 'IHM': 'IBM', 'GOOR': 'GOOG', 'NNTU': 'INTU', 'WSFT': 'MSFT', 'PYXL': 'PYPL', 'NODA': 'NVDA', 'ZNAP': 'SNAP', 'BABY': 'BABA', 'PORK': 'WORK', 'TWKR': 'TWTR', 'UXER': 'UBER', 'WORP': 'WORK', 'METX': 'META', 'OBCL': 'ORCL', 'SXAP': 'SNAP', 'WORS': 'WORK', 'INMU': 'INTU', 'WOLK': 'WORK', 'BAUA': 'BABA', 'HORK': 'WORK', 'SHOQ': 'SHOP', 'NFRX': 'NFLX', 'ORUL': 'ORCL', 'TJTR': 'TWTR', 'UBEC': 'UBER', 'BABW': 'BABA', 'ORGL': 'ORCL', 'TSOA': 'TSLA', 'TSBA': 'TSLA', 'SPOA': 'SPOT', 'OSFT': 'MSFT', 'XMD': 'AMD', 'GOOF': 'GOOG', 'TSVA': 'TSLA', 'MSET': 'MSFT', 'MJTA': 'META', 'NVDF': 'NVDA', 'CMZN': 'AMZN', 'DECU': 'DOCU', 'DFCU': 'DOCU', 'IBS': 'IBM', 'AMZO': 'AMZN', 'LZFT': 'LYFT', 'UFLX': 'NFLX', 'IABA': 'BABA', 'LYFN': 'LYFT', 'ADNE': 'ADBE', 'INMC': 'INTC', 'PIJS': 'PINS', 'MSXT': 'MSFT', 'ANZN': 'AMZN', 'SYPL': 'PYPL', 'IITC': 'INTC', 'VNTU': 'INTU', 'TWMR': 'TWTR', 'PIZS': 'PINS', 'PSPL': 'PYPL', 'YORK': 'WORK', 'MZTA': 'META', 'TATR': 'TWTR', 'WOOG': 'GOOG', 'NOLX': 'NFLX', 'HSFT': 'MSFT', 'NABA': 'BABA', 'CSZO': 'CSCO', 'KMD': 'AMD', 'VML': 'VMW', 'CSJO': 'CSCO', 'TTTR': 'TWTR', 'LFLX': 'NFLX', 'LSLA': 'TSLA', 'FRM': 'CRM', 'CSNO': 'CSCO', 'NBM': 'IBM', 'CICO': 'CSCO', 'TSWA': 'TSLA', 'PYSL': 'PYPL', 'WORH': 'WORK', 'SHOL': 'SHOP', 'FOOG': 'GOOG', 'SHOU': 'SHOP', 'LYFQ': 'LYFT', 'ADBT': 'ADBE', 'ATZN': 'AMZN', 'ADRE': 'ADBE', 'SAPL': 'SNAP', 'SNAX': 'SNAP', 'INGU': 'INTU', 'FFLX': 'NFLX', 'BACA': 'BABA', 'WOFK': 'WORK', 'SZAP': 'SNAP', 'UBSR': 'UBER', 'SNYP': 'SNAP', 'SWTR': 'TWTR', 'SNAY': 'SNAP', 'METZ': 'META', 'JNAP': 'SNAP', 'WORJ': 'WORK', 'UBEO': 'UBER', 'LYLT': 'LYFT', 'WORO': 'WORK', 'NILX': 'NFLX', 'DOCD': 'DOCU', 'MHOP': 'SHOP', 'GOOL': 'GOOG', 'NXDA': 'NVDA', 'IHTC': 'INTC', 'JABA': 'BABA', 'TFLX': 'NFLX', 'PYQL': 'PYPL', 'MUTA': 'META', 'DOCB': 'DOCU', 'CSCC': 'CSCO', 'YMZN': 'AMZN', 'WORG': 'WORK', 'CSCZ': 'CSCO', 'AVDA': 'NVDA', 'WHOP': 'SHOP', 'GOOU': 'GOOG', 'BLBA': 'BABA', 'TSAA': 'TSLA', 'SHQP': 'SHOP', 'NVSA': 'NVDA', 'ORJL': 'ORCL', 'LYST': 'LYFT', 'TSKA': 'TSLA', 'VZW': 'VMW', 'TKTR': 'TWTR', 'LYPT': 'LYFT', 'WORE': 'WORK', 'VUW': 'VMW', 'DOEU': 'DOCU', 'PYPK': 'PYPL', 'CSHO': 'SHOP', 'ADDE': 'ADBE', 'AATL': 'AAPL', 'TSMA': 'TSLA', 'BORK': 'WORK', 'TSJA': 'TSLA', 'CYPL': 'PYPL', 'AMSN': 'AMZN', 'URCL': 'ORCL', 'DOSU': 'DOCU', 'NVAA': 'NVDA', 'KABA': 'BABA', 'SPDT': 'SPOT', 'WMRK': 'WORK', 'OYPL': 'PYPL', 'SHRP': 'SHOP', 'SNAD': 'SNAP', 'HDBE': 'ADBE', 'SGOT': 'SPOT', 'MSFW': 'MSFT', 'GOOH': 'GOOG', 'CKCO': 'CSCO', 'SDBE': 'ADBE', 'ORCN': 'ORCL', 'PYZL': 'PYPL', 'AMQN': 'AMZN', 'NFVX': 'NFLX', 'LYFD': 'LYFT', 'NVYA': 'NVDA', 'AMNN': 'AMZN', 'TDLA': 'TSLA', 'BUBA': 'BABA', 'NFLP': 'NFLX', 'UTER': 'UBER', 'PNNS': 'PINS', 'PBER': 'UBER', 'AMZX': 'AMZN', 'SUOT': 'SPOT', 'UJER': 'UBER', 'EBER': 'UBER', 'LYXT': 'LYFT', 'SSFT': 'MSFT', 'MNAP': 'SNAP', 'ZVDA': 'NVDA', 'GHOP': 'SHOP', 'GFOG': 'GOOG', 'CUM': 'CRM', 'DICU': 'DOCU', 'CUCO': 'CSCO', 'NHDA': 'NVDA', 'RYFT': 'LYFT', 'ORYL': 'ORCL', 'KYFT': 'LYFT', 'PIMS': 'PINS', 'AOZN': 'AMZN', 'MMTA': 'META', 'ADCE': 'ADBE', 'SHOS': 'SHOP', 'METV': 'META', 'UBTR': 'UBER', 'QNTC': 'INTC', 'ADBX': 'ADBE', 'VHW': 'VMW', 'TITR': 'TWTR', 'GOOX': 'GOOG', 'SNAQ': 'SNAP', 'CJCO': 'CSCO', 'INPU': 'INTU', 'BABB': 'BABA', 'BBER': 'UBER', 'AACL': 'AAPL', 'AAGL': 'AAPL', 'FWTR': 'TWTR', 'UMW': 'VMW', 'DOCW': 'DOCU', 'SFAP': 'SNAP', 'TSSA': 'TSLA', 'TWTG': 'TWTR', 'ITTC': 'INTC', 'AAPP': 'AAPL', 'LKFT': 'LYFT', 'ADBV': 'ADBE', 'GOJG': 'GOOG', 'VQW': 'VMW', 'SNAF': 'SNAP', 'ORCU': 'DOCU', 'PINF': 'INTF', 'QSLA': 'TSLA', 'IDTU': 'INTU', 'NFLU': 'NFLX', 'LYFE': 'LYFT', 'SPFT': 'MSFT', 'OORK': 'WORK', 'WONK': 'WORK', 'ORCB': 'ORCL', 'OOCU': 'DOCU', 'LJFT': 'LYFT', 'PYPJ': 'PYPL', 'UBAR': 'UBER', 'VHOP': 'SHOP', 'PIFS': 'PINS', 'MPTA': 'META', 'VOOG': 'GOOG', 'VETA': 'META', 'NFLE': 'NFLX', 'IBW': 'IBM', 'CFM': 'CRM', 'LYRT': 'LYFT', 'STOP': 'SHOP', 'ADWE': 'ADBE', 'NNTC': 'INTC', 'GUOG': 'GOOG', 'TPLA': 'TSLA', 'LYFR': 'LYFT', 'SJOP': 'SHOP', 'CNTU': 'INTU', 'IPTU': 'INTU', 'CGCO': 'CSCO', 'INKU': 'INTU', 'MFTA': 'MSFT', 'JMZN': 'AMZN', 'HINS': 'PINS', 'WFLX': 'NFLX', 'WORM': 'WORK', 'DAPL': 'AAPL', 'PING': 'PINS', 'WSLA': 'TSLA', 'MSST': 'MSFT', 'DOCI': 'DOCU', 'QOOG': 'GOOG', 'SHOM': 'SHOP', 'AAPR': 'AAPL', 'PINW': 'PINS', 'GAPL': 'AAPL', 'SPOL': 'SPOT', 'XSLA': 'TSLA', 'KOOG': 'GOOG', 'WNTC': 'INTC', 'UETA': 'META', 'UBUR': 'UBER', 'DNCU': 'DOCU', 'DZCU': 'DOCU', 'ORCE': 'ORCL', 'SHOV': 'SHOP', 'SOAP': 'SHOP', 'SNAV': 'SNAP', 'NVKA': 'NVDA', 'GSOG': 'GOOG', 'SHOZ': 'SHOP', 'OMZN': 'AMZN', 'ORCO': 'ORCL', 'AAPA': 'AAPL', 'BSLA': 'TSLA'}\n"
          ]
        }
      ],
      "source": [
        "corrections = {}\n",
        "rare_valid = 0\n",
        "for ticker in ticker_counts[ticker_counts <= 10].index:\n",
        "    if not is_valid_ticker(ticker):\n",
        "        corrected = get_fuzzy_match(ticker, valid_tickers)\n",
        "        if corrected:\n",
        "            corrections[ticker] = corrected\n",
        "    else:\n",
        "        rare_valid += 1\n",
        "\n",
        "df1[\"Ticker\"] = df1[\"Ticker\"].replace(corrections)\n",
        "\n",
        "print(\"Correções feitas:\")\n",
        "print(corrections)"
      ]
    },
    {
      "cell_type": "markdown",
      "source": [
        "Printando a quantidade de correções feitas e de tickets que estavam no df"
      ],
      "metadata": {
        "id": "jmhyqFJdkJra"
      }
    },
    {
      "cell_type": "code",
      "execution_count": null,
      "metadata": {
        "colab": {
          "base_uri": "https://localhost:8080/"
        },
        "id": "qvjKmGUc8Vu2",
        "outputId": "c8170bc7-a32c-4227-c60a-fbaec1158669"
      },
      "outputs": [
        {
          "name": "stdout",
          "output_type": "stream",
          "text": [
            "corrections: 2408\n",
            "rare valid tickers: 164\n"
          ]
        }
      ],
      "source": [
        "print(\"corrections:\", len(corrections))\n",
        "print(\"rare valid tickers:\", rare_valid)"
      ]
    },
    {
      "cell_type": "markdown",
      "source": [
        "3. **Colunas Numéricas**   \n",
        "Análise geral das colunas numéricas, fica evidente que todas menos \"Adj Close\" seguem um padrão de ruído."
      ],
      "metadata": {
        "id": "JFXXbUcSkT0Q"
      }
    },
    {
      "cell_type": "code",
      "execution_count": null,
      "metadata": {
        "colab": {
          "base_uri": "https://localhost:8080/"
        },
        "id": "F3Fk6s2xEnmz",
        "outputId": "33a4d4ff-fde9-4d5b-e6d2-9a2fc08b01be"
      },
      "outputs": [
        {
          "name": "stdout",
          "output_type": "stream",
          "text": [
            "Open\n",
            "{'Z', ',', '$', '.'}\n",
            "200000\n",
            "High\n",
            "{'Z', ',', '$', '.'}\n",
            "200000\n",
            "Low\n",
            "{'Z', ',', '$', '.'}\n",
            "200000\n",
            "Close\n",
            "{'Z', ',', '$', '.'}\n",
            "200000\n",
            "Adj Close\n",
            "{'Z', ',', '$', '.'}\n",
            "200000\n",
            "Volume\n",
            "{'K', ',', 'o', 'l', ' ', 'B', 'M', '.', 'b', 'n', 'i'}\n",
            "3503\n",
            "Dividend\n",
            "{'Z', ',', '$', '.'}\n",
            "200000\n"
          ]
        }
      ],
      "source": [
        "numerics_columns = [\"Open\", \"High\", \"Low\", \"Close\", \"Adj Close\", \"Volume\", \"Dividend\"]\n",
        "def get_non_numeric_characters(column):\n",
        "  print(column.name)\n",
        "  tot = set(\"\")\n",
        "  for index, value in column.items():\n",
        "    tot = tot | set([c for c in value if not c.isdigit()])\n",
        "  print(tot)\n",
        "\n",
        "def count_comma(column):\n",
        "    count = 0\n",
        "    for index,value in column.items():\n",
        "        if isinstance(value, str) and len(value) >= 3:\n",
        "            if value[-3] in [',', '.']:\n",
        "                count += 1\n",
        "    print(count)\n",
        "\n",
        "for i in numerics_columns:\n",
        "  get_non_numeric_characters(df1[i])\n",
        "  count_comma(df1[i])"
      ]
    },
    {
      "cell_type": "markdown",
      "source": [
        "- Removendo a colunas \"Volume\" para tratamento individual.\n",
        "- Limpando caracteres problematicos das colunas e transformando pontos em virgulas"
      ],
      "metadata": {
        "id": "85z7qjtvkw-Z"
      }
    },
    {
      "cell_type": "code",
      "execution_count": null,
      "metadata": {
        "id": "Y4ykjT6Al0IO"
      },
      "outputs": [],
      "source": [
        "equivalents_numeric_columns = numerics_columns\n",
        "equivalents_numeric_columns.remove(\"Volume\")\n",
        "\n",
        "def change_caracter (value):\n",
        "  value = value.strip()\n",
        "  value = value.strip(\"$\")\n",
        "  value = value.replace(\"Z\", \"2\")\n",
        "  value = value.replace(\".\", \",\")\n",
        "  return value\n",
        "\n",
        "for i in equivalents_numeric_columns:\n",
        "  df1[i] = df1[i].apply(change_caracter)"
      ]
    },
    {
      "cell_type": "code",
      "execution_count": null,
      "metadata": {
        "id": "IyWryaAvZcBA",
        "outputId": "1424018d-9de8-40e8-b70b-4cfb8c5c5244"
      },
      "outputs": [
        {
          "name": "stdout",
          "output_type": "stream",
          "text": [
            "<class 'pandas.core.frame.DataFrame'>\n",
            "RangeIndex: 200000 entries, 0 to 199999\n",
            "Data columns (total 12 columns):\n",
            " #   Column         Non-Null Count   Dtype         \n",
            "---  ------         --------------   -----         \n",
            " 0   ID             200000 non-null  int64         \n",
            " 1   Date           197970 non-null  datetime64[ns]\n",
            " 2   Ticker         200000 non-null  object        \n",
            " 3   Open           200000 non-null  object        \n",
            " 4   High           200000 non-null  object        \n",
            " 5   Low            200000 non-null  object        \n",
            " 6   Close          200000 non-null  object        \n",
            " 7   Adj Close      200000 non-null  object        \n",
            " 8   Volume         200000 non-null  object        \n",
            " 9   Dividend       200000 non-null  object        \n",
            " 10  Split Ratio    161520 non-null  object        \n",
            " 11  original_date  200000 non-null  object        \n",
            "dtypes: datetime64[ns](1), int64(1), object(10)\n",
            "memory usage: 18.3+ MB\n"
          ]
        }
      ],
      "source": [
        "df1.info()"
      ]
    },
    {
      "cell_type": "markdown",
      "source": [
        "trocando virgula por ponto quando é para representar um numero do tipo float (todas são float) e checando de a conversão foi correta."
      ],
      "metadata": {
        "id": "7hMwv-k-lT2q"
      }
    },
    {
      "cell_type": "code",
      "execution_count": null,
      "metadata": {
        "id": "6TCwp1mD-W_C",
        "outputId": "f63b999e-d030-4b27-fd7f-47803bd6ee85"
      },
      "outputs": [
        {
          "name": "stdout",
          "output_type": "stream",
          "text": [
            "float64\n"
          ]
        }
      ],
      "source": [
        "def padronize_comma(column):\n",
        "    column = column.apply(\n",
        "        lambda value: value[:-3] + \".\" + value[-2:] if len(value) >= 3 else value\n",
        "    )\n",
        "    return column.astype(float)\n",
        "\n",
        "for col_name in equivalents_numeric_columns:\n",
        "    df1[col_name] = padronize_comma(df1[col_name])\n",
        "\n",
        "print(df1[\"Open\"].dtypes)"
      ]
    },
    {
      "cell_type": "markdown",
      "source": [
        "Troca de valores para \"High\" ser sempre o maior valor.\n",
        "\"Adj Close\" não foi considerado para esse tratamento por em casos especiais acabar sendo maior que o \"High\". Isso ocorre quando tem reverse split (as ações ao inves de serem fragmentadas, são fundidas)"
      ],
      "metadata": {
        "id": "m0u8IR8il2Om"
      }
    },
    {
      "cell_type": "code",
      "execution_count": null,
      "metadata": {
        "id": "7Z-EL0XmZcBB",
        "outputId": "728befac-c33e-4c82-d43b-b84fbd792552"
      },
      "outputs": [
        {
          "data": {
            "text/html": [
              "<div>\n",
              "<style scoped>\n",
              "    .dataframe tbody tr th:only-of-type {\n",
              "        vertical-align: middle;\n",
              "    }\n",
              "\n",
              "    .dataframe tbody tr th {\n",
              "        vertical-align: top;\n",
              "    }\n",
              "\n",
              "    .dataframe thead th {\n",
              "        text-align: right;\n",
              "    }\n",
              "</style>\n",
              "<table border=\"1\" class=\"dataframe\">\n",
              "  <thead>\n",
              "    <tr style=\"text-align: right;\">\n",
              "      <th></th>\n",
              "      <th>ID</th>\n",
              "      <th>Date</th>\n",
              "      <th>Ticker</th>\n",
              "      <th>Open</th>\n",
              "      <th>High</th>\n",
              "      <th>Low</th>\n",
              "      <th>Close</th>\n",
              "      <th>Adj Close</th>\n",
              "      <th>Volume</th>\n",
              "      <th>Dividend</th>\n",
              "      <th>Split Ratio</th>\n",
              "      <th>original_date</th>\n",
              "    </tr>\n",
              "  </thead>\n",
              "  <tbody>\n",
              "    <tr>\n",
              "      <th>0</th>\n",
              "      <td>1</td>\n",
              "      <td>2023-09-03</td>\n",
              "      <td>META</td>\n",
              "      <td>909.63</td>\n",
              "      <td>1380.05</td>\n",
              "      <td>258.44</td>\n",
              "      <td>595.86</td>\n",
              "      <td>61.54</td>\n",
              "      <td>8,846,040,350</td>\n",
              "      <td>3.57</td>\n",
              "      <td>1:1</td>\n",
              "      <td>2023-09-03</td>\n",
              "    </tr>\n",
              "    <tr>\n",
              "      <th>1</th>\n",
              "      <td>2</td>\n",
              "      <td>2024-08-28</td>\n",
              "      <td>NVDA</td>\n",
              "      <td>678.96</td>\n",
              "      <td>725.03</td>\n",
              "      <td>185.51</td>\n",
              "      <td>295.83</td>\n",
              "      <td>843.78</td>\n",
              "      <td>7346935699</td>\n",
              "      <td>2.85</td>\n",
              "      <td>3:2</td>\n",
              "      <td>Aug 28, 2024</td>\n",
              "    </tr>\n",
              "    <tr>\n",
              "      <th>2</th>\n",
              "      <td>3</td>\n",
              "      <td>2022-05-10</td>\n",
              "      <td>INTU</td>\n",
              "      <td>215.00</td>\n",
              "      <td>831.86</td>\n",
              "      <td>215.00</td>\n",
              "      <td>874.05</td>\n",
              "      <td>336.19</td>\n",
              "      <td>8,027,589,419</td>\n",
              "      <td>2.28</td>\n",
              "      <td>2:1</td>\n",
              "      <td>May 10, 2022</td>\n",
              "    </tr>\n",
              "    <tr>\n",
              "      <th>3</th>\n",
              "      <td>4</td>\n",
              "      <td>2017-12-26</td>\n",
              "      <td>NVDA</td>\n",
              "      <td>508.65</td>\n",
              "      <td>1111.85</td>\n",
              "      <td>186.39</td>\n",
              "      <td>511.49</td>\n",
              "      <td>952.63</td>\n",
              "      <td>1939.5M</td>\n",
              "      <td>4.51</td>\n",
              "      <td>3:2</td>\n",
              "      <td>2017-12-26</td>\n",
              "    </tr>\n",
              "    <tr>\n",
              "      <th>4</th>\n",
              "      <td>5</td>\n",
              "      <td>2022-01-20</td>\n",
              "      <td>WORK</td>\n",
              "      <td>692.20</td>\n",
              "      <td>1425.94</td>\n",
              "      <td>340.75</td>\n",
              "      <td>378.58</td>\n",
              "      <td>1493.44</td>\n",
              "      <td>8984007687</td>\n",
              "      <td>1.93</td>\n",
              "      <td>NaN</td>\n",
              "      <td>Jan 20, 2022</td>\n",
              "    </tr>\n",
              "    <tr>\n",
              "      <th>...</th>\n",
              "      <td>...</td>\n",
              "      <td>...</td>\n",
              "      <td>...</td>\n",
              "      <td>...</td>\n",
              "      <td>...</td>\n",
              "      <td>...</td>\n",
              "      <td>...</td>\n",
              "      <td>...</td>\n",
              "      <td>...</td>\n",
              "      <td>...</td>\n",
              "      <td>...</td>\n",
              "      <td>...</td>\n",
              "    </tr>\n",
              "    <tr>\n",
              "      <th>199995</th>\n",
              "      <td>199996</td>\n",
              "      <td>2019-07-27</td>\n",
              "      <td>TSLA</td>\n",
              "      <td>269.17</td>\n",
              "      <td>418.85</td>\n",
              "      <td>144.45</td>\n",
              "      <td>144.45</td>\n",
              "      <td>893.89</td>\n",
              "      <td>4184.54M</td>\n",
              "      <td>4.71</td>\n",
              "      <td>3:2</td>\n",
              "      <td>Jul 27, 2019</td>\n",
              "    </tr>\n",
              "    <tr>\n",
              "      <th>199996</th>\n",
              "      <td>199997</td>\n",
              "      <td>2021-09-13</td>\n",
              "      <td>VMW</td>\n",
              "      <td>262.78</td>\n",
              "      <td>315.78</td>\n",
              "      <td>89.13</td>\n",
              "      <td>172.09</td>\n",
              "      <td>659.42</td>\n",
              "      <td>5,782,458,138</td>\n",
              "      <td>1.04</td>\n",
              "      <td>3:2</td>\n",
              "      <td>Sep 13, 2021</td>\n",
              "    </tr>\n",
              "    <tr>\n",
              "      <th>199997</th>\n",
              "      <td>199998</td>\n",
              "      <td>2016-08-19</td>\n",
              "      <td>AAPL</td>\n",
              "      <td>327.66</td>\n",
              "      <td>1402.05</td>\n",
              "      <td>140.90</td>\n",
              "      <td>897.77</td>\n",
              "      <td>904.11</td>\n",
              "      <td>3104296586</td>\n",
              "      <td>3.21</td>\n",
              "      <td>NaN</td>\n",
              "      <td>2016-08-19</td>\n",
              "    </tr>\n",
              "    <tr>\n",
              "      <th>199998</th>\n",
              "      <td>199999</td>\n",
              "      <td>2020-06-24</td>\n",
              "      <td>DOCU</td>\n",
              "      <td>285.76</td>\n",
              "      <td>739.41</td>\n",
              "      <td>141.99</td>\n",
              "      <td>529.92</td>\n",
              "      <td>1201.64</td>\n",
              "      <td>45454067</td>\n",
              "      <td>1.51</td>\n",
              "      <td>NaN</td>\n",
              "      <td>2020-06-24</td>\n",
              "    </tr>\n",
              "    <tr>\n",
              "      <th>199999</th>\n",
              "      <td>200000</td>\n",
              "      <td>2021-09-14</td>\n",
              "      <td>CRM</td>\n",
              "      <td>736.95</td>\n",
              "      <td>1361.24</td>\n",
              "      <td>299.52</td>\n",
              "      <td>869.49</td>\n",
              "      <td>583.93</td>\n",
              "      <td>149011263</td>\n",
              "      <td>3.44</td>\n",
              "      <td>NaN</td>\n",
              "      <td>09-14-2021</td>\n",
              "    </tr>\n",
              "  </tbody>\n",
              "</table>\n",
              "<p>200000 rows × 12 columns</p>\n",
              "</div>"
            ],
            "text/plain": [
              "            ID       Date Ticker    Open     High     Low   Close  Adj Close  \\\n",
              "0            1 2023-09-03   META  909.63  1380.05  258.44  595.86      61.54   \n",
              "1            2 2024-08-28   NVDA  678.96   725.03  185.51  295.83     843.78   \n",
              "2            3 2022-05-10   INTU  215.00   831.86  215.00  874.05     336.19   \n",
              "3            4 2017-12-26   NVDA  508.65  1111.85  186.39  511.49     952.63   \n",
              "4            5 2022-01-20   WORK  692.20  1425.94  340.75  378.58    1493.44   \n",
              "...        ...        ...    ...     ...      ...     ...     ...        ...   \n",
              "199995  199996 2019-07-27   TSLA  269.17   418.85  144.45  144.45     893.89   \n",
              "199996  199997 2021-09-13    VMW  262.78   315.78   89.13  172.09     659.42   \n",
              "199997  199998 2016-08-19   AAPL  327.66  1402.05  140.90  897.77     904.11   \n",
              "199998  199999 2020-06-24   DOCU  285.76   739.41  141.99  529.92    1201.64   \n",
              "199999  200000 2021-09-14    CRM  736.95  1361.24  299.52  869.49     583.93   \n",
              "\n",
              "               Volume  Dividend Split Ratio original_date  \n",
              "0       8,846,040,350      3.57         1:1    2023-09-03  \n",
              "1          7346935699      2.85         3:2  Aug 28, 2024  \n",
              "2       8,027,589,419      2.28         2:1  May 10, 2022  \n",
              "3             1939.5M      4.51         3:2    2017-12-26  \n",
              "4          8984007687      1.93         NaN  Jan 20, 2022  \n",
              "...               ...       ...         ...           ...  \n",
              "199995       4184.54M      4.71         3:2  Jul 27, 2019  \n",
              "199996  5,782,458,138      1.04         3:2  Sep 13, 2021  \n",
              "199997     3104296586      3.21         NaN    2016-08-19  \n",
              "199998       45454067      1.51         NaN    2020-06-24  \n",
              "199999      149011263      3.44         NaN    09-14-2021  \n",
              "\n",
              "[200000 rows x 12 columns]"
            ]
          },
          "execution_count": 300,
          "metadata": {},
          "output_type": "execute_result"
        }
      ],
      "source": [
        "colunas = [\"Open\", \"High\", \"Low\", \"Close\"]\n",
        "def ajustar_high_low_com_troca(row, colunas=colunas):\n",
        "\n",
        "    valores = {col: row[col] for col in colunas}\n",
        "\n",
        "\n",
        "    col_maior = max(valores, key=valores.get)\n",
        "    col_menor = min(valores, key=valores.get)\n",
        "\n",
        "    valor_maior = valores[col_maior]\n",
        "    valor_menor = valores[col_menor]\n",
        "\n",
        "\n",
        "    if col_maior != \"High\":\n",
        "        row[col_maior] = row[\"High\"]\n",
        "        row[\"High\"] = valor_maior\n",
        "\n",
        "\n",
        "    if col_menor != \"Low\":\n",
        "        row[col_menor] = row[\"Low\"]\n",
        "        row[\"Low\"] = valor_menor\n",
        "\n",
        "    return row\n",
        "\n",
        "\n",
        "df1 = df1.apply(ajustar_high_low_com_troca, axis=1)\n",
        "\n",
        "df1"
      ]
    },
    {
      "cell_type": "markdown",
      "source": [
        "Em alguns casos, os valores de \"Volume\" ficam com \"billion\" ao lado, mesmo todas elas ja estando em bilhões (ex: 2371245326 Billion). Dessa forma é necessaria a remoção desses valores frivolos."
      ],
      "metadata": {
        "id": "uu5m_XvdmnLy"
      }
    },
    {
      "cell_type": "code",
      "execution_count": null,
      "metadata": {
        "collapsed": true,
        "id": "xl-Za8VI-HS-"
      },
      "outputs": [],
      "source": [
        "get_non_numeric_characters(df1[\"Volume\"].apply( lambda x: x.strip()))\n",
        "\n",
        "for index, string in df1[\"Volume\"].items():\n",
        "  for char in string:\n",
        "    if char.lower() in \"bilion\":\n",
        "      new_string = \"\"\n",
        "      for c in string:\n",
        "        if c.lower() not in \"bilion\":\n",
        "          new_string += c\n",
        "      df1.loc[index,\"Volume\"] = new_string"
      ]
    },
    {
      "cell_type": "markdown",
      "source": [
        "Conversão correta em valores que tem M e ou K junto aos números\n",
        "Numeros como 4.282.547.185K não são multiplicados por 1**3 pois já estão na casa dos bilhões"
      ],
      "metadata": {
        "id": "otvgnXIfnPez"
      }
    },
    {
      "cell_type": "code",
      "execution_count": null,
      "metadata": {
        "id": "nRc505FlD8Kb"
      },
      "outputs": [],
      "source": [
        "def remove_letter(value):\n",
        "  value = value.replace(\"M\", \"\")\n",
        "  value = value.replace(\"K\", \"\")\n",
        "  if value.count(\",\") > 1:\n",
        "    value = value.replace(\",\", \"\")\n",
        "  else:\n",
        "    value = value.replace(\",\", \".\")\n",
        "\n",
        "  return float(value)\n",
        "\n",
        "def transforming_float(value): #checar se lógica está correta\n",
        "  value = value.strip()\n",
        "  if \"m\" in value.lower() or \"k\" in value.lower():\n",
        "    if remove_letter(value) >= 10**9:\n",
        "      return int(remove_letter(value))\n",
        "    if remove_letter(value) >= 1**4:\n",
        "      return int(remove_letter(value) * 10**3)\n",
        "\n",
        "    return int(remove_letter(value) * 10**6)\n",
        "\n",
        "  return int(remove_letter(value))\n",
        "\n",
        "\n",
        "df1[\"Volume\"] = df1[\"Volume\"].apply(transforming_float)\n"
      ]
    },
    {
      "cell_type": "code",
      "execution_count": null,
      "metadata": {
        "colab": {
          "base_uri": "https://localhost:8080/"
        },
        "id": "2koS7494G7pU",
        "outputId": "d85056a4-6c8a-47dc-a155-c6e96379262f"
      },
      "outputs": [
        {
          "name": "stdout",
          "output_type": "stream",
          "text": [
            "1012863\n",
            "175058\n"
          ]
        }
      ],
      "source": [
        "max_volume_index = df1['Volume'].idxmax()\n",
        "minvol = df1[\"Volume\"].max()\n",
        "print(minvol)\n",
        "print(max_volume_index)\n"
      ]
    },
    {
      "cell_type": "markdown",
      "source": [
        "5. **Split Ratio**\n",
        "Fica evidente grande quantidade de ruído presente nos valores da couluna"
      ],
      "metadata": {
        "id": "8iqx1-ossHCF"
      }
    },
    {
      "cell_type": "code",
      "execution_count": null,
      "metadata": {
        "colab": {
          "base_uri": "https://localhost:8080/"
        },
        "id": "kPmU0S5kCbt0",
        "outputId": "324454b2-2604-433b-fe6a-f2bfc7df7ba0"
      },
      "outputs": [
        {
          "name": "stdout",
          "output_type": "stream",
          "text": [
            "Split Ratio\n",
            "{'L', 'N', 'p', 'X', 'O', 'B', 'H', 'M', 'E', 'I', 'D', ':', 'Z', 'K', 'F', 'U', 'n', 'e', 'W', 'P', 'i', 'T', 'o', 'v', 'l', 'Y', 'd', 'C', 'G', 'á', 'S', 'Q', ' ', 'R', 't', 'J', 'A', 'V'}\n"
          ]
        }
      ],
      "source": [
        "df1['Split Ratio'] = df1['Split Ratio'].fillna('Split inválido').astype(str)  # Substitui NaN por string vazia\n",
        "get_non_numeric_characters(df1[\"Split Ratio\"])"
      ]
    },
    {
      "cell_type": "markdown",
      "source": [
        "Corrigindo valores com uma letra no lugar de dois pontos (ex: 2a1 ou 3K2)"
      ],
      "metadata": {
        "id": "shYQ-4oasm7d"
      }
    },
    {
      "cell_type": "code",
      "execution_count": null,
      "metadata": {
        "id": "vNVwWI7mZRSW"
      },
      "outputs": [],
      "source": [
        "def valid_split(valor):\n",
        "  return valor[0].isdigit() and valor[1] != \":\" and valor[2].isdigit()\n",
        "\n",
        "for i, valor in df1[\"Split Ratio\"].items():\n",
        "    if len(valor) == 3:\n",
        "        if valid_split(valor):\n",
        "            df1.loc[i, \"Split Ratio\"] = valor[0] + \":\" + valor[2]"
      ]
    },
    {
      "cell_type": "markdown",
      "source": [
        "Entendendo como é a distribuição de valores válidos"
      ],
      "metadata": {
        "id": "vIIZpOe9s2wU"
      }
    },
    {
      "cell_type": "code",
      "execution_count": null,
      "metadata": {
        "colab": {
          "base_uri": "https://localhost:8080/"
        },
        "id": "ZbxlkEFNsbov",
        "outputId": "f2a7b14c-9473-4ccd-c5fe-0d4490a6071c"
      },
      "outputs": [
        {
          "name": "stdout",
          "output_type": "stream",
          "text": [
            "Split Ratios válidos encontrados: ['1:1', '3:2', '2:1']\n"
          ]
        }
      ],
      "source": [
        "def right_split(val):\n",
        "    val = str(val)\n",
        "    return len(val) == 3 and val[0].isdigit() and val[1] == \":\" and val[2].isdigit()\n",
        "\n",
        "poss = []\n",
        "\n",
        "for _, val in df1[\"Split Ratio\"].items():\n",
        "    if pd.isna(val):\n",
        "        continue\n",
        "\n",
        "    if right_split(val) and val not in poss:\n",
        "        poss.append(val)\n",
        "\n",
        "print(\"Split Ratios válidos encontrados:\", poss)\n",
        "\n",
        "# A:1\n"
      ]
    },
    {
      "cell_type": "markdown",
      "source": [
        "Ajustando splits parciais (ex: x:2 ou 3:f)\n",
        "Em vasos com o valor 1 no final foi preciso gerar aleatóriamente os valor do numerador para manter a proporção da distribução"
      ],
      "metadata": {
        "id": "EewdsWwis_u0"
      }
    },
    {
      "cell_type": "code",
      "execution_count": null,
      "metadata": {
        "id": "GwYRxxRmyPpp"
      },
      "outputs": [],
      "source": [
        "import random\n",
        "def ajust_parcial_splits(val):\n",
        "    if val[0] == \"2\":\n",
        "        return val[:-1] + \"1\"\n",
        "    if val[0] == \"3\":\n",
        "        return val[:-1] + \"2\"\n",
        "    if val[2] == \"1\":\n",
        "        newv = random.choice([1, 2])\n",
        "        return f\"{newv}:{val[2]}\"\n",
        "    return \"Valor inválido\"\n",
        "\n",
        "# Iterando pelas linhas da coluna 'Split Ratio'\n",
        "for index, value in df1[\"Split Ratio\"].items():\n",
        "    if not value == \"Valor inválido\" and (not value[0].isdigit() or not value[2].isdigit()):\n",
        "        df1.loc[index, \"Split Ratio\"] = ajust_parcial_splits(value)"
      ]
    },
    {
      "cell_type": "markdown",
      "source": [
        "Quantidade elevada de valores inválidos e aparentemetne irreculperáveis"
      ],
      "metadata": {
        "id": "_qFtIPddtYp8"
      }
    },
    {
      "cell_type": "code",
      "execution_count": null,
      "metadata": {
        "colab": {
          "base_uri": "https://localhost:8080/"
        },
        "id": "X64II6js0H7b",
        "outputId": "0fb17013-dc81-47d6-c88c-307a6152bb2f"
      },
      "outputs": [
        {
          "name": "stdout",
          "output_type": "stream",
          "text": [
            "Proporção de valores inválidos: 25.76%\n"
          ]
        }
      ],
      "source": [
        "\n",
        "invalid_count = df1[\"Split Ratio\"].value_counts().get(\"Valor inválido\", 0)\n",
        "print(f\"Proporção de valores inválidos: {invalid_count/len(df1['Split Ratio']):.2%}\")\n"
      ]
    },
    {
      "cell_type": "markdown",
      "source": [
        "### Compreendendo os valores na tabela e tratando outliers de forma eficiênte"
      ],
      "metadata": {
        "id": "sCY5esyDtgT8"
      }
    },
    {
      "cell_type": "code",
      "execution_count": null,
      "metadata": {
        "id": "GtJE6YSnZcBD",
        "outputId": "ca152588-b5d1-4d61-b969-3e615fd14604"
      },
      "outputs": [
        {
          "data": {
            "text/plain": [
              "dtype('int64')"
            ]
          },
          "execution_count": 311,
          "metadata": {},
          "output_type": "execute_result"
        }
      ],
      "source": [
        "df1[\"Volume\"].dtypes"
      ]
    },
    {
      "cell_type": "code",
      "execution_count": null,
      "metadata": {
        "id": "ygfN4ZnFZcBD",
        "outputId": "bf3a0efe-154e-45da-c828-15d5ad7fad50"
      },
      "outputs": [
        {
          "name": "stdout",
          "output_type": "stream",
          "text": [
            "<class 'pandas.core.frame.DataFrame'>\n",
            "RangeIndex: 200000 entries, 0 to 199999\n",
            "Data columns (total 12 columns):\n",
            " #   Column         Non-Null Count   Dtype         \n",
            "---  ------         --------------   -----         \n",
            " 0   ID             200000 non-null  int64         \n",
            " 1   Date           197970 non-null  datetime64[ns]\n",
            " 2   Ticker         200000 non-null  object        \n",
            " 3   Open           200000 non-null  float64       \n",
            " 4   High           200000 non-null  float64       \n",
            " 5   Low            200000 non-null  float64       \n",
            " 6   Close          200000 non-null  float64       \n",
            " 7   Adj Close      200000 non-null  float64       \n",
            " 8   Volume         200000 non-null  int64         \n",
            " 9   Dividend       200000 non-null  float64       \n",
            " 10  Split Ratio    200000 non-null  object        \n",
            " 11  original_date  200000 non-null  object        \n",
            "dtypes: datetime64[ns](1), float64(6), int64(2), object(3)\n",
            "memory usage: 18.3+ MB\n"
          ]
        }
      ],
      "source": [
        "df1.info()\n",
        "\n",
        "#printar nulos de date e split ratio:\n"
      ]
    },
    {
      "cell_type": "code",
      "execution_count": 3,
      "metadata": {
        "colab": {
          "base_uri": "https://localhost:8080/",
          "height": 159
        },
        "id": "YiXvu2uBZcBE",
        "outputId": "d6919977-bc04-47a1-96ba-3762e3d68389"
      },
      "outputs": [
        {
          "output_type": "error",
          "ename": "NameError",
          "evalue": "name 'px' is not defined",
          "traceback": [
            "\u001b[0;31m---------------------------------------------------------------------------\u001b[0m",
            "\u001b[0;31mNameError\u001b[0m                                 Traceback (most recent call last)",
            "\u001b[0;32m<ipython-input-3-83ced56af1b6>\u001b[0m in \u001b[0;36m<cell line: 0>\u001b[0;34m()\u001b[0m\n\u001b[0;32m----> 1\u001b[0;31m \u001b[0mfig\u001b[0m \u001b[0;34m=\u001b[0m \u001b[0mpx\u001b[0m\u001b[0;34m.\u001b[0m\u001b[0mboxplot\u001b[0m\u001b[0;34m(\u001b[0m\u001b[0mdf1\u001b[0m\u001b[0;34m,\u001b[0m \u001b[0my\u001b[0m\u001b[0;34m=\u001b[0m\u001b[0;34m\"Volume\"\u001b[0m\u001b[0;34m)\u001b[0m\u001b[0;34m\u001b[0m\u001b[0;34m\u001b[0m\u001b[0m\n\u001b[0m\u001b[1;32m      2\u001b[0m \u001b[0mfig\u001b[0m\u001b[0;34m.\u001b[0m\u001b[0mshow\u001b[0m\u001b[0;34m(\u001b[0m\u001b[0;34m)\u001b[0m\u001b[0;34m\u001b[0m\u001b[0;34m\u001b[0m\u001b[0m\n",
            "\u001b[0;31mNameError\u001b[0m: name 'px' is not defined"
          ]
        }
      ],
      "source": [
        "numeric_cols = df1.select_dtypes(include=np.number).columns\n",
        "print(numeric_cols)\n",
        "# Itera sobre as colunas numéricas e gera um boxplot para cada uma\n",
        "for col in numeric_cols:\n",
        "    fig = px.boxplot(df1, y=col, title=f'Boxplot de {col}')\n",
        "    fig.show()"
      ]
    },
    {
      "cell_type": "code",
      "source": [
        "df1[\"Ticker\"].describe()\n",
        "\n",
        "fig = px.histogram(df1, x=valid_tickers, title=\"Distribuição de Ticker\")\n",
        "fig.show()"
      ],
      "metadata": {
        "id": "ogVoSI6Iqha2"
      },
      "execution_count": null,
      "outputs": []
    }
  ],
  "metadata": {
    "colab": {
      "provenance": []
    },
    "kernelspec": {
      "display_name": "Python 3",
      "name": "python3"
    },
    "language_info": {
      "codemirror_mode": {
        "name": "ipython",
        "version": 3
      },
      "file_extension": ".py",
      "mimetype": "text/x-python",
      "name": "python",
      "nbconvert_exporter": "python",
      "pygments_lexer": "ipython3",
      "version": "3.12.10"
    }
  },
  "nbformat": 4,
  "nbformat_minor": 0
}