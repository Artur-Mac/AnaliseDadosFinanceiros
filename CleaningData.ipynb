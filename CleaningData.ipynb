{
  "cells": [
    {
      "cell_type": "code",
      "execution_count": 29,
      "metadata": {
        "colab": {
          "base_uri": "https://localhost:8080/"
        },
        "id": "jL8VLiF5qtm5",
        "outputId": "d03ed68e-72ad-4041-9068-1fe319434136"
      },
      "outputs": [
        {
          "name": "stdout",
          "output_type": "stream",
          "text": [
            "Defaulting to user installation because normal site-packages is not writeable\n",
            "Requirement already satisfied: fuzzywuzzy in c:\\users\\artur\\appdata\\local\\packages\\pythonsoftwarefoundation.python.3.12_qbz5n2kfra8p0\\localcache\\local-packages\\python312\\site-packages (0.18.0)\n",
            "Note: you may need to restart the kernel to use updated packages.\n",
            "Defaulting to user installation because normal site-packages is not writeable\n",
            "Requirement already satisfied: Levenshtein in c:\\users\\artur\\appdata\\local\\packages\\pythonsoftwarefoundation.python.3.12_qbz5n2kfra8p0\\localcache\\local-packages\\python312\\site-packages (0.27.1)\n",
            "Requirement already satisfied: rapidfuzz<4.0.0,>=3.9.0 in c:\\users\\artur\\appdata\\local\\packages\\pythonsoftwarefoundation.python.3.12_qbz5n2kfra8p0\\localcache\\local-packages\\python312\\site-packages (from Levenshtein) (3.13.0)\n",
            "Note: you may need to restart the kernel to use updated packages.\n",
            "Defaulting to user installation because normal site-packages is not writeable\n",
            "Requirement already satisfied: yahoo-finance in c:\\users\\artur\\appdata\\local\\packages\\pythonsoftwarefoundation.python.3.12_qbz5n2kfra8p0\\localcache\\local-packages\\python312\\site-packages (1.4.0)\n",
            "Requirement already satisfied: pytz in c:\\users\\artur\\appdata\\local\\packages\\pythonsoftwarefoundation.python.3.12_qbz5n2kfra8p0\\localcache\\local-packages\\python312\\site-packages (from yahoo-finance) (2025.2)\n",
            "Requirement already satisfied: simplejson in c:\\users\\artur\\appdata\\local\\packages\\pythonsoftwarefoundation.python.3.12_qbz5n2kfra8p0\\localcache\\local-packages\\python312\\site-packages (from yahoo-finance) (3.20.1)\n",
            "Note: you may need to restart the kernel to use updated packages.\n",
            "Defaulting to user installation because normal site-packages is not writeable\n",
            "Requirement already satisfied: yfinance in c:\\users\\artur\\appdata\\local\\packages\\pythonsoftwarefoundation.python.3.12_qbz5n2kfra8p0\\localcache\\local-packages\\python312\\site-packages (0.2.61)\n",
            "Requirement already satisfied: pandas>=1.3.0 in c:\\users\\artur\\appdata\\local\\packages\\pythonsoftwarefoundation.python.3.12_qbz5n2kfra8p0\\localcache\\local-packages\\python312\\site-packages (from yfinance) (2.2.3)\n",
            "Requirement already satisfied: numpy>=1.16.5 in c:\\users\\artur\\appdata\\local\\packages\\pythonsoftwarefoundation.python.3.12_qbz5n2kfra8p0\\localcache\\local-packages\\python312\\site-packages (from yfinance) (2.2.5)\n",
            "Requirement already satisfied: requests>=2.31 in c:\\users\\artur\\appdata\\local\\packages\\pythonsoftwarefoundation.python.3.12_qbz5n2kfra8p0\\localcache\\local-packages\\python312\\site-packages (from yfinance) (2.32.3)\n",
            "Requirement already satisfied: multitasking>=0.0.7 in c:\\users\\artur\\appdata\\local\\packages\\pythonsoftwarefoundation.python.3.12_qbz5n2kfra8p0\\localcache\\local-packages\\python312\\site-packages (from yfinance) (0.0.11)\n",
            "Requirement already satisfied: platformdirs>=2.0.0 in c:\\users\\artur\\appdata\\local\\packages\\pythonsoftwarefoundation.python.3.12_qbz5n2kfra8p0\\localcache\\local-packages\\python312\\site-packages (from yfinance) (4.3.8)\n",
            "Requirement already satisfied: pytz>=2022.5 in c:\\users\\artur\\appdata\\local\\packages\\pythonsoftwarefoundation.python.3.12_qbz5n2kfra8p0\\localcache\\local-packages\\python312\\site-packages (from yfinance) (2025.2)\n",
            "Requirement already satisfied: frozendict>=2.3.4 in c:\\users\\artur\\appdata\\local\\packages\\pythonsoftwarefoundation.python.3.12_qbz5n2kfra8p0\\localcache\\local-packages\\python312\\site-packages (from yfinance) (2.4.6)\n",
            "Requirement already satisfied: peewee>=3.16.2 in c:\\users\\artur\\appdata\\local\\packages\\pythonsoftwarefoundation.python.3.12_qbz5n2kfra8p0\\localcache\\local-packages\\python312\\site-packages (from yfinance) (3.18.1)\n",
            "Requirement already satisfied: beautifulsoup4>=4.11.1 in c:\\users\\artur\\appdata\\local\\packages\\pythonsoftwarefoundation.python.3.12_qbz5n2kfra8p0\\localcache\\local-packages\\python312\\site-packages (from yfinance) (4.13.4)\n",
            "Requirement already satisfied: curl_cffi>=0.7 in c:\\users\\artur\\appdata\\local\\packages\\pythonsoftwarefoundation.python.3.12_qbz5n2kfra8p0\\localcache\\local-packages\\python312\\site-packages (from yfinance) (0.11.1)\n",
            "Requirement already satisfied: protobuf>=3.19.0 in c:\\users\\artur\\appdata\\local\\packages\\pythonsoftwarefoundation.python.3.12_qbz5n2kfra8p0\\localcache\\local-packages\\python312\\site-packages (from yfinance) (6.31.0)\n",
            "Requirement already satisfied: websockets>=13.0 in c:\\users\\artur\\appdata\\local\\packages\\pythonsoftwarefoundation.python.3.12_qbz5n2kfra8p0\\localcache\\local-packages\\python312\\site-packages (from yfinance) (15.0.1)\n",
            "Requirement already satisfied: soupsieve>1.2 in c:\\users\\artur\\appdata\\local\\packages\\pythonsoftwarefoundation.python.3.12_qbz5n2kfra8p0\\localcache\\local-packages\\python312\\site-packages (from beautifulsoup4>=4.11.1->yfinance) (2.7)\n",
            "Requirement already satisfied: typing-extensions>=4.0.0 in c:\\users\\artur\\appdata\\local\\packages\\pythonsoftwarefoundation.python.3.12_qbz5n2kfra8p0\\localcache\\local-packages\\python312\\site-packages (from beautifulsoup4>=4.11.1->yfinance) (4.13.2)\n",
            "Requirement already satisfied: cffi>=1.12.0 in c:\\users\\artur\\appdata\\local\\packages\\pythonsoftwarefoundation.python.3.12_qbz5n2kfra8p0\\localcache\\local-packages\\python312\\site-packages (from curl_cffi>=0.7->yfinance) (1.17.1)\n",
            "Requirement already satisfied: certifi>=2024.2.2 in c:\\users\\artur\\appdata\\local\\packages\\pythonsoftwarefoundation.python.3.12_qbz5n2kfra8p0\\localcache\\local-packages\\python312\\site-packages (from curl_cffi>=0.7->yfinance) (2025.4.26)\n",
            "Requirement already satisfied: pycparser in c:\\users\\artur\\appdata\\local\\packages\\pythonsoftwarefoundation.python.3.12_qbz5n2kfra8p0\\localcache\\local-packages\\python312\\site-packages (from cffi>=1.12.0->curl_cffi>=0.7->yfinance) (2.22)\n",
            "Requirement already satisfied: python-dateutil>=2.8.2 in c:\\users\\artur\\appdata\\local\\packages\\pythonsoftwarefoundation.python.3.12_qbz5n2kfra8p0\\localcache\\local-packages\\python312\\site-packages (from pandas>=1.3.0->yfinance) (2.9.0.post0)\n",
            "Requirement already satisfied: tzdata>=2022.7 in c:\\users\\artur\\appdata\\local\\packages\\pythonsoftwarefoundation.python.3.12_qbz5n2kfra8p0\\localcache\\local-packages\\python312\\site-packages (from pandas>=1.3.0->yfinance) (2025.2)\n",
            "Requirement already satisfied: six>=1.5 in c:\\users\\artur\\appdata\\local\\packages\\pythonsoftwarefoundation.python.3.12_qbz5n2kfra8p0\\localcache\\local-packages\\python312\\site-packages (from python-dateutil>=2.8.2->pandas>=1.3.0->yfinance) (1.17.0)\n",
            "Requirement already satisfied: charset-normalizer<4,>=2 in c:\\users\\artur\\appdata\\local\\packages\\pythonsoftwarefoundation.python.3.12_qbz5n2kfra8p0\\localcache\\local-packages\\python312\\site-packages (from requests>=2.31->yfinance) (3.4.2)\n",
            "Requirement already satisfied: idna<4,>=2.5 in c:\\users\\artur\\appdata\\local\\packages\\pythonsoftwarefoundation.python.3.12_qbz5n2kfra8p0\\localcache\\local-packages\\python312\\site-packages (from requests>=2.31->yfinance) (3.10)\n",
            "Requirement already satisfied: urllib3<3,>=1.21.1 in c:\\users\\artur\\appdata\\local\\packages\\pythonsoftwarefoundation.python.3.12_qbz5n2kfra8p0\\localcache\\local-packages\\python312\\site-packages (from requests>=2.31->yfinance) (2.4.0)\n",
            "Note: you may need to restart the kernel to use updated packages.\n",
            "Defaulting to user installation because normal site-packages is not writeable\n",
            "Requirement already satisfied: nbformat in c:\\users\\artur\\appdata\\local\\packages\\pythonsoftwarefoundation.python.3.12_qbz5n2kfra8p0\\localcache\\local-packages\\python312\\site-packages (5.10.4)\n",
            "Requirement already satisfied: fastjsonschema>=2.15 in c:\\users\\artur\\appdata\\local\\packages\\pythonsoftwarefoundation.python.3.12_qbz5n2kfra8p0\\localcache\\local-packages\\python312\\site-packages (from nbformat) (2.21.1)\n",
            "Requirement already satisfied: jsonschema>=2.6 in c:\\users\\artur\\appdata\\local\\packages\\pythonsoftwarefoundation.python.3.12_qbz5n2kfra8p0\\localcache\\local-packages\\python312\\site-packages (from nbformat) (4.23.0)\n",
            "Requirement already satisfied: jupyter-core!=5.0.*,>=4.12 in c:\\users\\artur\\appdata\\local\\packages\\pythonsoftwarefoundation.python.3.12_qbz5n2kfra8p0\\localcache\\local-packages\\python312\\site-packages (from nbformat) (5.7.2)\n",
            "Requirement already satisfied: traitlets>=5.1 in c:\\users\\artur\\appdata\\local\\packages\\pythonsoftwarefoundation.python.3.12_qbz5n2kfra8p0\\localcache\\local-packages\\python312\\site-packages (from nbformat) (5.14.3)\n",
            "Requirement already satisfied: attrs>=22.2.0 in c:\\users\\artur\\appdata\\local\\packages\\pythonsoftwarefoundation.python.3.12_qbz5n2kfra8p0\\localcache\\local-packages\\python312\\site-packages (from jsonschema>=2.6->nbformat) (25.3.0)\n",
            "Requirement already satisfied: jsonschema-specifications>=2023.03.6 in c:\\users\\artur\\appdata\\local\\packages\\pythonsoftwarefoundation.python.3.12_qbz5n2kfra8p0\\localcache\\local-packages\\python312\\site-packages (from jsonschema>=2.6->nbformat) (2025.4.1)\n",
            "Requirement already satisfied: referencing>=0.28.4 in c:\\users\\artur\\appdata\\local\\packages\\pythonsoftwarefoundation.python.3.12_qbz5n2kfra8p0\\localcache\\local-packages\\python312\\site-packages (from jsonschema>=2.6->nbformat) (0.36.2)\n",
            "Requirement already satisfied: rpds-py>=0.7.1 in c:\\users\\artur\\appdata\\local\\packages\\pythonsoftwarefoundation.python.3.12_qbz5n2kfra8p0\\localcache\\local-packages\\python312\\site-packages (from jsonschema>=2.6->nbformat) (0.25.1)\n",
            "Requirement already satisfied: platformdirs>=2.5 in c:\\users\\artur\\appdata\\local\\packages\\pythonsoftwarefoundation.python.3.12_qbz5n2kfra8p0\\localcache\\local-packages\\python312\\site-packages (from jupyter-core!=5.0.*,>=4.12->nbformat) (4.3.8)\n",
            "Requirement already satisfied: pywin32>=300 in c:\\users\\artur\\appdata\\local\\packages\\pythonsoftwarefoundation.python.3.12_qbz5n2kfra8p0\\localcache\\local-packages\\python312\\site-packages (from jupyter-core!=5.0.*,>=4.12->nbformat) (310)\n",
            "Requirement already satisfied: typing-extensions>=4.4.0 in c:\\users\\artur\\appdata\\local\\packages\\pythonsoftwarefoundation.python.3.12_qbz5n2kfra8p0\\localcache\\local-packages\\python312\\site-packages (from referencing>=0.28.4->jsonschema>=2.6->nbformat) (4.13.2)\n",
            "Note: you may need to restart the kernel to use updated packages.\n",
            "Defaulting to user installation because normal site-packages is not writeable\n",
            "Collecting scipy\n",
            "  Downloading scipy-1.15.3-cp312-cp312-win_amd64.whl.metadata (60 kB)\n",
            "Requirement already satisfied: numpy<2.5,>=1.23.5 in c:\\users\\artur\\appdata\\local\\packages\\pythonsoftwarefoundation.python.3.12_qbz5n2kfra8p0\\localcache\\local-packages\\python312\\site-packages (from scipy) (2.2.5)\n",
            "Downloading scipy-1.15.3-cp312-cp312-win_amd64.whl (41.0 MB)\n",
            "   ---------------------------------------- 0.0/41.0 MB ? eta -:--:--\n",
            "   - -------------------------------------- 1.3/41.0 MB 11.2 MB/s eta 0:00:04\n",
            "   ------ --------------------------------- 6.6/41.0 MB 23.7 MB/s eta 0:00:02\n",
            "   -------- ------------------------------- 8.9/41.0 MB 17.3 MB/s eta 0:00:02\n",
            "   ------------- -------------------------- 14.2/41.0 MB 19.3 MB/s eta 0:00:02\n",
            "   ------------------ --------------------- 19.4/41.0 MB 21.1 MB/s eta 0:00:02\n",
            "   --------------------- ------------------ 22.0/41.0 MB 19.9 MB/s eta 0:00:01\n",
            "   ---------------------------------- ----- 35.7/41.0 MB 27.0 MB/s eta 0:00:01\n",
            "   ---------------------------------------- 41.0/41.0 MB 26.8 MB/s eta 0:00:00\n",
            "Installing collected packages: scipy\n",
            "Successfully installed scipy-1.15.3\n",
            "Note: you may need to restart the kernel to use updated packages.\n"
          ]
        }
      ],
      "source": [
        "%pip install fuzzywuzzy\n",
        "%pip install Levenshtein\n",
        "%pip install yahoo-finance\n",
        "%pip install yfinance\n",
        "%pip install -U nbformat\n",
        "%pip install scipy\n",
        "\n"
      ]
    },
    {
      "cell_type": "code",
      "execution_count": 2,
      "metadata": {
        "id": "rbU_8KJCATXh"
      },
      "outputs": [],
      "source": [
        "import pandas as pd\n",
        "import numpy as np\n",
        "from fuzzywuzzy import fuzz, process\n",
        "import yfinance as yf\n",
        "import plotly.express as px\n",
        "from functools import lru_cache"
      ]
    },
    {
      "cell_type": "code",
      "execution_count": 3,
      "metadata": {
        "colab": {
          "base_uri": "https://localhost:8080/"
        },
        "id": "szR8vO1grdqf",
        "outputId": "572cb6a1-3c07-4251-f228-4c9f2c5d4a1c"
      },
      "outputs": [
        {
          "name": "stdout",
          "output_type": "stream",
          "text": [
            "<class 'pandas.core.frame.DataFrame'>\n",
            "RangeIndex: 200000 entries, 0 to 199999\n",
            "Data columns (total 11 columns):\n",
            " #   Column       Non-Null Count   Dtype \n",
            "---  ------       --------------   ----- \n",
            " 0   ID           200000 non-null  int64 \n",
            " 1   Date         200000 non-null  object\n",
            " 2   Ticker       200000 non-null  object\n",
            " 3   Open         200000 non-null  object\n",
            " 4   High         200000 non-null  object\n",
            " 5   Low          200000 non-null  object\n",
            " 6   Close        200000 non-null  object\n",
            " 7   Adj Close    200000 non-null  object\n",
            " 8   Volume       200000 non-null  object\n",
            " 9   Dividend     200000 non-null  object\n",
            " 10  Split Ratio  161520 non-null  object\n",
            "dtypes: int64(1), object(10)\n",
            "memory usage: 16.8+ MB\n"
          ]
        }
      ],
      "source": [
        "df1 = pd.read_csv('./stock_part1.csv')\n",
        "df2 = pd.read_csv('./stock_part2.csv')\n",
        "\n",
        "df1.info()"
      ]
    },
    {
      "cell_type": "code",
      "execution_count": 15,
      "metadata": {
        "colab": {
          "base_uri": "https://localhost:8080/",
          "height": 424
        },
        "id": "y6-7gPH91UyO",
        "outputId": "fd6565e7-3109-4ec4-f1e9-ab45dc678baf"
      },
      "outputs": [
        {
          "data": {
            "text/html": [
              "<div>\n",
              "<style scoped>\n",
              "    .dataframe tbody tr th:only-of-type {\n",
              "        vertical-align: middle;\n",
              "    }\n",
              "\n",
              "    .dataframe tbody tr th {\n",
              "        vertical-align: top;\n",
              "    }\n",
              "\n",
              "    .dataframe thead th {\n",
              "        text-align: right;\n",
              "    }\n",
              "</style>\n",
              "<table border=\"1\" class=\"dataframe\">\n",
              "  <thead>\n",
              "    <tr style=\"text-align: right;\">\n",
              "      <th></th>\n",
              "      <th>ID</th>\n",
              "      <th>Date</th>\n",
              "      <th>Ticker</th>\n",
              "      <th>Open</th>\n",
              "      <th>High</th>\n",
              "      <th>Low</th>\n",
              "      <th>Close</th>\n",
              "      <th>Adj Close</th>\n",
              "      <th>Volume</th>\n",
              "      <th>Dividend</th>\n",
              "      <th>Split Ratio</th>\n",
              "    </tr>\n",
              "  </thead>\n",
              "  <tbody>\n",
              "    <tr>\n",
              "      <th>0</th>\n",
              "      <td>1</td>\n",
              "      <td>2023-09-03</td>\n",
              "      <td>meta</td>\n",
              "      <td>258.44</td>\n",
              "      <td>909.63</td>\n",
              "      <td>1380.05</td>\n",
              "      <td>595,86</td>\n",
              "      <td>61.54</td>\n",
              "      <td>8,846,040,350</td>\n",
              "      <td>3.57</td>\n",
              "      <td>1:1</td>\n",
              "    </tr>\n",
              "    <tr>\n",
              "      <th>1</th>\n",
              "      <td>2</td>\n",
              "      <td>Aug 28, 2024</td>\n",
              "      <td>NVDA</td>\n",
              "      <td>678.96</td>\n",
              "      <td>725.03</td>\n",
              "      <td>185.51</td>\n",
              "      <td>295.83</td>\n",
              "      <td>843.78</td>\n",
              "      <td>7346935699</td>\n",
              "      <td>2.85</td>\n",
              "      <td>3:2</td>\n",
              "    </tr>\n",
              "    <tr>\n",
              "      <th>2</th>\n",
              "      <td>3</td>\n",
              "      <td>May 10, 2022</td>\n",
              "      <td>INTU</td>\n",
              "      <td>1348.94</td>\n",
              "      <td>215.00</td>\n",
              "      <td>831.86</td>\n",
              "      <td>874.05</td>\n",
              "      <td>$336,19</td>\n",
              "      <td>8,027,589,419</td>\n",
              "      <td>2.28</td>\n",
              "      <td>2:1</td>\n",
              "    </tr>\n",
              "    <tr>\n",
              "      <th>3</th>\n",
              "      <td>4</td>\n",
              "      <td>2017-12-26</td>\n",
              "      <td>NVDA</td>\n",
              "      <td>$186.39</td>\n",
              "      <td>1111.85</td>\n",
              "      <td>508.65</td>\n",
              "      <td>511.49</td>\n",
              "      <td>$952.63</td>\n",
              "      <td>1939.5M</td>\n",
              "      <td>4.51</td>\n",
              "      <td>3:2</td>\n",
              "    </tr>\n",
              "    <tr>\n",
              "      <th>4</th>\n",
              "      <td>5</td>\n",
              "      <td>Jan 20, 2022</td>\n",
              "      <td>WORK</td>\n",
              "      <td>1425.94</td>\n",
              "      <td>692.20</td>\n",
              "      <td>340.75</td>\n",
              "      <td>$378.58</td>\n",
              "      <td>1493.44</td>\n",
              "      <td>8984007687</td>\n",
              "      <td>1.93</td>\n",
              "      <td>NaN</td>\n",
              "    </tr>\n",
              "    <tr>\n",
              "      <th>...</th>\n",
              "      <td>...</td>\n",
              "      <td>...</td>\n",
              "      <td>...</td>\n",
              "      <td>...</td>\n",
              "      <td>...</td>\n",
              "      <td>...</td>\n",
              "      <td>...</td>\n",
              "      <td>...</td>\n",
              "      <td>...</td>\n",
              "      <td>...</td>\n",
              "      <td>...</td>\n",
              "    </tr>\n",
              "    <tr>\n",
              "      <th>199995</th>\n",
              "      <td>199996</td>\n",
              "      <td>Jul 27, 2019</td>\n",
              "      <td>TSLA</td>\n",
              "      <td>269,17</td>\n",
              "      <td>144.45</td>\n",
              "      <td>418,85</td>\n",
              "      <td>588.19</td>\n",
              "      <td>$893.89</td>\n",
              "      <td>4184.54M</td>\n",
              "      <td>4,71</td>\n",
              "      <td>3:2</td>\n",
              "    </tr>\n",
              "    <tr>\n",
              "      <th>199996</th>\n",
              "      <td>199997</td>\n",
              "      <td>Sep 13, 2021</td>\n",
              "      <td>VMW</td>\n",
              "      <td>315.78</td>\n",
              "      <td>262.78</td>\n",
              "      <td>89,13</td>\n",
              "      <td>$172,09</td>\n",
              "      <td>659.42</td>\n",
              "      <td>5,782,458,138</td>\n",
              "      <td>1.04</td>\n",
              "      <td>3:2</td>\n",
              "    </tr>\n",
              "    <tr>\n",
              "      <th>199997</th>\n",
              "      <td>199998</td>\n",
              "      <td>2016-08-19</td>\n",
              "      <td>aapl</td>\n",
              "      <td>327.66</td>\n",
              "      <td>897.77</td>\n",
              "      <td>1402,05</td>\n",
              "      <td>140.90</td>\n",
              "      <td>904.11</td>\n",
              "      <td>3104296586</td>\n",
              "      <td>$3.21</td>\n",
              "      <td>NaN</td>\n",
              "    </tr>\n",
              "    <tr>\n",
              "      <th>199998</th>\n",
              "      <td>199999</td>\n",
              "      <td>2020-06-24</td>\n",
              "      <td>DJCU</td>\n",
              "      <td>141.99</td>\n",
              "      <td>739.41</td>\n",
              "      <td>285.76</td>\n",
              "      <td>$529.92</td>\n",
              "      <td>1201.64</td>\n",
              "      <td>45454067</td>\n",
              "      <td>1.51</td>\n",
              "      <td>NaN</td>\n",
              "    </tr>\n",
              "    <tr>\n",
              "      <th>199999</th>\n",
              "      <td>200000</td>\n",
              "      <td>09-14-2021</td>\n",
              "      <td>crm</td>\n",
              "      <td>736.95</td>\n",
              "      <td>1361.24</td>\n",
              "      <td>869.49</td>\n",
              "      <td>299,52</td>\n",
              "      <td>583.93</td>\n",
              "      <td>149011263</td>\n",
              "      <td>3.44</td>\n",
              "      <td>NaN</td>\n",
              "    </tr>\n",
              "  </tbody>\n",
              "</table>\n",
              "<p>200000 rows × 11 columns</p>\n",
              "</div>"
            ],
            "text/plain": [
              "            ID          Date Ticker     Open     High      Low    Close  \\\n",
              "0            1    2023-09-03   meta   258.44   909.63  1380.05   595,86   \n",
              "1            2  Aug 28, 2024   NVDA   678.96   725.03   185.51   295.83   \n",
              "2            3  May 10, 2022   INTU  1348.94   215.00   831.86   874.05   \n",
              "3            4    2017-12-26   NVDA  $186.39  1111.85   508.65   511.49   \n",
              "4            5  Jan 20, 2022   WORK  1425.94   692.20   340.75  $378.58   \n",
              "...        ...           ...    ...      ...      ...      ...      ...   \n",
              "199995  199996  Jul 27, 2019   TSLA   269,17   144.45   418,85   588.19   \n",
              "199996  199997  Sep 13, 2021    VMW   315.78   262.78    89,13  $172,09   \n",
              "199997  199998    2016-08-19   aapl   327.66   897.77  1402,05   140.90   \n",
              "199998  199999    2020-06-24   DJCU   141.99   739.41   285.76  $529.92   \n",
              "199999  200000    09-14-2021    crm   736.95  1361.24   869.49   299,52   \n",
              "\n",
              "       Adj Close         Volume Dividend Split Ratio  \n",
              "0          61.54  8,846,040,350     3.57         1:1  \n",
              "1         843.78     7346935699     2.85         3:2  \n",
              "2        $336,19  8,027,589,419     2.28         2:1  \n",
              "3        $952.63        1939.5M     4.51         3:2  \n",
              "4        1493.44     8984007687     1.93         NaN  \n",
              "...          ...            ...      ...         ...  \n",
              "199995   $893.89       4184.54M     4,71         3:2  \n",
              "199996    659.42  5,782,458,138     1.04         3:2  \n",
              "199997    904.11     3104296586    $3.21         NaN  \n",
              "199998   1201.64       45454067     1.51         NaN  \n",
              "199999    583.93      149011263     3.44         NaN  \n",
              "\n",
              "[200000 rows x 11 columns]"
            ]
          },
          "execution_count": 15,
          "metadata": {},
          "output_type": "execute_result"
        }
      ],
      "source": [
        "df1"
      ]
    },
    {
      "cell_type": "code",
      "execution_count": 4,
      "metadata": {
        "colab": {
          "base_uri": "https://localhost:8080/"
        },
        "id": "INl6GN7JzJQk",
        "outputId": "7ceb0e0b-a16e-460d-ac73-6c436c275677"
      },
      "outputs": [
        {
          "name": "stdout",
          "output_type": "stream",
          "text": [
            "Percentual de erros: 1.015%\n",
            "Número de erros: 2030\n"
          ]
        }
      ],
      "source": [
        "\n",
        "df1['Date_original'] = df1['Date']\n",
        "\n",
        "df1['Date'] = pd.to_datetime(df1['Date'], format=\"mixed\", errors='coerce')\n",
        "\n",
        "\n",
        "invalid_dates = df1[df1['Date'].isna()]\n",
        "\n",
        "invalid_values = df1.loc[invalid_dates.index, 'Date_original']\n",
        "\n",
        "\n",
        "nerr = len(invalid_dates) # quantas datas invalidas tem, ex: 12/63/2000 ou 12/81/2023\n",
        "percent = nerr / len(df1[\"Date\"]) * 100\n",
        "print(f\"Percentual de erros: {percent}%\")\n",
        "print(f\"Número de erros: {nerr}\")\n",
        "\n",
        "#invalid_values.to_csv('datas_invalidas.csv')"
      ]
    },
    {
      "cell_type": "code",
      "execution_count": 5,
      "metadata": {
        "colab": {
          "base_uri": "https://localhost:8080/"
        },
        "id": "o7pncqMkCW1x",
        "outputId": "07fe3713-3221-4104-dc01-6411d0445d8f"
      },
      "outputs": [
        {
          "name": "stdout",
          "output_type": "stream",
          "text": [
            "2025-05-21 21:20:24.160927\n"
          ]
        }
      ],
      "source": [
        "from datetime import datetime\n",
        "\n",
        "future_dates = df1[df1['Date'] > datetime.now()][\"Date\"]\n",
        "print(datetime.now())\n",
        "\n",
        "\n",
        "#future_dates.to_csv(\"datas_futuro.csv\")"
      ]
    },
    {
      "cell_type": "code",
      "execution_count": 11,
      "metadata": {},
      "outputs": [
        {
          "name": "stdout",
          "output_type": "stream",
          "text": [
            "5\n"
          ]
        }
      ],
      "source": [
        "maiormes = 0\n",
        "for i in future_dates.dt.strftime('%Y-%m-%d'):\n",
        "    mesatual = int(i[-2:])\n",
        "    maiormes = ( mesatual if mesatual > maiormes else maiormes)\n",
        "print(maiormes)"
      ]
    },
    {
      "cell_type": "code",
      "execution_count": 12,
      "metadata": {},
      "outputs": [],
      "source": [
        "future_dates = future_dates.apply(lambda x: x.replace(day=x.month, month=x.day) if pd.notnull(x) else x)\n",
        "\n",
        "df1.loc[future_dates.index, \"Date\"] = future_dates\n"
      ]
    },
    {
      "cell_type": "code",
      "execution_count": 8,
      "metadata": {
        "colab": {
          "base_uri": "https://localhost:8080/"
        },
        "id": "SFK6BPz82dhv",
        "outputId": "fafa657f-b4dc-43d8-f59d-3c54c0892a9f"
      },
      "outputs": [
        {
          "name": "stdout",
          "output_type": "stream",
          "text": [
            "Index(['ZM', 'SQ', 'PYPL', 'SHOP', 'META', 'BABA', 'SNAP', 'WORK', 'AMD',\n",
            "       'CSCO', 'ORCL', 'AAPL', 'INTC', 'TSLA', 'NVDA', 'LYFT', 'IBM', 'SPOT',\n",
            "       'VMW', 'ADBE', 'TWTR', 'PINS', 'MSFT', 'INTU', 'GOOG', 'DOCU', 'NFLX',\n",
            "       'CRM', 'AMZN', 'UBER', 'INTF', 'EMD'],\n",
            "      dtype='object', name='Ticker')\n"
          ]
        }
      ],
      "source": [
        "df1[\"Ticker\"] = df1[\"Ticker\"].str.upper().str.strip()\n",
        "\n",
        "ticker_counts = df1[\"Ticker\"].value_counts()\n",
        "unique_ticker = ticker_counts[ticker_counts > 10].index\n",
        "unique_values = df1[df1[\"Ticker\"].isin(unique_ticker)]\n",
        "print (unique_ticker)"
      ]
    },
    {
      "cell_type": "code",
      "execution_count": 13,
      "metadata": {
        "colab": {
          "base_uri": "https://localhost:8080/"
        },
        "id": "nkIqZRzxJ8bM",
        "outputId": "be1b1a4e-3010-4916-f124-29d884f9d5d7"
      },
      "outputs": [
        {
          "name": "stdout",
          "output_type": "stream",
          "text": [
            "count    3307.000000\n",
            "mean       60.477774\n",
            "std       551.331473\n",
            "min         1.000000\n",
            "25%         1.000000\n",
            "50%         2.000000\n",
            "75%         4.000000\n",
            "max      6161.000000\n",
            "Name: count, dtype: float64\n"
          ]
        }
      ],
      "source": [
        "ticker_counts = df1['Ticker'].value_counts()\n",
        "print(ticker_counts.describe())"
      ]
    },
    {
      "cell_type": "code",
      "execution_count": null,
      "metadata": {
        "colab": {
          "base_uri": "https://localhost:8080/"
        },
        "id": "bM5aOCsaTplo",
        "outputId": "95efa8db-164a-41e2-ddbc-c785d3358cba"
      },
      "outputs": [
        {
          "name": "stderr",
          "output_type": "stream",
          "text": [
            "$RBM: possibly delisted; no price data found  (period=1d)\n",
            "$BMZN: possibly delisted; no price data found  (period=1d) (Yahoo error = \"No data found, symbol may be delisted\")\n",
            "$INTB: possibly delisted; no price data found  (period=1d) (Yahoo error = \"No data found, symbol may be delisted\")\n",
            "$AMZB: possibly delisted; no price data found  (period=1d)\n",
            "$DOCG: possibly delisted; no price data found  (period=1d)\n",
            "$IDM: possibly delisted; no price data found  (period=1d)\n",
            "$IAPL: possibly delisted; no price data found  (period=1d) (Yahoo error = \"No data found, symbol may be delisted\")\n",
            "$ADFE: possibly delisted; no price data found  (period=1d) (Yahoo error = \"No data found, symbol may be delisted\")\n",
            "$AFZN: possibly delisted; no price data found  (period=1d) (Yahoo error = \"No data found, symbol may be delisted\")\n",
            "$AMW: possibly delisted; no price data found  (period=1d)\n",
            "$UBJR: possibly delisted; no price data found  (period=1d) (Yahoo error = \"No data found, symbol may be delisted\")\n",
            "$AMZ: possibly delisted; no price data found  (period=1d)\n",
            "$CSRO: possibly delisted; no price data found  (period=1d) (Yahoo error = \"No data found, symbol may be delisted\")\n",
            "$IXTU: possibly delisted; no price data found  (period=1d) (Yahoo error = \"No data found, symbol may be delisted\")\n",
            "$CRN: possibly delisted; no price data found  (period=1d)\n",
            "$ZMW: possibly delisted; no price data found  (period=1d)\n",
            "$DMD: possibly delisted; no price data found  (period=1d)\n",
            "$AAPH: possibly delisted; no price data found  (period=1d) (Yahoo error = \"No data found, symbol may be delisted\")\n",
            "$IXM: possibly delisted; no price data found  (period=1d)\n",
            "$GTOG: possibly delisted; no price data found  (period=1d) (Yahoo error = \"No data found, symbol may be delisted\")\n",
            "$MSRT: possibly delisted; no price data found  (period=1d) (Yahoo error = \"No data found, symbol may be delisted\")\n",
            "$XAPL: possibly delisted; no price data found  (period=1d) (Yahoo error = \"No data found, symbol may be delisted\")\n",
            "$WBM: possibly delisted; no price data found  (period=1d)\n",
            "$SHHP: possibly delisted; no price data found  (period=1d) (Yahoo error = \"No data found, symbol may be delisted\")\n",
            "$OUCL: possibly delisted; no price data found  (period=1d) (Yahoo error = \"No data found, symbol may be delisted\")\n",
            "$UBEF: possibly delisted; no price data found  (period=1d) (Yahoo error = \"No data found, symbol may be delisted\")\n",
            "$DPCU: possibly delisted; no price data found  (period=1d) (Yahoo error = \"No data found, symbol may be delisted\")\n",
            "$PINL: possibly delisted; no price data found  (period=1d) (Yahoo error = \"No data found, symbol may be delisted\")\n",
            "$NLLX: possibly delisted; no price data found  (period=1d) (Yahoo error = \"No data found, symbol may be delisted\")\n",
            "$AQPL: possibly delisted; no price data found  (period=1d)\n",
            "Exception ignored from cffi callback <function buffer_callback at 0x000001C662417880>:\n",
            "Traceback (most recent call last):\n",
            "  File \"C:\\Users\\Artur\\AppData\\Local\\Packages\\PythonSoftwareFoundation.Python.3.12_qbz5n2kfra8p0\\LocalCache\\local-packages\\Python312\\site-packages\\curl_cffi\\curl.py\", line 67, in buffer_callback\n",
            "    @ffi.def_extern()\n",
            "    \n",
            "KeyboardInterrupt: \n",
            "$WWTR: possibly delisted; no price data found  (period=1d)\n",
            "$CSXO: possibly delisted; no price data found  (period=1d) (Yahoo error = \"No data found, symbol may be delisted\")\n",
            "$AHD: possibly delisted; no price data found  (period=1d) (Yahoo error = \"No data found, symbol may be delisted\")\n",
            "$UKER: possibly delisted; no price data found  (period=1d) (Yahoo error = \"No data found, symbol may be delisted\")\n",
            "$CQM: possibly delisted; no price data found  (period=1d)\n",
            "$UBEP: possibly delisted; no price data found  (period=1d) (Yahoo error = \"No data found, symbol may be delisted\")\n",
            "$KMW: possibly delisted; no price data found  (period=1d)\n",
            "$INLC: possibly delisted; no price data found  (period=1d) (Yahoo error = \"No data found, symbol may be delisted\")\n",
            "$BABT: possibly delisted; no price data found  (period=1d) (Yahoo error = \"No data found, symbol may be delisted\")\n",
            "$UBEQ: possibly delisted; no price data found  (period=1d) (Yahoo error = \"No data found, symbol may be delisted\")\n",
            "$IBY: possibly delisted; no price data found  (period=1d)\n",
            "$VLW: possibly delisted; no price data found  (period=1d)\n",
            "$BABS: possibly delisted; no price data found  (period=1d)\n",
            "$BYBA: possibly delisted; no price data found  (period=1d) (Yahoo error = \"No data found, symbol may be delisted\")\n",
            "$MAPL: possibly delisted; no price data found  (period=1d) (Yahoo error = \"No data found, symbol may be delisted\")\n",
            "$IZTU: possibly delisted; no price data found  (period=1d) (Yahoo error = \"No data found, symbol may be delisted\")\n",
            "$BHBA: possibly delisted; no price data found  (period=1d)\n",
            "$AMK: possibly delisted; no price data found  (period=1d) (Yahoo error = \"No data found, symbol may be delisted\")\n",
            "$ADBM: possibly delisted; no price data found  (period=1d) (Yahoo error = \"No data found, symbol may be delisted\")\n",
            "$ZRM: possibly delisted; no price data found  (period=1d)\n",
            "$SPOH: possibly delisted; no price data found  (period=1d) (Yahoo error = \"No data found, symbol may be delisted\")\n",
            "$XYPL: possibly delisted; no price data found  (period=1d) (Yahoo error = \"No data found, symbol may be delisted\")\n",
            "$YWTR: possibly delisted; no price data found  (period=1d) (Yahoo error = \"No data found, symbol may be delisted\")\n",
            "$YNAP: possibly delisted; no price data found  (period=1d) (Yahoo error = \"No data found, symbol may be delisted\")\n",
            "$CRQ: possibly delisted; no price data found  (period=1d)\n",
            "$AMJ: possibly delisted; no price data found  (period=1d)\n",
            "$NVJA: possibly delisted; no price data found  (period=1d) (Yahoo error = \"No data found, symbol may be delisted\")\n",
            "$NFLJ: possibly delisted; no price data found  (period=1d) (Yahoo error = \"No data found, symbol may be delisted\")\n",
            "$BABJ: possibly delisted; no price data found  (period=1d) (Yahoo error = \"No data found, symbol may be delisted\")\n",
            "$JBM: possibly delisted; no price data found  (period=1d)\n",
            "$PBPL: possibly delisted; no price data found  (period=1d) (Yahoo error = \"No data found, symbol may be delisted\")\n",
            "$MNTU: possibly delisted; no price data found  (period=1d) (Yahoo error = \"No data found, symbol may be delisted\")\n",
            "$AMQ: possibly delisted; no price data found  (period=1d)\n",
            "$GBER: possibly delisted; no price data found  (period=1d) (Yahoo error = \"No data found, symbol may be delisted\")\n",
            "$SHLP: possibly delisted; no price data found  (period=1d)\n",
            "$NFHX: possibly delisted; no price data found  (period=1d) (Yahoo error = \"No data found, symbol may be delisted\")\n",
            "$CRX: possibly delisted; no price data found  (period=1d)\n",
            "$SHUP: possibly delisted; no price data found  (period=1d) (Yahoo error = \"No data found, symbol may be delisted\")\n",
            "$IMD: possibly delisted; no price data found  (period=1d)\n",
            "$BAZA: possibly delisted; no price data found  (period=1d) (Yahoo error = \"No data found, symbol may be delisted\")\n",
            "$PMD: possibly delisted; no price data found  (period=1d)\n",
            "$TWTN: possibly delisted; no price data found  (period=1d)\n",
            "$PBNS: possibly delisted; no price data found  (period=1d) (Yahoo error = \"No data found, symbol may be delisted\")\n",
            "$MSUT: possibly delisted; no price data found  (period=1d) (Yahoo error = \"No data found, symbol may be delisted\")\n",
            "$GORK: possibly delisted; no price data found  (period=1d)\n",
            "$BABI: possibly delisted; no price data found  (period=1d) (Yahoo error = \"No data found, symbol may be delisted\")\n",
            "$TETA: possibly delisted; no price data found  (period=1d) (Yahoo error = \"No data found, symbol may be delisted\")\n",
            "$BABQ: possibly delisted; no price data found  (period=1d) (Yahoo error = \"No data found, symbol may be delisted\")\n",
            "$WSCO: possibly delisted; no price data found  (period=1d) (Yahoo error = \"No data found, symbol may be delisted\")\n",
            "$MOTA: possibly delisted; no price data found  (period=1d) (Yahoo error = \"No data found, symbol may be delisted\")\n",
            "$TABA: possibly delisted; no price data found  (period=1d) (Yahoo error = \"No data found, symbol may be delisted\")\n",
            "$UBM: possibly delisted; no price data found  (period=1d)\n",
            "$MEDA: possibly delisted; no price data found  (period=1d)\n",
            "$CHM: possibly delisted; no price data found  (period=1d)\n",
            "$VMN: possibly delisted; no price data found  (period=1d)\n",
            "$PMW: possibly delisted; no price data found  (period=1d)\n",
            "$PXPL: possibly delisted; no price data found  (period=1d)\n",
            "$PPNS: possibly delisted; no price data found  (period=1d) (Yahoo error = \"No data found, symbol may be delisted\")\n",
            "$IEM: possibly delisted; no price data found  (period=1d)\n",
            "$VMZ: possibly delisted; no price data found  (period=1d)\n",
            "$IBZ: possibly delisted; no price data found  (period=1d)\n",
            "$SNDP: possibly delisted; no price data found  (period=1d) (Yahoo error = \"No data found, symbol may be delisted\")\n",
            "$ORML: possibly delisted; no price data found  (period=1d) (Yahoo error = \"No data found, symbol may be delisted\")\n",
            "$RFLX: possibly delisted; no price data found  (period=1d) (Yahoo error = \"No data found, symbol may be delisted\")\n",
            "$NFWX: possibly delisted; no price data found  (period=1d) (Yahoo error = \"No data found, symbol may be delisted\")\n",
            "$CMW: possibly delisted; no price data found  (period=1d)\n",
            "$MSFM: possibly delisted; no price data found  (period=1d) (Yahoo error = \"No data found, symbol may be delisted\")\n",
            "$CRG: possibly delisted; no price data found  (period=1d)\n",
            "$JAPL: possibly delisted; no price data found  (period=1d) (Yahoo error = \"No data found, symbol may be delisted\")\n",
            "$PIXS: possibly delisted; no price data found  (period=1d) (Yahoo error = \"No data found, symbol may be delisted\")\n",
            "$CSCY: possibly delisted; no price data found  (period=1d) (Yahoo error = \"No data found, symbol may be delisted\")\n",
            "$PIQS: possibly delisted; no price data found  (period=1d) (Yahoo error = \"No data found, symbol may be delisted\")\n",
            "$AAPC: possibly delisted; no price data found  (period=1d)\n",
            "$ATPL: possibly delisted; no price data found  (period=1d)\n",
            "$LFFT: possibly delisted; no price data found  (period=1d) (Yahoo error = \"No data found, symbol may be delisted\")\n",
            "$INTP: possibly delisted; no price data found  (period=1d) (Yahoo error = \"No data found, symbol may be delisted\")\n",
            "$CRA: possibly delisted; no price data found  (period=1d)\n",
            "$GROG: possibly delisted; no price data found  (period=1d) (Yahoo error = \"No data found, symbol may be delisted\")\n",
            "$TSLJ: possibly delisted; no price data found  (period=1d) (Yahoo error = \"No data found, symbol may be delisted\")\n",
            "$ISM: possibly delisted; no price data found  (period=1d) (Yahoo error = \"No data found, symbol may be delisted\")\n",
            "$FBM: possibly delisted; no price data found  (period=1d) (Yahoo error = \"No data found, symbol may be delisted\")\n",
            "$INTM: possibly delisted; no price data found  (period=1d) (Yahoo error = \"No data found, symbol may be delisted\")\n",
            "$PIRS: possibly delisted; no price data found  (period=1d) (Yahoo error = \"No data found, symbol may be delisted\")\n",
            "$KFLX: possibly delisted; no price data found  (period=1d) (Yahoo error = \"No data found, symbol may be delisted\")\n",
            "$CDM: possibly delisted; no price data found  (period=1d)\n",
            "$TGTR: possibly delisted; no price data found  (period=1d) (Yahoo error = \"No data found, symbol may be delisted\")\n",
            "$SDAP: possibly delisted; no price data found  (period=1d) (Yahoo error = \"No data found, symbol may be delisted\")\n",
            "$AUBE: possibly delisted; no price data found  (period=1d) (Yahoo error = \"No data found, symbol may be delisted\")\n",
            "$IBK: possibly delisted; no price data found  (period=1d)\n",
            "$TSUA: possibly delisted; no price data found  (period=1d) (Yahoo error = \"No data found, symbol may be delisted\")\n",
            "$NFLW: possibly delisted; no price data found  (period=1d) (Yahoo error = \"No data found, symbol may be delisted\")\n",
            "$JNTU: possibly delisted; no price data found  (period=1d) (Yahoo error = \"No data found, symbol may be delisted\")\n",
            "$UABA: possibly delisted; no price data found  (period=1d) (Yahoo error = \"No data found, symbol may be delisted\")\n",
            "$YRCL: possibly delisted; no price data found  (period=1d) (Yahoo error = \"No data found, symbol may be delisted\")\n",
            "$IBF: possibly delisted; no price data found  (period=1d)\n",
            "$VOW: possibly delisted; no price data found  (period=1d)\n",
            "$AAUL: possibly delisted; no price data found  (period=1d) (Yahoo error = \"No data found, symbol may be delisted\")\n",
            "$PYPM: possibly delisted; no price data found  (period=1d) (Yahoo error = \"No data found, symbol may be delisted\")\n",
            "$DRM: possibly delisted; no price data found  (period=1d)\n",
            "$BOCU: possibly delisted; no price data found  (period=1d)\n",
            "$DSFT: possibly delisted; no price data found  (period=1d)\n",
            "$KDBE: possibly delisted; no price data found  (period=1d) (Yahoo error = \"No data found, symbol may be delisted\")\n",
            "$UWTR: possibly delisted; no price data found  (period=1d) (Yahoo error = \"No data found, symbol may be delisted\")\n",
            "$CRO: possibly delisted; no price data found  (period=1d)\n",
            "$SWAP: possibly delisted; no price data found  (period=1d) (Yahoo error = \"No data found, symbol may be delisted\")\n",
            "$URM: possibly delisted; no price data found  (period=1d)\n",
            "$PYPS: possibly delisted; no price data found  (period=1d)\n",
            "$GJOG: possibly delisted; no price data found  (period=1d) (Yahoo error = \"No data found, symbol may be delisted\")\n",
            "$JOOG: possibly delisted; no price data found  (period=1d) (Yahoo error = \"No data found, symbol may be delisted\")\n",
            "$SHOB: possibly delisted; no price data found  (period=1d) (Yahoo error = \"No data found, symbol may be delisted\")\n",
            "$WMZN: possibly delisted; no price data found  (period=1d) (Yahoo error = \"No data found, symbol may be delisted\")\n",
            "$OBER: possibly delisted; no price data found  (period=1d) (Yahoo error = \"No data found, symbol may be delisted\")\n",
            "$TRM: possibly delisted; no price data found  (period=1d)\n",
            "$EOOG: possibly delisted; no price data found  (period=1d) (Yahoo error = \"No data found, symbol may be delisted\")\n",
            "$SPOF: possibly delisted; no price data found  (period=1d) (Yahoo error = \"No data found, symbol may be delisted\")\n",
            "$FOCU: possibly delisted; no price data found  (period=1d) (Yahoo error = \"No data found, symbol may be delisted\")\n",
            "$WDBE: possibly delisted; no price data found  (period=1d) (Yahoo error = \"No data found, symbol may be delisted\")\n",
            "$NZDA: possibly delisted; no price data found  (period=1d) (Yahoo error = \"No data found, symbol may be delisted\")\n",
            "$ORM: possibly delisted; no price data found  (period=1d) (Yahoo error = \"No data found, symbol may be delisted\")\n",
            "$SHOW: possibly delisted; no price data found  (period=1d) (Yahoo error = \"No data found, symbol may be delisted\")\n",
            "$CRE: possibly delisted; no price data found  (period=1d)\n",
            "$DHOP: possibly delisted; no price data found  (period=1d) (Yahoo error = \"No data found, symbol may be delisted\")\n",
            "$TXLA: possibly delisted; no price data found  (period=1d) (Yahoo error = \"No data found, symbol may be delisted\")\n",
            "$OYCL: possibly delisted; no price data found  (period=1d) (Yahoo error = \"No data found, symbol may be delisted\")\n",
            "$CSFT: possibly delisted; no price data found  (period=1d) (Yahoo error = \"No data found, symbol may be delisted\")\n",
            "$ILM: possibly delisted; no price data found  (period=1d)\n",
            "$XSCO: possibly delisted; no price data found  (period=1d) (Yahoo error = \"No data found, symbol may be delisted\")\n",
            "$BBBA: possibly delisted; no price data found  (period=1d) (Yahoo error = \"No data found, symbol may be delisted\")\n",
            "$NMZN: possibly delisted; no price data found  (period=1d) (Yahoo error = \"No data found, symbol may be delisted\")\n",
            "$CYFT: possibly delisted; no price data found  (period=1d)\n",
            "$WYPL: possibly delisted; no price data found  (period=1d) (Yahoo error = \"No data found, symbol may be delisted\")\n",
            "$PIWS: possibly delisted; no price data found  (period=1d) (Yahoo error = \"No data found, symbol may be delisted\")\n",
            "$SHOK: possibly delisted; no price data found  (period=1d) (Yahoo error = \"No data found, symbol may be delisted\")\n",
            "$NFLS: possibly delisted; no price data found  (period=1d) (Yahoo error = \"No data found, symbol may be delisted\")\n",
            "$TILA: possibly delisted; no price data found  (period=1d) (Yahoo error = \"No data found, symbol may be delisted\")\n",
            "$SNOP: possibly delisted; no price data found  (period=1d) (Yahoo error = \"No data found, symbol may be delisted\")\n",
            "$ORCT: possibly delisted; no price data found  (period=1d)\n",
            "$TSLN: possibly delisted; no price data found  (period=1d) (Yahoo error = \"No data found, symbol may be delisted\")\n",
            "$CBM: possibly delisted; no price data found  (period=1d) (Yahoo error = \"No data found, symbol may be delisted\")\n",
            "$ABD: possibly delisted; no price data found  (period=1d)\n",
            "$IBE: possibly delisted; no price data found  (period=1d)\n",
            "$INTY: possibly delisted; no price data found  (period=1d) (Yahoo error = \"No data found, symbol may be delisted\")\n",
            "$AMUN: possibly delisted; no price data found  (period=1d)\n",
            "$MKTA: possibly delisted; no price data found  (period=1d) (Yahoo error = \"No data found, symbol may be delisted\")\n",
            "$CRJ: possibly delisted; no price data found  (period=1d)\n",
            "$UMZN: possibly delisted; no price data found  (period=1d) (Yahoo error = \"No data found, symbol may be delisted\")\n",
            "$ORWL: possibly delisted; no price data found  (period=1d) (Yahoo error = \"No data found, symbol may be delisted\")\n",
            "$MWFT: possibly delisted; no price data found  (period=1d) (Yahoo error = \"No data found, symbol may be delisted\")\n",
            "$UPOT: possibly delisted; no price data found  (period=1d) (Yahoo error = \"No data found, symbol may be delisted\")\n",
            "$PINY: possibly delisted; no price data found  (period=1d) (Yahoo error = \"No data found, symbol may be delisted\")\n",
            "$FVDA: possibly delisted; no price data found  (period=1d) (Yahoo error = \"No data found, symbol may be delisted\")\n",
            "$PUNS: possibly delisted; no price data found  (period=1d) (Yahoo error = \"No data found, symbol may be delisted\")\n",
            "$MEBA: possibly delisted; no price data found  (period=1d) (Yahoo error = \"No data found, symbol may be delisted\")\n",
            "$TBER: possibly delisted; no price data found  (period=1d) (Yahoo error = \"No data found, symbol may be delisted\")\n",
            "$IBER: possibly delisted; no price data found  (period=1d) (Yahoo error = \"No data found, symbol may be delisted\")\n",
            "$DORK: possibly delisted; no price data found  (period=1d) (Yahoo error = \"No data found, symbol may be delisted\")\n",
            "$VVW: possibly delisted; no price data found  (period=1d)\n",
            "$NFLH: possibly delisted; no price data found  (period=1d) (Yahoo error = \"No data found, symbol may be delisted\")\n",
            "$UZER: possibly delisted; no price data found  (period=1d) (Yahoo error = \"No data found, symbol may be delisted\")\n",
            "$BAEA: possibly delisted; no price data found  (period=1d)\n",
            "$WYRK: possibly delisted; no price data found  (period=1d) (Yahoo error = \"No data found, symbol may be delisted\")\n",
            "$GODG: possibly delisted; no price data found  (period=1d) (Yahoo error = \"No data found, symbol may be delisted\")\n",
            "$AORK: possibly delisted; no price data found  (period=1d) (Yahoo error = \"No data found, symbol may be delisted\")\n",
            "$YRM: possibly delisted; no price data found  (period=1d)\n",
            "$WRRK: possibly delisted; no price data found  (period=1d) (Yahoo error = \"No data found, symbol may be delisted\")\n",
            "$PRCL: possibly delisted; no price data found  (period=1d) (Yahoo error = \"No data found, symbol may be delisted\")\n",
            "$SNWP: possibly delisted; no price data found  (period=1d) (Yahoo error = \"No data found, symbol may be delisted\")\n",
            "$LEFT: possibly delisted; no price data found  (period=1d) (Yahoo error = \"No data found, symbol may be delisted\")\n",
            "$AMLN: possibly delisted; no price data found  (period=1d)\n",
            "$INDU: possibly delisted; no price data found  (period=1d)\n",
            "$IRCL: possibly delisted; no price data found  (period=1d) (Yahoo error = \"No data found, symbol may be delisted\")\n",
            "$GVDA: possibly delisted; no price data found  (period=1d) (Yahoo error = \"No data found, symbol may be delisted\")\n",
            "$FSLA: possibly delisted; no price data found  (period=1d)\n",
            "$LRM: possibly delisted; no price data found  (period=1d)\n",
            "$UBQR: possibly delisted; no price data found  (period=1d) (Yahoo error = \"No data found, symbol may be delisted\")\n",
            "$NVQA: possibly delisted; no price data found  (period=1d) (Yahoo error = \"No data found, symbol may be delisted\")\n",
            "$IHOP: possibly delisted; no price data found  (period=1d)\n",
            "$METE: possibly delisted; no price data found  (period=1d) (Yahoo error = \"No data found, symbol may be delisted\")\n",
            "$CGM: possibly delisted; no price data found  (period=1d)\n",
            "$IBC: possibly delisted; no price data found  (period=1d)\n",
            "$NVMA: possibly delisted; no price data found  (period=1d) (Yahoo error = \"No data found, symbol may be delisted\")\n",
            "$HNTU: possibly delisted; no price data found  (period=1d) (Yahoo error = \"No data found, symbol may be delisted\")\n",
            "$ADUE: possibly delisted; no price data found  (period=1d) (Yahoo error = \"No data found, symbol may be delisted\")\n",
            "$AQD: possibly delisted; no price data found  (period=1d)\n",
            "$ESFT: possibly delisted; no price data found  (period=1d)\n",
            "$AMDN: possibly delisted; no price data found  (period=1d) (Yahoo error = \"No data found, symbol may be delisted\")\n",
            "$LNTU: possibly delisted; no price data found  (period=1d) (Yahoo error = \"No data found, symbol may be delisted\")\n",
            "$WXRK: possibly delisted; no price data found  (period=1d) (Yahoo error = \"No data found, symbol may be delisted\")\n",
            "$SBOP: possibly delisted; no price data found  (period=1d) (Yahoo error = \"No data found, symbol may be delisted\")\n",
            "$SPPT: possibly delisted; no price data found  (period=1d) (Yahoo error = \"No data found, symbol may be delisted\")\n",
            "$ARD: possibly delisted; no price data found  (period=1d) (Yahoo error = \"No data found, symbol may be delisted\")\n",
            "$UBKR: possibly delisted; no price data found  (period=1d) (Yahoo error = \"No data found, symbol may be delisted\")\n",
            "$INPC: possibly delisted; no price data found  (period=1d)\n",
            "$JVDA: possibly delisted; no price data found  (period=1d) (Yahoo error = \"No data found, symbol may be delisted\")\n",
            "$FMW: possibly delisted; no price data found  (period=1d)\n",
            "$TWYR: possibly delisted; no price data found  (period=1d) (Yahoo error = \"No data found, symbol may be delisted\")\n",
            "$FNTU: possibly delisted; no price data found  (period=1d)\n",
            "$SNGP: possibly delisted; no price data found  (period=1d) (Yahoo error = \"No data found, symbol may be delisted\")\n",
            "$MMFT: possibly delisted; no price data found  (period=1d) (Yahoo error = \"No data found, symbol may be delisted\")\n",
            "$CDBE: possibly delisted; no price data found  (period=1d) (Yahoo error = \"No data found, symbol may be delisted\")\n",
            "$VMF: possibly delisted; no price data found  (period=1d)\n",
            "$MSFJ: possibly delisted; no price data found  (period=1d) (Yahoo error = \"No data found, symbol may be delisted\")\n",
            "$INTX: possibly delisted; no price data found  (period=1d)\n",
            "$TSEA: possibly delisted; no price data found  (period=1d) (Yahoo error = \"No data found, symbol may be delisted\")\n",
            "$IBU: possibly delisted; no price data found  (period=1d)\n",
            "$TSGA: possibly delisted; no price data found  (period=1d) (Yahoo error = \"No data found, symbol may be delisted\")\n",
            "$AHZN: possibly delisted; no price data found  (period=1d) (Yahoo error = \"No data found, symbol may be delisted\")\n",
            "$DUCU: possibly delisted; no price data found  (period=1d) (Yahoo error = \"No data found, symbol may be delisted\")\n",
            "$LYFO: possibly delisted; no price data found  (period=1d) (Yahoo error = \"No data found, symbol may be delisted\")\n",
            "$SPON: possibly delisted; no price data found  (period=1d) (Yahoo error = \"No data found, symbol may be delisted\")\n",
            "$OVDA: possibly delisted; no price data found  (period=1d) (Yahoo error = \"No data found, symbol may be delisted\")\n",
            "$AARL: possibly delisted; no price data found  (period=1d) (Yahoo error = \"No data found, symbol may be delisted\")\n",
            "$CRP: possibly delisted; no price data found  (period=1d) (Yahoo error = \"No data found, symbol may be delisted\")\n",
            "$SNAC: possibly delisted; no price data found  (period=1d) (Yahoo error = \"No data found, symbol may be delisted\")\n",
            "$UBED: possibly delisted; no price data found  (period=1d) (Yahoo error = \"No data found, symbol may be delisted\")\n",
            "$ORCJ: possibly delisted; no price data found  (period=1d) (Yahoo error = \"No data found, symbol may be delisted\")\n",
            "$MEOA: possibly delisted; no price data found  (period=1d) (Yahoo error = \"No data found, symbol may be delisted\")\n",
            "$PMNS: possibly delisted; no price data found  (period=1d) (Yahoo error = \"No data found, symbol may be delisted\")\n",
            "$SNAA: possibly delisted; no price data found  (period=1d) (Yahoo error = \"No data found, symbol may be delisted\")\n",
            "$PTPL: possibly delisted; no price data found  (period=1d) (Yahoo error = \"No data found, symbol may be delisted\")\n",
            "$CRB: possibly delisted; no price data found  (period=1d)\n",
            "$VPW: possibly delisted; no price data found  (period=1d)\n",
            "$YHOP: possibly delisted; no price data found  (period=1d) (Yahoo error = \"No data found, symbol may be delisted\")\n",
            "$IBQ: possibly delisted; no price data found  (period=1d)\n",
            "$GOQG: possibly delisted; no price data found  (period=1d) (Yahoo error = \"No data found, symbol may be delisted\")\n",
            "$VBM: possibly delisted; no price data found  (period=1d)\n",
            "$METH: possibly delisted; no price data found  (period=1d)\n",
            "$LSFT: possibly delisted; no price data found  (period=1d) (Yahoo error = \"No data found, symbol may be delisted\")\n",
            "$MBER: possibly delisted; no price data found  (period=1d) (Yahoo error = \"No data found, symbol may be delisted\")\n",
            "$SPOJ: possibly delisted; no price data found  (period=1d) (Yahoo error = \"No data found, symbol may be delisted\")\n",
            "$KSCO: possibly delisted; no price data found  (period=1d) (Yahoo error = \"No data found, symbol may be delisted\")\n",
            "$ADQE: possibly delisted; no price data found  (period=1d) (Yahoo error = \"No data found, symbol may be delisted\")\n",
            "$JMW: possibly delisted; no price data found  (period=1d)\n",
            "$GBOG: possibly delisted; no price data found  (period=1d) (Yahoo error = \"No data found, symbol may be delisted\")\n",
            "$ABBE: possibly delisted; no price data found  (period=1d) (Yahoo error = \"No data found, symbol may be delisted\")\n",
            "$INVC: possibly delisted; no price data found  (period=1d) (Yahoo error = \"No data found, symbol may be delisted\")\n",
            "$AHPL: possibly delisted; no price data found  (period=1d) (Yahoo error = \"No data found, symbol may be delisted\")\n",
            "$SSAP: possibly delisted; no price data found  (period=1d) (Yahoo error = \"No data found, symbol may be delisted\")\n",
            "$SRAP: possibly delisted; no price data found  (period=1d) (Yahoo error = \"No data found, symbol may be delisted\")\n",
            "$VWW: possibly delisted; no price data found  (period=1d)\n",
            "$OPCL: possibly delisted; no price data found  (period=1d) (Yahoo error = \"No data found, symbol may be delisted\")\n",
            "$HNAP: possibly delisted; no price data found  (period=1d) (Yahoo error = \"No data found, symbol may be delisted\")\n",
            "$SKOP: possibly delisted; no price data found  (period=1d) (Yahoo error = \"No data found, symbol may be delisted\")\n",
            "$ORCW: possibly delisted; no price data found  (period=1d) (Yahoo error = \"No data found, symbol may be delisted\")\n",
            "$PAPL: possibly delisted; no price data found  (period=1d)\n",
            "$INAC: possibly delisted; no price data found  (period=1d) (Yahoo error = \"No data found, symbol may be delisted\")\n",
            "$DMCU: possibly delisted; no price data found  (period=1d) (Yahoo error = \"No data found, symbol may be delisted\")\n",
            "$GOOZ: possibly delisted; no price data found  (period=1d) (Yahoo error = \"No data found, symbol may be delisted\")\n",
            "$DOKU: possibly delisted; no price data found  (period=1d) (Yahoo error = \"No data found, symbol may be delisted\")\n",
            "$INXC: possibly delisted; no price data found  (period=1d) (Yahoo error = \"No data found, symbol may be delisted\")\n",
            "$ONCL: possibly delisted; no price data found  (period=1d) (Yahoo error = \"No data found, symbol may be delisted\")\n",
            "$MATA: possibly delisted; no price data found  (period=1d) (Yahoo error = \"No data found, symbol may be delisted\")\n",
            "Exception ignored from cffi callback <function buffer_callback at 0x000001C662417880>:\n",
            "Traceback (most recent call last):\n",
            "  File \"C:\\Users\\Artur\\AppData\\Local\\Packages\\PythonSoftwareFoundation.Python.3.12_qbz5n2kfra8p0\\LocalCache\\local-packages\\Python312\\site-packages\\curl_cffi\\curl.py\", line 67, in buffer_callback\n",
            "    @ffi.def_extern()\n",
            "    \n",
            "KeyboardInterrupt: \n",
            "Failed to get ticker 'ADOE' reason: Failed to perform, curl: (23) Failure writing output to destination, passed 13 returned 0. See https://curl.se/libcurl/c/libcurl-errors.html first for more details.\n",
            "$ADOE: possibly delisted; no price data found  (period=1d) (Yahoo error = \"No data found, symbol may be delisted\")\n",
            "$LYWT: possibly delisted; no price data found  (period=1d) (Yahoo error = \"No data found, symbol may be delisted\")\n",
            "$XABA: possibly delisted; no price data found  (period=1d) (Yahoo error = \"No data found, symbol may be delisted\")\n",
            "$RMW: possibly delisted; no price data found  (period=1d)\n",
            "$HMD: possibly delisted; no price data found  (period=1d)\n",
            "$SROT: possibly delisted; no price data found  (period=1d) (Yahoo error = \"No data found, symbol may be delisted\")\n",
            "$BPBA: possibly delisted; no price data found  (period=1d) (Yahoo error = \"No data found, symbol may be delisted\")\n",
            "$ACPL: possibly delisted; no price data found  (period=1d)\n",
            "$AAFL: possibly delisted; no price data found  (period=1d) (Yahoo error = \"No data found, symbol may be delisted\")\n",
            "$GOTG: possibly delisted; no price data found  (period=1d) (Yahoo error = \"No data found, symbol may be delisted\")\n",
            "$DPOT: possibly delisted; no price data found  (period=1d) (Yahoo error = \"No data found, symbol may be delisted\")\n",
            "$VORK: possibly delisted; no price data found  (period=1d) (Yahoo error = \"No data found, symbol may be delisted\")\n",
            "$CEM: possibly delisted; no price data found  (period=1d) (Yahoo error = \"No data found, symbol may be delisted\")\n"
          ]
        }
      ],
      "source": [
        "#Acho melhor baixar um df com os tickers válidos, para não precisar fazer requisição na api do yahoo\n",
        "df1[\"Ticker\"] = df1[\"Ticker\"].str.upper().str.strip()\n",
        "\n",
        "\n",
        "ticker_counts = df1[\"Ticker\"].value_counts()\n",
        "\n",
        "\n",
        "valid_tickers = list(set(\n",
        "    ticker_counts[ticker_counts > 10].index.tolist()\n",
        "))\n",
        "valid_tickers = [t.upper() for t in valid_tickers]\n",
        "\n",
        "\n",
        "@lru_cache(maxsize=None)\n",
        "def is_valid_ticker(ticker):\n",
        "    try:\n",
        "        t = yf.Ticker(ticker)\n",
        "        hist = t.history(period=\"1d\")  \n",
        "        return not hist.empty\n",
        "    except:\n",
        "        return False\n",
        "\n",
        "\n",
        "def get_fuzzy_match(ticker, candidates, min_score=65):\n",
        "    if not ticker or len(ticker) < 2:\n",
        "        return None\n",
        "    candidates_filtered = [t for t in candidates if abs(len(t) - len(ticker)) <= 1]\n",
        "    if not candidates_filtered:\n",
        "        return None\n",
        "    match, score = process.extractOne(ticker, candidates_filtered)\n",
        "    if score >= min_score:\n",
        "        return match\n",
        "    return None\n",
        "\n",
        "\n",
        "corrections = {}\n",
        "for ticker in ticker_counts[ticker_counts <= 10].index:\n",
        "    if not is_valid_ticker(ticker):\n",
        "        corrected = get_fuzzy_match(ticker, valid_tickers)\n",
        "        if corrected:\n",
        "            corrections[ticker] = corrected\n",
        "\n",
        "print(\"Correções feitas:\")\n",
        "for k, v in corrections.items():\n",
        "    print(f\"{k} → {v}\")\n",
        "\n",
        "\n",
        "df1[\"Ticker\"] = df1[\"Ticker\"].replace(corrections)"
      ]
    },
    {
      "cell_type": "code",
      "execution_count": 14,
      "metadata": {
        "id": "F3Fk6s2xEnmz"
      },
      "outputs": [
        {
          "name": "stdout",
          "output_type": "stream",
          "text": [
            "Open\n",
            "{'.', ',', 'Z', '$'}\n",
            "200000\n",
            "High\n",
            "{'.', ',', 'Z', '$'}\n",
            "200000\n",
            "Low\n",
            "{'.', ',', 'Z', '$'}\n",
            "200000\n",
            "Close\n",
            "{'.', ',', 'Z', '$'}\n",
            "200000\n",
            "Adj Close\n",
            "{'.', ',', 'Z', '$'}\n",
            "200000\n",
            "Volume\n",
            "{'K', 'n', '.', 'l', 'i', 'b', 'B', 'M', 'o', ' ', ','}\n",
            "3503\n",
            "Dividend\n",
            "{'.', ',', 'Z', '$'}\n",
            "200000\n"
          ]
        }
      ],
      "source": [
        "numerics_columns = [\"Open\", \"High\", \"Low\", \"Close\", \"Adj Close\", \"Volume\", \"Dividend\"]\n",
        "def get_non_numeric_characters(column):\n",
        "  print(column.name)\n",
        "  tot = set(\"\")\n",
        "  for index, value in column.items():\n",
        "    tot = tot | set([c for c in value if not c.isdigit()])\n",
        "  print(tot)\n",
        "\n",
        "def count_comma(column):\n",
        "    count = 0\n",
        "    for index,value in column.items():\n",
        "        if isinstance(value, str) and len(value) >= 3:\n",
        "            if value[-3] in [',', '.']:\n",
        "                count += 1\n",
        "    print(count)\n",
        "\n",
        "\n",
        "\n",
        "for i in numerics_columns:\n",
        "  get_non_numeric_characters(df1[i])\n",
        "  count_comma(df1[i])\n",
        "\n"
      ]
    },
    {
      "cell_type": "code",
      "execution_count": 15,
      "metadata": {
        "id": "Y4ykjT6Al0IO"
      },
      "outputs": [],
      "source": [
        "equivalents_numeric_columns = numerics_columns\n",
        "equivalents_numeric_columns.remove(\"Volume\")\n",
        "\n",
        "def change_caracter (value):\n",
        "  value = value.strip(\"$\")\n",
        "  value = value.strip()\n",
        "  value = value.replace(\"Z\", \"2\")\n",
        "  value = value.replace(\".\", \",\")\n",
        "  return value\n",
        "\n",
        "for i in equivalents_numeric_columns:\n",
        "  df1[i] = df1[i].apply(change_caracter)"
      ]
    },
    {
      "cell_type": "code",
      "execution_count": 16,
      "metadata": {
        "id": "6TCwp1mD-W_C"
      },
      "outputs": [],
      "source": [
        "for i in equivalents_numeric_columns:\n",
        "    df1[i] = df1[i].apply(\n",
        "        lambda value: value[:-3] + \".\" + value[-2:] if len(value) >= 3 else value\n",
        "    )\n",
        "    df1[i] = df1[i].astype(float)   "
      ]
    },
    {
      "cell_type": "code",
      "execution_count": 17,
      "metadata": {},
      "outputs": [
        {
          "data": {
            "text/html": [
              "<div>\n",
              "<style scoped>\n",
              "    .dataframe tbody tr th:only-of-type {\n",
              "        vertical-align: middle;\n",
              "    }\n",
              "\n",
              "    .dataframe tbody tr th {\n",
              "        vertical-align: top;\n",
              "    }\n",
              "\n",
              "    .dataframe thead th {\n",
              "        text-align: right;\n",
              "    }\n",
              "</style>\n",
              "<table border=\"1\" class=\"dataframe\">\n",
              "  <thead>\n",
              "    <tr style=\"text-align: right;\">\n",
              "      <th></th>\n",
              "      <th>ID</th>\n",
              "      <th>Date</th>\n",
              "      <th>Ticker</th>\n",
              "      <th>Open</th>\n",
              "      <th>High</th>\n",
              "      <th>Low</th>\n",
              "      <th>Close</th>\n",
              "      <th>Adj Close</th>\n",
              "      <th>Volume</th>\n",
              "      <th>Dividend</th>\n",
              "      <th>Split Ratio</th>\n",
              "      <th>Date_original</th>\n",
              "    </tr>\n",
              "  </thead>\n",
              "  <tbody>\n",
              "    <tr>\n",
              "      <th>0</th>\n",
              "      <td>1</td>\n",
              "      <td>2023-09-03</td>\n",
              "      <td>meta</td>\n",
              "      <td>258.44</td>\n",
              "      <td>909.63</td>\n",
              "      <td>1380.05</td>\n",
              "      <td>595.86</td>\n",
              "      <td>61.54</td>\n",
              "      <td>8,846,040,350</td>\n",
              "      <td>3.57</td>\n",
              "      <td>1:1</td>\n",
              "      <td>2023-09-03</td>\n",
              "    </tr>\n",
              "    <tr>\n",
              "      <th>1</th>\n",
              "      <td>2</td>\n",
              "      <td>2024-08-28</td>\n",
              "      <td>NVDA</td>\n",
              "      <td>678.96</td>\n",
              "      <td>725.03</td>\n",
              "      <td>185.51</td>\n",
              "      <td>295.83</td>\n",
              "      <td>843.78</td>\n",
              "      <td>7346935699</td>\n",
              "      <td>2.85</td>\n",
              "      <td>3:2</td>\n",
              "      <td>Aug 28, 2024</td>\n",
              "    </tr>\n",
              "    <tr>\n",
              "      <th>2</th>\n",
              "      <td>3</td>\n",
              "      <td>2022-05-10</td>\n",
              "      <td>INTU</td>\n",
              "      <td>1348.94</td>\n",
              "      <td>215.00</td>\n",
              "      <td>831.86</td>\n",
              "      <td>874.05</td>\n",
              "      <td>336.19</td>\n",
              "      <td>8,027,589,419</td>\n",
              "      <td>2.28</td>\n",
              "      <td>2:1</td>\n",
              "      <td>May 10, 2022</td>\n",
              "    </tr>\n",
              "    <tr>\n",
              "      <th>3</th>\n",
              "      <td>4</td>\n",
              "      <td>2017-12-26</td>\n",
              "      <td>NVDA</td>\n",
              "      <td>186.39</td>\n",
              "      <td>1111.85</td>\n",
              "      <td>508.65</td>\n",
              "      <td>511.49</td>\n",
              "      <td>952.63</td>\n",
              "      <td>1939.5M</td>\n",
              "      <td>4.51</td>\n",
              "      <td>3:2</td>\n",
              "      <td>2017-12-26</td>\n",
              "    </tr>\n",
              "    <tr>\n",
              "      <th>4</th>\n",
              "      <td>5</td>\n",
              "      <td>2022-01-20</td>\n",
              "      <td>WORK</td>\n",
              "      <td>1425.94</td>\n",
              "      <td>692.20</td>\n",
              "      <td>340.75</td>\n",
              "      <td>378.58</td>\n",
              "      <td>1493.44</td>\n",
              "      <td>8984007687</td>\n",
              "      <td>1.93</td>\n",
              "      <td>NaN</td>\n",
              "      <td>Jan 20, 2022</td>\n",
              "    </tr>\n",
              "    <tr>\n",
              "      <th>...</th>\n",
              "      <td>...</td>\n",
              "      <td>...</td>\n",
              "      <td>...</td>\n",
              "      <td>...</td>\n",
              "      <td>...</td>\n",
              "      <td>...</td>\n",
              "      <td>...</td>\n",
              "      <td>...</td>\n",
              "      <td>...</td>\n",
              "      <td>...</td>\n",
              "      <td>...</td>\n",
              "      <td>...</td>\n",
              "    </tr>\n",
              "    <tr>\n",
              "      <th>199995</th>\n",
              "      <td>199996</td>\n",
              "      <td>2019-07-27</td>\n",
              "      <td>TSLA</td>\n",
              "      <td>269.17</td>\n",
              "      <td>144.45</td>\n",
              "      <td>418.85</td>\n",
              "      <td>588.19</td>\n",
              "      <td>893.89</td>\n",
              "      <td>4184.54M</td>\n",
              "      <td>4.71</td>\n",
              "      <td>3:2</td>\n",
              "      <td>Jul 27, 2019</td>\n",
              "    </tr>\n",
              "    <tr>\n",
              "      <th>199996</th>\n",
              "      <td>199997</td>\n",
              "      <td>2021-09-13</td>\n",
              "      <td>VMW</td>\n",
              "      <td>315.78</td>\n",
              "      <td>262.78</td>\n",
              "      <td>89.13</td>\n",
              "      <td>172.09</td>\n",
              "      <td>659.42</td>\n",
              "      <td>5,782,458,138</td>\n",
              "      <td>1.04</td>\n",
              "      <td>3:2</td>\n",
              "      <td>Sep 13, 2021</td>\n",
              "    </tr>\n",
              "    <tr>\n",
              "      <th>199997</th>\n",
              "      <td>199998</td>\n",
              "      <td>2016-08-19</td>\n",
              "      <td>aapl</td>\n",
              "      <td>327.66</td>\n",
              "      <td>897.77</td>\n",
              "      <td>1402.05</td>\n",
              "      <td>140.90</td>\n",
              "      <td>904.11</td>\n",
              "      <td>3104296586</td>\n",
              "      <td>3.21</td>\n",
              "      <td>NaN</td>\n",
              "      <td>2016-08-19</td>\n",
              "    </tr>\n",
              "    <tr>\n",
              "      <th>199998</th>\n",
              "      <td>199999</td>\n",
              "      <td>2020-06-24</td>\n",
              "      <td>DJCU</td>\n",
              "      <td>141.99</td>\n",
              "      <td>739.41</td>\n",
              "      <td>285.76</td>\n",
              "      <td>529.92</td>\n",
              "      <td>1201.64</td>\n",
              "      <td>45454067</td>\n",
              "      <td>1.51</td>\n",
              "      <td>NaN</td>\n",
              "      <td>2020-06-24</td>\n",
              "    </tr>\n",
              "    <tr>\n",
              "      <th>199999</th>\n",
              "      <td>200000</td>\n",
              "      <td>2021-09-14</td>\n",
              "      <td>crm</td>\n",
              "      <td>736.95</td>\n",
              "      <td>1361.24</td>\n",
              "      <td>869.49</td>\n",
              "      <td>299.52</td>\n",
              "      <td>583.93</td>\n",
              "      <td>149011263</td>\n",
              "      <td>3.44</td>\n",
              "      <td>NaN</td>\n",
              "      <td>09-14-2021</td>\n",
              "    </tr>\n",
              "  </tbody>\n",
              "</table>\n",
              "<p>200000 rows × 12 columns</p>\n",
              "</div>"
            ],
            "text/plain": [
              "            ID       Date Ticker     Open     High      Low   Close  \\\n",
              "0            1 2023-09-03   meta   258.44   909.63  1380.05  595.86   \n",
              "1            2 2024-08-28   NVDA   678.96   725.03   185.51  295.83   \n",
              "2            3 2022-05-10   INTU  1348.94   215.00   831.86  874.05   \n",
              "3            4 2017-12-26   NVDA   186.39  1111.85   508.65  511.49   \n",
              "4            5 2022-01-20   WORK  1425.94   692.20   340.75  378.58   \n",
              "...        ...        ...    ...      ...      ...      ...     ...   \n",
              "199995  199996 2019-07-27   TSLA   269.17   144.45   418.85  588.19   \n",
              "199996  199997 2021-09-13    VMW   315.78   262.78    89.13  172.09   \n",
              "199997  199998 2016-08-19   aapl   327.66   897.77  1402.05  140.90   \n",
              "199998  199999 2020-06-24   DJCU   141.99   739.41   285.76  529.92   \n",
              "199999  200000 2021-09-14    crm   736.95  1361.24   869.49  299.52   \n",
              "\n",
              "        Adj Close         Volume  Dividend Split Ratio Date_original  \n",
              "0           61.54  8,846,040,350      3.57         1:1    2023-09-03  \n",
              "1          843.78     7346935699      2.85         3:2  Aug 28, 2024  \n",
              "2          336.19  8,027,589,419      2.28         2:1  May 10, 2022  \n",
              "3          952.63        1939.5M      4.51         3:2    2017-12-26  \n",
              "4         1493.44     8984007687      1.93         NaN  Jan 20, 2022  \n",
              "...           ...            ...       ...         ...           ...  \n",
              "199995     893.89       4184.54M      4.71         3:2  Jul 27, 2019  \n",
              "199996     659.42  5,782,458,138      1.04         3:2  Sep 13, 2021  \n",
              "199997     904.11     3104296586      3.21         NaN    2016-08-19  \n",
              "199998    1201.64       45454067      1.51         NaN    2020-06-24  \n",
              "199999     583.93      149011263      3.44         NaN    09-14-2021  \n",
              "\n",
              "[200000 rows x 12 columns]"
            ]
          },
          "execution_count": 17,
          "metadata": {},
          "output_type": "execute_result"
        }
      ],
      "source": [
        "df1"
      ]
    },
    {
      "cell_type": "code",
      "execution_count": 63,
      "metadata": {},
      "outputs": [
        {
          "name": "stdout",
          "output_type": "stream",
          "text": [
            "None\n",
            "ID                      136\n",
            "Date                    NaT\n",
            "Ticker                 PINS\n",
            "Open                 473.86\n",
            "High                 741.34\n",
            "Low                  245.77\n",
            "Close                1129.4\n",
            "Adj Close           1134.51\n",
            "Volume           3710049432\n",
            "Dividend               3.96\n",
            "Split Ratio             2:1\n",
            "Date_original     4/63/2024\n",
            "Name: 135, dtype: object\n"
          ]
        }
      ],
      "source": [
        "def encontrar_data(ticker, open_val, close_val):\n",
        "    t = yf.Ticker(ticker)\n",
        "    hist = t.history(period=\"max\")\n",
        "\n",
        "    resultado = hist[\n",
        "        (hist['Open'].round(5) == round(open_val, 2)) &\n",
        "        (hist['Close'].round(5) == round(close_val, 2))\n",
        "        \n",
        "    ]\n",
        "    if not resultado.empty:\n",
        "        return resultado.index[0].date()  # ou .strftime('%Y-%m-%d')\n",
        "    return None\n",
        "\n",
        "celtest = df1.iloc[135]\n",
        "print(encontrar_data(celtest[\"Ticker\"], celtest[\"Open\"], celtest[\"Close\"]))\n",
        "\n",
        "print(celtest)\n",
        "# Exemplo de uso:\n",
        "# data_encontrada = encontrar_data('AAPL', 150.00, 155.00, 1000000)"
      ]
    },
    {
      "cell_type": "code",
      "execution_count": null,
      "metadata": {},
      "outputs": [
        {
          "name": "stdout",
          "output_type": "stream",
          "text": [
            "Open      1.280884e+02\n",
            "High      1.282984e+02\n",
            "Low       1.226098e+02\n",
            "Close     1.255791e+02\n",
            "Volume    4.481011e+08\n",
            "Name: 2024-08-28 00:00:00-04:00, dtype: float64\n",
            "                                 Open        High         Low       Close  \\\n",
            "Date                                                                        \n",
            "2025-05-15 00:00:00-04:00  134.289993  136.300003  132.660004  134.830002   \n",
            "2025-05-16 00:00:00-04:00  136.220001  136.350006  133.460007  135.399994   \n",
            "2025-05-19 00:00:00-04:00  132.389999  135.869995  132.389999  135.570007   \n",
            "2025-05-20 00:00:00-04:00  134.289993  134.580002  132.619995  134.380005   \n",
            "2025-05-21 00:00:00-04:00  133.044998  137.399994  130.589996  131.800003   \n",
            "\n",
            "                              Volume  Dividends  Stock Splits  \n",
            "Date                                                           \n",
            "2025-05-15 00:00:00-04:00  226632600        0.0           0.0  \n",
            "2025-05-16 00:00:00-04:00  226542500        0.0           0.0  \n",
            "2025-05-19 00:00:00-04:00  193154600        0.0           0.0  \n",
            "2025-05-20 00:00:00-04:00  161514200        0.0           0.0  \n",
            "2025-05-21 00:00:00-04:00  268144764        0.0           0.0  \n"
          ]
        }
      ],
      "source": [
        "from datetime import timedelta\n",
        "\n",
        "def get_operacao_por_data_ticker(ticker, data):\n",
        "    t = yf.Ticker(ticker)\n",
        "    \n",
        "    # Garantir que a data está como datetime\n",
        "    data_dt = datetime.strptime(data, \"%Y-%m-%d\")\n",
        "    data_fim = data_dt + timedelta(days=1)\n",
        "\n",
        "    hist = t.history(start=data_dt.strftime(\"%Y-%m-%d\"), end=data_fim.strftime(\"%Y-%m-%d\"))\n",
        "    \n",
        "    if not hist.empty:\n",
        "        \n",
        "        return hist.iloc[0][['Open', 'High', 'Low', 'Close', 'Volume']]\n",
        "    else:\n",
        "        return None\n",
        "\n",
        "\n",
        "valores = get_operacao_por_data_ticker('NVDA', '2024-08-28')\n",
        "print(valores)\n",
        "\n",
        "\n",
        "t = yf.Ticker('NVDA')\n",
        "print(t.history(period=\"5d\"))\n"
      ]
    },
    {
      "cell_type": "code",
      "execution_count": null,
      "metadata": {},
      "outputs": [
        {
          "name": "stdout",
          "output_type": "stream",
          "text": [
            "99588\n",
            "49.794\n"
          ]
        },
        {
          "data": {
            "application/vnd.plotly.v1+json": {
              "config": {
                "plotlyServerURL": "https://plot.ly"
              },
              "data": [
                {
                  "hovertemplate": "High=%{x}<br>Densidade=%{y}<extra></extra>",
                  "legendgroup": "",
                  "line": {
                    "color": "#636efa",
                    "dash": "solid"
                  },
                  "marker": {
                    "symbol": "circle"
                  },
                  "mode": "lines",
                  "name": "",
                  "orientation": "v",
                  "showlegend": false,
                  "type": "scatter",
                  "x": {
                    "bdata": "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",
                    "dtype": "f8"
                  },
                  "xaxis": "x",
                  "y": {
                    "bdata": "Dp612E50Nj89AWseeOQ3P7oFRMLXUjk/g7eg/S29Oj8AIRgWTyE8P03cxlItfT0/f7HH/+HOPj+zljCfWgpAP8W60jaSpkA/Tskmg3M7QT8lTFjqeMhBP3TqAUY8TUI/se7h3nbJQj/Ud0GnAD1DP/zo38bOp0M/Z/AvkPEJRD/vjk/6kWNEP6CBT73utEQ/es4bL1n+RD/cVb7+MUBFP6697OnlekU/ReoQhuquRT9ot3oyu9xFP/q7akXWBEY/JixogbonRj+ZkhLc5EVGP3Wej5vOX0Y/8ykAzOt1Rj9hry4LqohGP8YsAaZvmEY/lw4sAZulRj956DJFgrBGP+sr50RzuUY/e249lbPARj+E82vNgMZGPw4wuuYQy0Y/l1ghtJLORj9VRcJqLtFGP/eVLzUG00Y/1SmJzDbURj9GdVgT2NRGPx5r+K791EY/hB0QnbfURj9lIUHDEtRGP7KloXcZ00Y/8K7wANTRRj9JQ60NSdBGPyE8XiF+zkY//fJt93fMRj99zgrbOspGP9+fifPKx0Y/yqTWhCzFRj/XhpkjZMJGPwfs0tx2v0Y/kULnUGq8Rj9thkLCRLlGP/EeARgNtkY/c+9P1cqyRj8hI30Ghq9GPxgg+CRHrEY/0tG88xapRj/+otlV/qVGPyhk5CAGo0Y/HvhG7TagRj/rVE/mmJ1GPxw235szm0Y/2zl31w2ZRj/1PCl2LZdGP7hzwEiXlUY/wBMn+06URj9HgMMDV5NGP8TFNpuwkkY/+PiVvFuSRj+wv+stV5JGP/b6iJCgkkY/VNtteDSTRj8fe+CJDpRGP5YRHZwplUY/ppnt33+WRj8O0uMIC5hGPyIC6HfEmUY/P27QZaWbRj9l6L8Mp51GP1zEHM/Cn0Y/xqALW/KhRj9IP3rJL6RGP0dw7bd1pkY/19xwXL+oRj/00zeTCKtGP/35seVNrUY/Yf4Mi4yvRj82slNiwrFGPwrMkebts0Y/o/OXHQ62Rj/a2SuCIrhGPxmBmeoqukY/4MG7bCe8Rj8tP6hAGL5GP90yNaP9v0Y/6aKMudfBRj8OYPB2psNGP1FetYVpxUY/spxUNCDHRj/2OD5nychGP44l449jykY/6WguqezLRj91bms5Ys1GPyTeXlnBzkY/JDMmwAbQRj8c0UnTLtFGPwXuT7o10kY/i6kMdRfTRj+HN+Xzz9NGP3f1PzFb1EY/eYFnS7XURj9/SDme2tRGP/pVDdzH1EY/y8ZaJXrURj+Hiq8e79NGP2S5oAQl00Y/IARivRrSRj9Zh7Xnz9BGP3fu4uZEz0Y/21he63rNRj+nh7/3c8tGPzoso+EyyUY/eOMNTrvGRj/SoO2oEcRGP4dcZRc7wUY/acCpZD2+Rj9k3lzpHrtGP3taim3mt0Y//QWjBZu0Rj8C0RvrQ7FGP1/3m1HorUY/oq/sOY+qRj/xHRxEP6dGP0ZQeIL+o0Y/KAwpT9KgRj8qwzsmv51GP8CZ6YXImkY/3n261vCXRj/NMOpcOZVGP5gqHzSikkY/yscaViqQRj+HvpOsz41GP+le7S2Pi0Y/w7H+A2WJRj+ISKO7TIdGPxcoY3tBhUY/iNklPz6DRj/gMaMWPoFGP4gkHmQ8f0Y/mdnsGDV9Rj+iQmXtJHtGP3bo9JEJeUY/wY9y1+F2Rj9CoRTNrXRGP8Jz4tJuckY/EIXrnydwRj8whAg83G1GP0WeYe2Ra0Y/wn9mGk9pRj+jh0shG2dGP3e3eCb+ZEY/dxag2wBjRj9v2mhBLGFGPxu3wWWJX0Y/IFD/ICFeRj+RC+zT+1xGPwI/3SghXEY/Tuu/2ZdbRj/gOd58ZVtGP6JE4FmOW0Y/DjlASBVcRj+othWY+1xGP5kTwQVBXkY/oo2fuONfRj9hApFM4GFGPwLLueUxZEY/tbaTTdJmRj8ojhMYumlGP0OAaM/gbEY/CJarJD1wRj829LgjxXNGP4QfZWhud0Y/wsFNUy57Rj+EHKc8+n5GP39Am6PHgkY/ZW0TWYyGRj+bZRKlPopGP6SPG2bVjUY/ZP94KkiRRj8K9oRDj5RGP/HnZNOjl0Y/IoLg1X+aRj+m5SolHp1GP3xIjXt6n0Y/ezzncpGhRj8dteqCYKNGP7jP2f7lpEY/56xdEyGmRj/D8tPEEadGP8xAMO64p0Y/TzJNQBioRj/sGUpBMqhGP+MkXEsKqEY/mSxPiqSnRj+bLtf2BadGP9R3yU40pkY/1uxcCTalRj+4fatGEqRGP/dS2rnQokY/zmeIjXmhRj/J9GhCFaBGP8R2PIisnkY/U0SsEUidRj8aId1j8JtGP9b42KKtmkY/SUQzXIeZRj/YroJRhJhGP+9pc0Sql0Y/CklNxv2WRj/ros4MgpZGP6vkL844lkY/qAcEJiKWRj/GN3iEPJZGP3INMqmElkY/87y5qvWWRj+cO/4KiZdGPyyzF9k2mEY/JiX73/WYRj+Kylzhu5lGPyioiNt9mkY/tNeGWDCbRj8BpHbEx5tGP8ofrsg4nEY/kyHfqHicRj9OGUuffZxGPwzp8DQ/nEY//YidkrabRj9xROTH3ppGPz9qPgW1mUY/zCrsxjiYRj+Loqbua5ZGP/KnwspSlEY/emMHCvSRRj8gxCycWI9GP40trX+LjEY/bOVKfpmJRj9V4lTakIZGP+vnTu+Ag0Y/Z6QfyXmARj/c20W1i31GPwRSz9HGekY//vbdnTp4Rj8UGHGP9XVGPy8z6rEEdEY/FMJiUHNyRj948mauSnFGP99RD9GRcEY/56vIWU1wRj9nFGZzf3BGP3zXZdEncUY/cQCnwENyRj9pPzJIznNGPxIENFjAdUY//1vcBBF4Rj9EfI7KtXpGP7jcn9iifUY/JxTdX8uARj/NBiDiIYRGP8O3c4CYh0Y/RY+KRSGLRj9L+aVqro5GPyNDdZUykkY/U0feDaGVRj+SFBDr7ZhGP4MOqDcOnEY/DcIQDfieRj9hLJOmoqFGPxZm1GwGpEY/Rp2p+hymRj8WHUoc4adGP4bE88lOqUY/kDkTH2OqRj9mlPBOHKtGP3PMxZd5q0Y/cRMBNXurRj8lMU1RIqtGP//Zz/hwqkY/N1zkC2qpRj9wxnEyEahGP41z2M9qpkY//d5U93ukRj9lIp1gSqJGP2r6a1zcn0Y/iYSfyDidRj/QDIsDZ5pGP0SJGd5ul0Y/Rk9ijFiURj+FKlqULJFGP7q0WLrzjUY/BIw867aKRj+6YhAkf4dGP7ExL1dVhEY/a2cGT0KBRj/YObmOTn5GP7pjDzGCe0Y/cxBCxuR4Rj/51GExfXZGP+dSNoZRdEY/UwCZ6GZyRj+NS2ZuwXBGP8uHMAVkb0Y/5n3kXFBuRj/E0IbYhm1GP1EjGoYGbUY/jxqYHs1sRj9VHLMO12xGP1V/1YgfbUY/tpWGoKBtRj/jkglvU25GP7aLsEAwb0Y/tuoCyi5wRj+SCX5jRnFGPw8qZEpuckY/9J7F5J1zRj/KlrQGzXRGP0MAaTb0dUY//WAB7Qx3Rj+yW4nREXhGPxLo/+v+eEY/M5E+ztF5Rj+hBeCwiXpGP1sUloIne0Y/ShPE6K17Rj9IM6gwIXxGP09Q4TCHfEY/0YarG+d8Rj+dbL9CSX1GPw+AUc62fUY/rSo7aTl+Rj+899bk2n5GP21XiNekf0Y/g6c+OaCARj/9UX4B1YFGP+r6lMpJg0Y/YyyUfQOFRj/Xcn4KBYdGP9LtvS9PiUY/5AeCU+CLRj+paQhxtI5GP2YTIBvFkUY/wTFslAmVRj+RjBb9dphGP3/ByJQAnEY/2HfxDpifRj98KJn2LaNGPzz+YR6ypkY/dXbIGBSqRj9K+1y0Q61GP4pOf3cxsEY/gZslF8+yRj+hBmvkD7VGP+GzAi3ptkY/SNA3i1K4Rj8L1tIiRrlGPwFiB8nAuUY/JKdqFsK5Rj8v79ViTLlGP0R996tkuEY/AaAjaBK3Rj/F5a1HX7VGPwK3pudWs0Y/LJFFeQaxRj+c9odhfK5GPzopn9THq0Y/UYGscPioRj/AhQnbHaZGPwwy9GJHo0Y/uw35q4OgRj+ekOVh4J1GP6C5d/dpm0Y/k6ltcCuZRj/X1hI3LpdGPzdc9/x5lUY/Cf8mphSURj+Tnvs9ApNGP1TgivREkkY/fMWuI92RRj/0kMBayZFGP5+sRnAGkkY/zOwJmY+SRj/chDyEXpNGP4rXjXxrlEY/CJgqjq2VRj9Ht7uxGpdGP+IzdPynmEY/V4kl1UmaRj8M2CQu9JtGPx6Ri8OanUY/wY8SXTGfRj8EpXQSrKBGPzUh9ZD/oUY/WBNfYCGjRj/HxZklCKRGP0AozOCrpEY/oT//JAalRj98wUFHEqVGP/2vfIPNpEY/NDJwFTekRj++ia1EUKNGP6qz0WIcokY/v/y9u6CgRj+UMAp45J5GP3tpaHLwnEY/wAcnAc+aRj9ZqGS1i5hGP83y3xEzlkY/VuWOO9KTRj+9J1WmdpFGPysnRsAtj0Y/TlTfnQSNRj/tZ5GpB4tGPwTCx1hCiUY/m7Jk6L6HRj+KwmMihoZGPzqMAi6fhUY/D194aw+FRj92j+db2oRGP27N05UBhUY/aQ8KxoSFRj+61oq8YYZGP9f7sYSUh0Y/Wm2JhxeJRj8XHvG244pGP1END8DwjEY/EWhQQzWPRj/DxygQp5FGP0CormI7lEY/v8EzIeeWRj/MiAMYn5lGPzkUiDFYnEY/y2EzqQefRj8CFK43o6FGPyZY8jYhpEY/XkcfvXimRj+NpPSsoahGP2udBruUqkY/a8DUZkusRj+pYQbnv61GPxmaIgjtrkY/6X4s/c2vRj9UBqAhXrBGP6GhZKyYsEY/cHRrU3iwRj+ljtzf9q9GPxRN9LIMr0Y/T9gDPLCtRj/+sHBg1atGP3qbEddsqUY/WxbkeGOmRj/8zsyJoaJGP9gk5fwJnkY/TOW7uHmYRj9WzOHgxpFGP3SHEivAiUY/xlE9RyyARj+WTo9iyXRGP/HDXM5MZ0Y/6CNL1GJXRj+mjVjBrkRGP/8FOjHLLkY/6Rn1okoVRj8hNoNeuPdFP1hxqLGZ1UU/Jaruh2+uRT/BDepeuIFFPw1NmJTyTkU/fgnlCZ8VRT/1MkQPRNVEP29nEI1wjUQ/cH4jVb89RD+CqCyH2uVDP4EQ2e1+hUM/B404OH8cQz/ioxvxxqpCP3zMrRVdMEI/F55tLWatQT8vMPLHJSJBPzw9rEj/jkA//83e2+voPz9I3sUNWKY+P7tQhqbCVz0/RGWZH+H+Oz9w+8F0mJ06P40uEEL1NTk/EbP2rCLKNz+BEfBaYFw2Pw==",
                    "dtype": "f8"
                  },
                  "yaxis": "y"
                }
              ],
              "layout": {
                "legend": {
                  "tracegroupgap": 0
                },
                "template": {
                  "data": {
                    "bar": [
                      {
                        "error_x": {
                          "color": "#2a3f5f"
                        },
                        "error_y": {
                          "color": "#2a3f5f"
                        },
                        "marker": {
                          "line": {
                            "color": "#E5ECF6",
                            "width": 0.5
                          },
                          "pattern": {
                            "fillmode": "overlay",
                            "size": 10,
                            "solidity": 0.2
                          }
                        },
                        "type": "bar"
                      }
                    ],
                    "barpolar": [
                      {
                        "marker": {
                          "line": {
                            "color": "#E5ECF6",
                            "width": 0.5
                          },
                          "pattern": {
                            "fillmode": "overlay",
                            "size": 10,
                            "solidity": 0.2
                          }
                        },
                        "type": "barpolar"
                      }
                    ],
                    "carpet": [
                      {
                        "aaxis": {
                          "endlinecolor": "#2a3f5f",
                          "gridcolor": "white",
                          "linecolor": "white",
                          "minorgridcolor": "white",
                          "startlinecolor": "#2a3f5f"
                        },
                        "baxis": {
                          "endlinecolor": "#2a3f5f",
                          "gridcolor": "white",
                          "linecolor": "white",
                          "minorgridcolor": "white",
                          "startlinecolor": "#2a3f5f"
                        },
                        "type": "carpet"
                      }
                    ],
                    "choropleth": [
                      {
                        "colorbar": {
                          "outlinewidth": 0,
                          "ticks": ""
                        },
                        "type": "choropleth"
                      }
                    ],
                    "contour": [
                      {
                        "colorbar": {
                          "outlinewidth": 0,
                          "ticks": ""
                        },
                        "colorscale": [
                          [
                            0,
                            "#0d0887"
                          ],
                          [
                            0.1111111111111111,
                            "#46039f"
                          ],
                          [
                            0.2222222222222222,
                            "#7201a8"
                          ],
                          [
                            0.3333333333333333,
                            "#9c179e"
                          ],
                          [
                            0.4444444444444444,
                            "#bd3786"
                          ],
                          [
                            0.5555555555555556,
                            "#d8576b"
                          ],
                          [
                            0.6666666666666666,
                            "#ed7953"
                          ],
                          [
                            0.7777777777777778,
                            "#fb9f3a"
                          ],
                          [
                            0.8888888888888888,
                            "#fdca26"
                          ],
                          [
                            1,
                            "#f0f921"
                          ]
                        ],
                        "type": "contour"
                      }
                    ],
                    "contourcarpet": [
                      {
                        "colorbar": {
                          "outlinewidth": 0,
                          "ticks": ""
                        },
                        "type": "contourcarpet"
                      }
                    ],
                    "heatmap": [
                      {
                        "colorbar": {
                          "outlinewidth": 0,
                          "ticks": ""
                        },
                        "colorscale": [
                          [
                            0,
                            "#0d0887"
                          ],
                          [
                            0.1111111111111111,
                            "#46039f"
                          ],
                          [
                            0.2222222222222222,
                            "#7201a8"
                          ],
                          [
                            0.3333333333333333,
                            "#9c179e"
                          ],
                          [
                            0.4444444444444444,
                            "#bd3786"
                          ],
                          [
                            0.5555555555555556,
                            "#d8576b"
                          ],
                          [
                            0.6666666666666666,
                            "#ed7953"
                          ],
                          [
                            0.7777777777777778,
                            "#fb9f3a"
                          ],
                          [
                            0.8888888888888888,
                            "#fdca26"
                          ],
                          [
                            1,
                            "#f0f921"
                          ]
                        ],
                        "type": "heatmap"
                      }
                    ],
                    "histogram": [
                      {
                        "marker": {
                          "pattern": {
                            "fillmode": "overlay",
                            "size": 10,
                            "solidity": 0.2
                          }
                        },
                        "type": "histogram"
                      }
                    ],
                    "histogram2d": [
                      {
                        "colorbar": {
                          "outlinewidth": 0,
                          "ticks": ""
                        },
                        "colorscale": [
                          [
                            0,
                            "#0d0887"
                          ],
                          [
                            0.1111111111111111,
                            "#46039f"
                          ],
                          [
                            0.2222222222222222,
                            "#7201a8"
                          ],
                          [
                            0.3333333333333333,
                            "#9c179e"
                          ],
                          [
                            0.4444444444444444,
                            "#bd3786"
                          ],
                          [
                            0.5555555555555556,
                            "#d8576b"
                          ],
                          [
                            0.6666666666666666,
                            "#ed7953"
                          ],
                          [
                            0.7777777777777778,
                            "#fb9f3a"
                          ],
                          [
                            0.8888888888888888,
                            "#fdca26"
                          ],
                          [
                            1,
                            "#f0f921"
                          ]
                        ],
                        "type": "histogram2d"
                      }
                    ],
                    "histogram2dcontour": [
                      {
                        "colorbar": {
                          "outlinewidth": 0,
                          "ticks": ""
                        },
                        "colorscale": [
                          [
                            0,
                            "#0d0887"
                          ],
                          [
                            0.1111111111111111,
                            "#46039f"
                          ],
                          [
                            0.2222222222222222,
                            "#7201a8"
                          ],
                          [
                            0.3333333333333333,
                            "#9c179e"
                          ],
                          [
                            0.4444444444444444,
                            "#bd3786"
                          ],
                          [
                            0.5555555555555556,
                            "#d8576b"
                          ],
                          [
                            0.6666666666666666,
                            "#ed7953"
                          ],
                          [
                            0.7777777777777778,
                            "#fb9f3a"
                          ],
                          [
                            0.8888888888888888,
                            "#fdca26"
                          ],
                          [
                            1,
                            "#f0f921"
                          ]
                        ],
                        "type": "histogram2dcontour"
                      }
                    ],
                    "mesh3d": [
                      {
                        "colorbar": {
                          "outlinewidth": 0,
                          "ticks": ""
                        },
                        "type": "mesh3d"
                      }
                    ],
                    "parcoords": [
                      {
                        "line": {
                          "colorbar": {
                            "outlinewidth": 0,
                            "ticks": ""
                          }
                        },
                        "type": "parcoords"
                      }
                    ],
                    "pie": [
                      {
                        "automargin": true,
                        "type": "pie"
                      }
                    ],
                    "scatter": [
                      {
                        "fillpattern": {
                          "fillmode": "overlay",
                          "size": 10,
                          "solidity": 0.2
                        },
                        "type": "scatter"
                      }
                    ],
                    "scatter3d": [
                      {
                        "line": {
                          "colorbar": {
                            "outlinewidth": 0,
                            "ticks": ""
                          }
                        },
                        "marker": {
                          "colorbar": {
                            "outlinewidth": 0,
                            "ticks": ""
                          }
                        },
                        "type": "scatter3d"
                      }
                    ],
                    "scattercarpet": [
                      {
                        "marker": {
                          "colorbar": {
                            "outlinewidth": 0,
                            "ticks": ""
                          }
                        },
                        "type": "scattercarpet"
                      }
                    ],
                    "scattergeo": [
                      {
                        "marker": {
                          "colorbar": {
                            "outlinewidth": 0,
                            "ticks": ""
                          }
                        },
                        "type": "scattergeo"
                      }
                    ],
                    "scattergl": [
                      {
                        "marker": {
                          "colorbar": {
                            "outlinewidth": 0,
                            "ticks": ""
                          }
                        },
                        "type": "scattergl"
                      }
                    ],
                    "scattermap": [
                      {
                        "marker": {
                          "colorbar": {
                            "outlinewidth": 0,
                            "ticks": ""
                          }
                        },
                        "type": "scattermap"
                      }
                    ],
                    "scattermapbox": [
                      {
                        "marker": {
                          "colorbar": {
                            "outlinewidth": 0,
                            "ticks": ""
                          }
                        },
                        "type": "scattermapbox"
                      }
                    ],
                    "scatterpolar": [
                      {
                        "marker": {
                          "colorbar": {
                            "outlinewidth": 0,
                            "ticks": ""
                          }
                        },
                        "type": "scatterpolar"
                      }
                    ],
                    "scatterpolargl": [
                      {
                        "marker": {
                          "colorbar": {
                            "outlinewidth": 0,
                            "ticks": ""
                          }
                        },
                        "type": "scatterpolargl"
                      }
                    ],
                    "scatterternary": [
                      {
                        "marker": {
                          "colorbar": {
                            "outlinewidth": 0,
                            "ticks": ""
                          }
                        },
                        "type": "scatterternary"
                      }
                    ],
                    "surface": [
                      {
                        "colorbar": {
                          "outlinewidth": 0,
                          "ticks": ""
                        },
                        "colorscale": [
                          [
                            0,
                            "#0d0887"
                          ],
                          [
                            0.1111111111111111,
                            "#46039f"
                          ],
                          [
                            0.2222222222222222,
                            "#7201a8"
                          ],
                          [
                            0.3333333333333333,
                            "#9c179e"
                          ],
                          [
                            0.4444444444444444,
                            "#bd3786"
                          ],
                          [
                            0.5555555555555556,
                            "#d8576b"
                          ],
                          [
                            0.6666666666666666,
                            "#ed7953"
                          ],
                          [
                            0.7777777777777778,
                            "#fb9f3a"
                          ],
                          [
                            0.8888888888888888,
                            "#fdca26"
                          ],
                          [
                            1,
                            "#f0f921"
                          ]
                        ],
                        "type": "surface"
                      }
                    ],
                    "table": [
                      {
                        "cells": {
                          "fill": {
                            "color": "#EBF0F8"
                          },
                          "line": {
                            "color": "white"
                          }
                        },
                        "header": {
                          "fill": {
                            "color": "#C8D4E3"
                          },
                          "line": {
                            "color": "white"
                          }
                        },
                        "type": "table"
                      }
                    ]
                  },
                  "layout": {
                    "annotationdefaults": {
                      "arrowcolor": "#2a3f5f",
                      "arrowhead": 0,
                      "arrowwidth": 1
                    },
                    "autotypenumbers": "strict",
                    "coloraxis": {
                      "colorbar": {
                        "outlinewidth": 0,
                        "ticks": ""
                      }
                    },
                    "colorscale": {
                      "diverging": [
                        [
                          0,
                          "#8e0152"
                        ],
                        [
                          0.1,
                          "#c51b7d"
                        ],
                        [
                          0.2,
                          "#de77ae"
                        ],
                        [
                          0.3,
                          "#f1b6da"
                        ],
                        [
                          0.4,
                          "#fde0ef"
                        ],
                        [
                          0.5,
                          "#f7f7f7"
                        ],
                        [
                          0.6,
                          "#e6f5d0"
                        ],
                        [
                          0.7,
                          "#b8e186"
                        ],
                        [
                          0.8,
                          "#7fbc41"
                        ],
                        [
                          0.9,
                          "#4d9221"
                        ],
                        [
                          1,
                          "#276419"
                        ]
                      ],
                      "sequential": [
                        [
                          0,
                          "#0d0887"
                        ],
                        [
                          0.1111111111111111,
                          "#46039f"
                        ],
                        [
                          0.2222222222222222,
                          "#7201a8"
                        ],
                        [
                          0.3333333333333333,
                          "#9c179e"
                        ],
                        [
                          0.4444444444444444,
                          "#bd3786"
                        ],
                        [
                          0.5555555555555556,
                          "#d8576b"
                        ],
                        [
                          0.6666666666666666,
                          "#ed7953"
                        ],
                        [
                          0.7777777777777778,
                          "#fb9f3a"
                        ],
                        [
                          0.8888888888888888,
                          "#fdca26"
                        ],
                        [
                          1,
                          "#f0f921"
                        ]
                      ],
                      "sequentialminus": [
                        [
                          0,
                          "#0d0887"
                        ],
                        [
                          0.1111111111111111,
                          "#46039f"
                        ],
                        [
                          0.2222222222222222,
                          "#7201a8"
                        ],
                        [
                          0.3333333333333333,
                          "#9c179e"
                        ],
                        [
                          0.4444444444444444,
                          "#bd3786"
                        ],
                        [
                          0.5555555555555556,
                          "#d8576b"
                        ],
                        [
                          0.6666666666666666,
                          "#ed7953"
                        ],
                        [
                          0.7777777777777778,
                          "#fb9f3a"
                        ],
                        [
                          0.8888888888888888,
                          "#fdca26"
                        ],
                        [
                          1,
                          "#f0f921"
                        ]
                      ]
                    },
                    "colorway": [
                      "#636efa",
                      "#EF553B",
                      "#00cc96",
                      "#ab63fa",
                      "#FFA15A",
                      "#19d3f3",
                      "#FF6692",
                      "#B6E880",
                      "#FF97FF",
                      "#FECB52"
                    ],
                    "font": {
                      "color": "#2a3f5f"
                    },
                    "geo": {
                      "bgcolor": "white",
                      "lakecolor": "white",
                      "landcolor": "#E5ECF6",
                      "showlakes": true,
                      "showland": true,
                      "subunitcolor": "white"
                    },
                    "hoverlabel": {
                      "align": "left"
                    },
                    "hovermode": "closest",
                    "mapbox": {
                      "style": "light"
                    },
                    "paper_bgcolor": "white",
                    "plot_bgcolor": "#E5ECF6",
                    "polar": {
                      "angularaxis": {
                        "gridcolor": "white",
                        "linecolor": "white",
                        "ticks": ""
                      },
                      "bgcolor": "#E5ECF6",
                      "radialaxis": {
                        "gridcolor": "white",
                        "linecolor": "white",
                        "ticks": ""
                      }
                    },
                    "scene": {
                      "xaxis": {
                        "backgroundcolor": "#E5ECF6",
                        "gridcolor": "white",
                        "gridwidth": 2,
                        "linecolor": "white",
                        "showbackground": true,
                        "ticks": "",
                        "zerolinecolor": "white"
                      },
                      "yaxis": {
                        "backgroundcolor": "#E5ECF6",
                        "gridcolor": "white",
                        "gridwidth": 2,
                        "linecolor": "white",
                        "showbackground": true,
                        "ticks": "",
                        "zerolinecolor": "white"
                      },
                      "zaxis": {
                        "backgroundcolor": "#E5ECF6",
                        "gridcolor": "white",
                        "gridwidth": 2,
                        "linecolor": "white",
                        "showbackground": true,
                        "ticks": "",
                        "zerolinecolor": "white"
                      }
                    },
                    "shapedefaults": {
                      "line": {
                        "color": "#2a3f5f"
                      }
                    },
                    "ternary": {
                      "aaxis": {
                        "gridcolor": "white",
                        "linecolor": "white",
                        "ticks": ""
                      },
                      "baxis": {
                        "gridcolor": "white",
                        "linecolor": "white",
                        "ticks": ""
                      },
                      "bgcolor": "#E5ECF6",
                      "caxis": {
                        "gridcolor": "white",
                        "linecolor": "white",
                        "ticks": ""
                      }
                    },
                    "title": {
                      "x": 0.05
                    },
                    "xaxis": {
                      "automargin": true,
                      "gridcolor": "white",
                      "linecolor": "white",
                      "ticks": "",
                      "title": {
                        "standoff": 15
                      },
                      "zerolinecolor": "white",
                      "zerolinewidth": 2
                    },
                    "yaxis": {
                      "automargin": true,
                      "gridcolor": "white",
                      "linecolor": "white",
                      "ticks": "",
                      "title": {
                        "standoff": 15
                      },
                      "zerolinecolor": "white",
                      "zerolinewidth": 2
                    }
                  }
                },
                "title": {
                  "text": "Curva de Densidade dos Valores"
                },
                "xaxis": {
                  "anchor": "y",
                  "domain": [
                    0,
                    1
                  ],
                  "title": {
                    "text": "High"
                  }
                },
                "yaxis": {
                  "anchor": "x",
                  "domain": [
                    0,
                    1
                  ],
                  "title": {
                    "text": "Densidade"
                  }
                }
              }
            }
          },
          "metadata": {},
          "output_type": "display_data"
        }
      ],
      "source": [
        "# Exemplo: contar quantos valores em 'coluna_a' são maiores que em 'coluna_b'\n",
        "count = (df1['High'] > df1['Open']).sum()\n",
        "print(count)\n",
        "print((count/len(df1))*100)\n",
        "\n",
        "\n",
        "\n",
        "\n",
        "from scipy.stats import gaussian_kde\n",
        "\n",
        "\n",
        "x = df1['High'].dropna()  \n",
        "kde = gaussian_kde(x)\n",
        "x_range = np.linspace(x.min(), x.max(), 500)  \n",
        "y_density = kde(x_range)  \n",
        "\n",
        "\n",
        "fig = px.line(x=x_range, y=y_density, title='Curva de Densidade dos Valores', labels={'x': 'High', 'y': 'Densidade'})\n",
        "fig.show()"
      ]
    },
    {
      "cell_type": "code",
      "execution_count": 32,
      "metadata": {},
      "outputs": [
        {
          "name": "stdout",
          "output_type": "stream",
          "text": [
            "Volume\n",
            "{'K', 'n', '.', 'l', 'i', 'b', 'B', 'M', 'o', ' ', ','}\n"
          ]
        }
      ],
      "source": [
        "# {'K', 'n', '.', 'l', 'i', 'b', 'B', 'M', 'o', ' ', ','}\n",
        "\n",
        "\n",
        "get_non_numeric_characters(df1[\"Volume\"].apply( lambda x: x.strip()))"
      ]
    }
  ],
  "metadata": {
    "colab": {
      "provenance": []
    },
    "kernelspec": {
      "display_name": "Python 3",
      "name": "python3"
    },
    "language_info": {
      "codemirror_mode": {
        "name": "ipython",
        "version": 3
      },
      "file_extension": ".py",
      "mimetype": "text/x-python",
      "name": "python",
      "nbconvert_exporter": "python",
      "pygments_lexer": "ipython3",
      "version": "3.12.10"
    }
  },
  "nbformat": 4,
  "nbformat_minor": 0
}
